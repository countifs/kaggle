{
  "nbformat": 4,
  "nbformat_minor": 0,
  "metadata": {
    "colab": {
      "name": "L&T Vehicle Loan Default Prediction.ipynb",
      "provenance": [],
      "collapsed_sections": [],
      "toc_visible": true,
      "authorship_tag": "ABX9TyNbhf3/C0ZCCUEP9N2SDNsg",
      "include_colab_link": true
    },
    "kernelspec": {
      "name": "python3",
      "display_name": "Python 3"
    },
    "language_info": {
      "name": "python"
    },
    "accelerator": "GPU"
  },
  "cells": [
    {
      "cell_type": "markdown",
      "metadata": {
        "id": "view-in-github",
        "colab_type": "text"
      },
      "source": [
        "<a href=\"https://colab.research.google.com/github/countifs/kaggle/blob/main/L%26T_Vehicle_Loan_Default_Prediction.ipynb\" target=\"_parent\"><img src=\"https://colab.research.google.com/assets/colab-badge.svg\" alt=\"Open In Colab\"/></a>"
      ]
    },
    {
      "cell_type": "markdown",
      "source": [
        "# **1. 작업환경 설정**"
      ],
      "metadata": {
        "id": "SnSKOTPtonmD"
      }
    },
    {
      "cell_type": "markdown",
      "source": [
        "## **1.1 런타임 유형 변경 : None → GPU**"
      ],
      "metadata": {
        "id": "sCG7l83bso0G"
      }
    },
    {
      "cell_type": "markdown",
      "source": [
        "## **1.2 코랩 런타임 연결 유지 및 출력 삭제 (Colab)**"
      ],
      "metadata": {
        "id": "SsxSx8eRssfg"
      }
    },
    {
      "cell_type": "markdown",
      "source": [
        "```html\n",
        "function ClickConnect() {\n",
        "    var buttons = document.querySelectorAll(\"colab-dialog.yes-no-dialog paper-button#cancel\"); \n",
        "    buttons.forEach(function(btn) { \n",
        "        btn.click(); \n",
        "    }); \n",
        "    console.log(\"1분마다 자동 재연결\"); \n",
        "    document.querySelector(\"colab-toolbar-button#connect\").click(); \n",
        "} \n",
        "setInterval(ClickConnect,1000*60);\n",
        "```"
      ],
      "metadata": {
        "id": "BwtTMzJxtND-"
      }
    },
    {
      "cell_type": "markdown",
      "source": [
        "## **1.3 구글 드라이브 마운트**"
      ],
      "metadata": {
        "id": "6ejgGe4vn3X9"
      }
    },
    {
      "cell_type": "code",
      "execution_count": 1,
      "metadata": {
        "colab": {
          "base_uri": "https://localhost:8080/"
        },
        "id": "3Ug_ULDmnX7H",
        "outputId": "b4c18ccb-7818-42c4-cc44-d3ac193ac1ab"
      },
      "outputs": [
        {
          "output_type": "stream",
          "name": "stdout",
          "text": [
            "Mounted at /content/drive\n"
          ]
        }
      ],
      "source": [
        "import os\n",
        "from google.colab import drive\n",
        "drive.mount('/content/drive')"
      ]
    },
    {
      "cell_type": "markdown",
      "source": [
        "## **1.4 작업경로 변경**"
      ],
      "metadata": {
        "id": "Xc3x67bKn14X"
      }
    },
    {
      "cell_type": "code",
      "source": [
        "print('> 변경 전 경로 : ' , os.getcwd())\n",
        "os.chdir(input())\n",
        "print('> 변경 후 경로 : ' , os.getcwd())"
      ],
      "metadata": {
        "colab": {
          "base_uri": "https://localhost:8080/"
        },
        "id": "ADyo8uiFnaUj",
        "outputId": "4ff15c37-44ee-4353-99e2-c21ad641f548"
      },
      "execution_count": 2,
      "outputs": [
        {
          "output_type": "stream",
          "name": "stdout",
          "text": [
            "> 변경 전 경로 :  /content\n",
            "/content/drive/MyDrive/kaggle/2. L&T Vehicle Loan Default Prediction\n",
            "> 변경 후 경로 :  /content/drive/MyDrive/kaggle/2. L&T Vehicle Loan Default Prediction\n"
          ]
        }
      ]
    },
    {
      "cell_type": "markdown",
      "source": [
        "## **1.5 라이브러리 불러오기**"
      ],
      "metadata": {
        "id": "Qtp5fsaUrqFy"
      }
    },
    {
      "cell_type": "code",
      "source": [
        "# loading Common Model Algorithms\n",
        "\n",
        "from sklearn.linear_model import LogisticRegression\n",
        "from sklearn.preprocessing import LabelEncoder\n",
        "from sklearn.neighbors import KNeighborsClassifier\n",
        "from sklearn.svm import SVC,LinearSVC\n",
        "from sklearn.ensemble import RandomForestClassifier\n",
        "from sklearn.naive_bayes import GaussianNB\n",
        "from sklearn.linear_model import Perceptron\n",
        "from sklearn.linear_model import SGDClassifier\n",
        "from sklearn.tree import DecisionTreeClassifier\n",
        "from sklearn.ensemble import RandomForestClassifier,BaggingClassifier,AdaBoostClassifier,GradientBoostingClassifier\n",
        "from sklearn.model_selection import StratifiedShuffleSplit\n",
        "from sklearn.model_selection import train_test_split\n",
        "from sklearn.model_selection import train_test_split\n",
        "from sklearn.metrics import precision_score, recall_score, f1_score,accuracy_score\n",
        "from sklearn.metrics import confusion_matrix\n",
        "from sklearn.datasets import load_digits\n",
        "from sklearn import tree\n",
        "\n",
        "#Visualization\n",
        "import matplotlib as mpl\n",
        "import matplotlib.pyplot as plt\n",
        "import matplotlib.pylab as pylab\n",
        "import seaborn as sns"
      ],
      "metadata": {
        "id": "Ay7bcdmNrr6f"
      },
      "execution_count": 4,
      "outputs": []
    },
    {
      "cell_type": "markdown",
      "source": [
        "# **2. 데이터 준비**"
      ],
      "metadata": {
        "id": "CLT0xwg4nomw"
      }
    },
    {
      "cell_type": "code",
      "source": [
        "train_df= pd.read_csv('train.csv')\n",
        "test_df= pd.read_csv('test.csv')"
      ],
      "metadata": {
        "colab": {
          "base_uri": "https://localhost:8080/",
          "height": 184
        },
        "id": "YSrWrXZ5oWtq",
        "outputId": "bc2d3b81-3bde-4bee-8c65-34580e61f2b8"
      },
      "execution_count": 3,
      "outputs": [
        {
          "output_type": "error",
          "ename": "NameError",
          "evalue": "ignored",
          "traceback": [
            "\u001b[0;31m---------------------------------------------------------------------------\u001b[0m",
            "\u001b[0;31mNameError\u001b[0m                                 Traceback (most recent call last)",
            "\u001b[0;32m<ipython-input-3-21b7caf15db6>\u001b[0m in \u001b[0;36m<module>\u001b[0;34m()\u001b[0m\n\u001b[0;32m----> 1\u001b[0;31m \u001b[0mtrain_df\u001b[0m\u001b[0;34m=\u001b[0m \u001b[0mpd\u001b[0m\u001b[0;34m.\u001b[0m\u001b[0mread_csv\u001b[0m\u001b[0;34m(\u001b[0m\u001b[0;34m'train.csv'\u001b[0m\u001b[0;34m)\u001b[0m\u001b[0;34m\u001b[0m\u001b[0;34m\u001b[0m\u001b[0m\n\u001b[0m\u001b[1;32m      2\u001b[0m \u001b[0mtest_df\u001b[0m\u001b[0;34m=\u001b[0m \u001b[0mpd\u001b[0m\u001b[0;34m.\u001b[0m\u001b[0mread_csv\u001b[0m\u001b[0;34m(\u001b[0m\u001b[0;34m'test.csv'\u001b[0m\u001b[0;34m)\u001b[0m\u001b[0;34m\u001b[0m\u001b[0;34m\u001b[0m\u001b[0m\n",
            "\u001b[0;31mNameError\u001b[0m: name 'pd' is not defined"
          ]
        }
      ]
    },
    {
      "cell_type": "code",
      "source": [
        ""
      ],
      "metadata": {
        "id": "XJZWkiw2oRX9"
      },
      "execution_count": null,
      "outputs": []
    },
    {
      "cell_type": "code",
      "source": [
        "`"
      ],
      "metadata": {
        "id": "WEiRkbploSnw"
      },
      "execution_count": null,
      "outputs": []
    },
    {
      "cell_type": "code",
      "source": [
        "b"
      ],
      "metadata": {
        "id": "KLoDMUHyoTNB"
      },
      "execution_count": null,
      "outputs": []
    }
  ]
}