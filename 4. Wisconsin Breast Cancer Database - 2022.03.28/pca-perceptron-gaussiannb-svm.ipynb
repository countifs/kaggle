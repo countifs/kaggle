{
 "cells": [
  {
   "cell_type": "markdown",
   "metadata": {
    "papermill": {
     "duration": 0.051107,
     "end_time": "2020-09-21T06:37:58.943449",
     "exception": false,
     "start_time": "2020-09-21T06:37:58.892342",
     "status": "completed"
    },
    "tags": []
   },
   "source": [
    "## Indice contenuti\n",
    "- [Analisi esplorativa del dataset](#Analisi-esplorativa-del-dataset)\n",
    "    - [Descrizione del dataset](#Descrizione-del-dataset)\n",
    "    - [Caricamento in memoria del dataset](#Caricamento-in-memoria-del-dataset)\n",
    "    - [Preprocessing](#Preprocessing)\n",
    "    - [Matrice di correlazione di Pearson](#Matrice-di-correlazione-di-Pearson)\n",
    "    - [Distribuzione dei dati per feature \"brand\"](#Distribuzione-dei-dati-per-feature-\"brand\")\n",
    "- [Grafici](#Grafici)\n",
    "    - [Boxplot](#Boxplot)\n",
    "    - [Jointplot](#Jointplot)\n",
    "    - [Pairplot](#Pairplot)\n",
    "- [PCA (Principal Component Analysis)](#PCA-(Principal-Component-Analysis))\n",
    "     - [Dichiarazione della feature target](#Dichiarazione-della-feature-target)\n",
    "     - [Standardizzazione dei dati](#Standardizzazione-dei-dati)\n",
    "     - [Split del dataset](#Split-del-dataset)\n",
    "     - [Applicazione della PCA](#Applicazione-della-PCA)\n",
    "- [Percettrone](#Percettrone)\n",
    "- [Linear Discriminant Analysis](#Linear-Discriminant-Analysis)\n",
    "- [Regressione Lineare](#Regressione-Lineare)\n",
    "- [Regressione Polinomiale](#Regressione-Polinomiale)\n",
    "- [Regressione Logistica](#Regressione-Logistica)\n",
    "- [Regressione mediante Random Forest](#Regressione-mediante-Random-forest)\n",
    "- [Utilizzo di metodi regolarizzati per la regressione](#Utilizzo-di-metodi-regolarizzati-per-la-regressione)\n",
    "    - [Ridge Regression](#Ridge-Regression)\n",
    "    - [Lasso Regression](#Lasso-Regression)\n",
    "    - [Elastic Net](#Elastic-Net)\n",
    "- [Decision Tree](#Decision-Tree)\n",
    "- [Random Forest](#Random-Forest)\n",
    "- [K-nearest Neighbor](#K-nearest-Neighbor)\n",
    "- [Gaussian Naive Bayes](#Gaussian-Naive-Bayes)\n",
    "- [Support Vector Machine](#Support-Vector-Machine)\n",
    "- [Matrice di confusione per K-nn](#Matrice-di-confusione-per-K-nn)\n",
    "     \n",
    "<hr>"
   ]
  },
  {
   "cell_type": "markdown",
   "metadata": {
    "papermill": {
     "duration": 0.049061,
     "end_time": "2020-09-21T06:37:59.043053",
     "exception": false,
     "start_time": "2020-09-21T06:37:58.993992",
     "status": "completed"
    },
    "tags": []
   },
   "source": [
    "## Analisi esplorativa del dataset"
   ]
  },
  {
   "cell_type": "code",
   "execution_count": 1,
   "metadata": {
    "execution": {
     "iopub.execute_input": "2020-09-21T06:37:59.147636Z",
     "iopub.status.busy": "2020-09-21T06:37:59.146929Z",
     "iopub.status.idle": "2020-09-21T06:38:00.641012Z",
     "shell.execute_reply": "2020-09-21T06:38:00.640251Z"
    },
    "papermill": {
     "duration": 1.548632,
     "end_time": "2020-09-21T06:38:00.641157",
     "exception": false,
     "start_time": "2020-09-21T06:37:59.092525",
     "status": "completed"
    },
    "tags": []
   },
   "outputs": [],
   "source": [
    "#Import delle librerie richieste per il funzionamento\n",
    "import itertools\n",
    "import pandas as pd  \n",
    "import numpy as np  \n",
    "import matplotlib.pyplot as plt  \n",
    "import seaborn as seabornInstance \n",
    "from sklearn import metrics\n",
    "import seaborn as sns\n",
    "from sklearn.preprocessing import StandardScaler\n",
    "from sklearn.model_selection import train_test_split \n",
    "from sklearn.linear_model import LinearRegression\n",
    "from sklearn.feature_selection import RFE\n",
    "from sklearn.model_selection import cross_val_score\n",
    "from sklearn.metrics import mean_squared_error\n",
    "from sklearn.metrics import mean_absolute_error\n",
    "from sklearn.metrics import r2_score\n",
    "\n",
    "%matplotlib inline"
   ]
  },
  {
   "cell_type": "markdown",
   "metadata": {
    "papermill": {
     "duration": 0.051429,
     "end_time": "2020-09-21T06:38:00.744703",
     "exception": false,
     "start_time": "2020-09-21T06:38:00.693274",
     "status": "completed"
    },
    "tags": []
   },
   "source": [
    "## Descrizione dataset\n",
    "\n",
    "Per costruire i differenti modelli, verrà utilizzato il dataset <a href=\"https://archive.ics.uci.edu/ml/datasets/breast+cancer+wisconsin+(original)\">Breast Cancer Wisconsin</a> riguardante esempi di casi clinici circa il cancro.\n",
    "\n",
    "Di seguito sono riportate le features presenti:\n",
    " 1. Sample code number: id number\n",
    " 2. Clump Thickness: 1 - 10\n",
    " 3. Uniformity of Cell Size: 1 - 10\n",
    " 4. Uniformity of Cell Shape: 1 - 10\n",
    " 5. Marginal Adhesion: 1 - 10\n",
    " 6. Single Epithelial Cell Size: 1 - 10\n",
    " 7. Bare Nuclei: 1 - 10\n",
    " 8. Bland Chromatin: 1 - 10\n",
    " 9. Normal Nucleoli: 1 - 10\n",
    " 10. Mitoses: 1 - 10\n",
    " 11. Class: (2 for benign, 4 for malignant)\n",
    "   \n",
    "Per ciascun algoritmo di tipo Ensemble, si utilizzerà al fine della valutazione sui dati non visti una 10-Fold Cross Validation."
   ]
  },
  {
   "cell_type": "markdown",
   "metadata": {
    "papermill": {
     "duration": 0.049466,
     "end_time": "2020-09-21T06:38:00.844205",
     "exception": false,
     "start_time": "2020-09-21T06:38:00.794739",
     "status": "completed"
    },
    "tags": []
   },
   "source": [
    "### Caricamento in memoria del dataset"
   ]
  },
  {
   "cell_type": "markdown",
   "metadata": {
    "papermill": {
     "duration": 0.049255,
     "end_time": "2020-09-21T06:38:00.944572",
     "exception": false,
     "start_time": "2020-09-21T06:38:00.895317",
     "status": "completed"
    },
    "tags": []
   },
   "source": [
    "Con il seguente comando si effettua il caricamento di quanto contenuto nel dataset _'breast-cancer-wisconsin.data'_:"
   ]
  },
  {
   "cell_type": "code",
   "execution_count": 2,
   "metadata": {
    "execution": {
     "iopub.execute_input": "2020-09-21T06:38:01.048741Z",
     "iopub.status.busy": "2020-09-21T06:38:01.047738Z",
     "iopub.status.idle": "2020-09-21T06:38:01.092589Z",
     "shell.execute_reply": "2020-09-21T06:38:01.093161Z"
    },
    "papermill": {
     "duration": 0.098632,
     "end_time": "2020-09-21T06:38:01.093339",
     "exception": false,
     "start_time": "2020-09-21T06:38:00.994707",
     "status": "completed"
    },
    "tags": []
   },
   "outputs": [
    {
     "data": {
      "text/html": [
       "<div>\n",
       "<style scoped>\n",
       "    .dataframe tbody tr th:only-of-type {\n",
       "        vertical-align: middle;\n",
       "    }\n",
       "\n",
       "    .dataframe tbody tr th {\n",
       "        vertical-align: top;\n",
       "    }\n",
       "\n",
       "    .dataframe thead th {\n",
       "        text-align: right;\n",
       "    }\n",
       "</style>\n",
       "<table border=\"1\" class=\"dataframe\">\n",
       "  <thead>\n",
       "    <tr style=\"text-align: right;\">\n",
       "      <th></th>\n",
       "      <th>Sample code number</th>\n",
       "      <th>Clump Thickness</th>\n",
       "      <th>Uniformity of Cell Size</th>\n",
       "      <th>Uniformity of Cell Shape</th>\n",
       "      <th>Marginal Adhesion</th>\n",
       "      <th>Single Epithelial Cell Size</th>\n",
       "      <th>Bare Nuclei</th>\n",
       "      <th>Bland Chromatin</th>\n",
       "      <th>Normal Nucleoli</th>\n",
       "      <th>Mitoses</th>\n",
       "      <th>Class</th>\n",
       "    </tr>\n",
       "  </thead>\n",
       "  <tbody>\n",
       "    <tr>\n",
       "      <th>0</th>\n",
       "      <td>1000025</td>\n",
       "      <td>5</td>\n",
       "      <td>1</td>\n",
       "      <td>1</td>\n",
       "      <td>1</td>\n",
       "      <td>2</td>\n",
       "      <td>1</td>\n",
       "      <td>3</td>\n",
       "      <td>1</td>\n",
       "      <td>1</td>\n",
       "      <td>2</td>\n",
       "    </tr>\n",
       "    <tr>\n",
       "      <th>1</th>\n",
       "      <td>1002945</td>\n",
       "      <td>5</td>\n",
       "      <td>4</td>\n",
       "      <td>4</td>\n",
       "      <td>5</td>\n",
       "      <td>7</td>\n",
       "      <td>10</td>\n",
       "      <td>3</td>\n",
       "      <td>2</td>\n",
       "      <td>1</td>\n",
       "      <td>2</td>\n",
       "    </tr>\n",
       "    <tr>\n",
       "      <th>2</th>\n",
       "      <td>1015425</td>\n",
       "      <td>3</td>\n",
       "      <td>1</td>\n",
       "      <td>1</td>\n",
       "      <td>1</td>\n",
       "      <td>2</td>\n",
       "      <td>2</td>\n",
       "      <td>3</td>\n",
       "      <td>1</td>\n",
       "      <td>1</td>\n",
       "      <td>2</td>\n",
       "    </tr>\n",
       "    <tr>\n",
       "      <th>3</th>\n",
       "      <td>1016277</td>\n",
       "      <td>6</td>\n",
       "      <td>8</td>\n",
       "      <td>8</td>\n",
       "      <td>1</td>\n",
       "      <td>3</td>\n",
       "      <td>4</td>\n",
       "      <td>3</td>\n",
       "      <td>7</td>\n",
       "      <td>1</td>\n",
       "      <td>2</td>\n",
       "    </tr>\n",
       "    <tr>\n",
       "      <th>4</th>\n",
       "      <td>1017023</td>\n",
       "      <td>4</td>\n",
       "      <td>1</td>\n",
       "      <td>1</td>\n",
       "      <td>3</td>\n",
       "      <td>2</td>\n",
       "      <td>1</td>\n",
       "      <td>3</td>\n",
       "      <td>1</td>\n",
       "      <td>1</td>\n",
       "      <td>2</td>\n",
       "    </tr>\n",
       "  </tbody>\n",
       "</table>\n",
       "</div>"
      ],
      "text/plain": [
       "   Sample code number  Clump Thickness  Uniformity of Cell Size  \\\n",
       "0             1000025                5                        1   \n",
       "1             1002945                5                        4   \n",
       "2             1015425                3                        1   \n",
       "3             1016277                6                        8   \n",
       "4             1017023                4                        1   \n",
       "\n",
       "   Uniformity of Cell Shape  Marginal Adhesion  Single Epithelial Cell Size  \\\n",
       "0                         1                  1                            2   \n",
       "1                         4                  5                            7   \n",
       "2                         1                  1                            2   \n",
       "3                         8                  1                            3   \n",
       "4                         1                  3                            2   \n",
       "\n",
       "  Bare Nuclei  Bland Chromatin  Normal Nucleoli  Mitoses  Class  \n",
       "0           1                3                1        1      2  \n",
       "1          10                3                2        1      2  \n",
       "2           2                3                1        1      2  \n",
       "3           4                3                7        1      2  \n",
       "4           1                3                1        1      2  "
      ]
     },
     "execution_count": 2,
     "metadata": {},
     "output_type": "execute_result"
    }
   ],
   "source": [
    "import pandas as pd\n",
    "import matplotlib.pyplot as plt\n",
    "\n",
    "col_names=['Sample code number','Clump Thickness','Uniformity of Cell Size','Uniformity of Cell Shape','Marginal Adhesion','Single Epithelial Cell Size','Bare Nuclei','Bland Chromatin','Normal Nucleoli','Mitoses','Class']\n",
    "dataset = pd.read_csv('../input/breast-cancer-csv/breastCancer.csv', header=0, names = col_names)\n",
    "array = dataset.values\n",
    "\n",
    "dataset.head()"
   ]
  },
  {
   "cell_type": "code",
   "execution_count": 3,
   "metadata": {
    "execution": {
     "iopub.execute_input": "2020-09-21T06:38:01.200243Z",
     "iopub.status.busy": "2020-09-21T06:38:01.199547Z",
     "iopub.status.idle": "2020-09-21T06:38:01.213511Z",
     "shell.execute_reply": "2020-09-21T06:38:01.212602Z"
    },
    "papermill": {
     "duration": 0.068113,
     "end_time": "2020-09-21T06:38:01.213648",
     "exception": false,
     "start_time": "2020-09-21T06:38:01.145535",
     "status": "completed"
    },
    "tags": []
   },
   "outputs": [],
   "source": [
    "#Rimozione della feature _Sample code number_\n",
    "dataset.drop(['Sample code number'],axis = 1, inplace = True)"
   ]
  },
  {
   "cell_type": "markdown",
   "metadata": {
    "papermill": {
     "duration": 0.051146,
     "end_time": "2020-09-21T06:38:01.317510",
     "exception": false,
     "start_time": "2020-09-21T06:38:01.266364",
     "status": "completed"
    },
    "tags": []
   },
   "source": [
    "### Pre-processing del dataset"
   ]
  },
  {
   "cell_type": "markdown",
   "metadata": {
    "papermill": {
     "duration": 0.050189,
     "end_time": "2020-09-21T06:38:01.418641",
     "exception": false,
     "start_time": "2020-09-21T06:38:01.368452",
     "status": "completed"
    },
    "tags": []
   },
   "source": [
    "Per ottenere informazioni statistiche inerenti ciascuna feature a disposizione, mediante il metodo _describe()_ si è provveduto al calcolo delle seguenti informazioni:\n",
    "- <b>count</b>: conteggio del numero di esempi per la feature selezionata\n",
    "- <b>mean</b>: media aritmetica per la feature selezionata\n",
    "- <b>std</b>: deviazione standard per la feature selezionata\n",
    "- <b>min</b>: valore minimo presentato dagli esempi per la feature selezionata\n",
    "- <b>25%</b>: primo quartile calcolato sugli esempi per la feature selezionata\n",
    "- <b>50%</b>: secondo quartile calcolato sugli esempi per la feature selezionata\n",
    "- <b>75%</b>: terzo quartile calcolato sugli esempi per la feature selezionata\n",
    "- <b>max</b>: valore massimo presentato dagli esempi per la feature selezionata"
   ]
  },
  {
   "cell_type": "code",
   "execution_count": 4,
   "metadata": {
    "execution": {
     "iopub.execute_input": "2020-09-21T06:38:01.530986Z",
     "iopub.status.busy": "2020-09-21T06:38:01.530267Z",
     "iopub.status.idle": "2020-09-21T06:38:01.565419Z",
     "shell.execute_reply": "2020-09-21T06:38:01.566090Z"
    },
    "papermill": {
     "duration": 0.096729,
     "end_time": "2020-09-21T06:38:01.566238",
     "exception": false,
     "start_time": "2020-09-21T06:38:01.469509",
     "status": "completed"
    },
    "tags": []
   },
   "outputs": [
    {
     "data": {
      "text/html": [
       "<div>\n",
       "<style scoped>\n",
       "    .dataframe tbody tr th:only-of-type {\n",
       "        vertical-align: middle;\n",
       "    }\n",
       "\n",
       "    .dataframe tbody tr th {\n",
       "        vertical-align: top;\n",
       "    }\n",
       "\n",
       "    .dataframe thead th {\n",
       "        text-align: right;\n",
       "    }\n",
       "</style>\n",
       "<table border=\"1\" class=\"dataframe\">\n",
       "  <thead>\n",
       "    <tr style=\"text-align: right;\">\n",
       "      <th></th>\n",
       "      <th>Clump Thickness</th>\n",
       "      <th>Uniformity of Cell Size</th>\n",
       "      <th>Uniformity of Cell Shape</th>\n",
       "      <th>Marginal Adhesion</th>\n",
       "      <th>Single Epithelial Cell Size</th>\n",
       "      <th>Bland Chromatin</th>\n",
       "      <th>Normal Nucleoli</th>\n",
       "      <th>Mitoses</th>\n",
       "      <th>Class</th>\n",
       "    </tr>\n",
       "  </thead>\n",
       "  <tbody>\n",
       "    <tr>\n",
       "      <th>count</th>\n",
       "      <td>699.000000</td>\n",
       "      <td>699.000000</td>\n",
       "      <td>699.000000</td>\n",
       "      <td>699.000000</td>\n",
       "      <td>699.000000</td>\n",
       "      <td>699.000000</td>\n",
       "      <td>699.000000</td>\n",
       "      <td>699.000000</td>\n",
       "      <td>699.000000</td>\n",
       "    </tr>\n",
       "    <tr>\n",
       "      <th>mean</th>\n",
       "      <td>4.417740</td>\n",
       "      <td>3.134478</td>\n",
       "      <td>3.207439</td>\n",
       "      <td>2.806867</td>\n",
       "      <td>3.216023</td>\n",
       "      <td>3.437768</td>\n",
       "      <td>2.866953</td>\n",
       "      <td>1.589413</td>\n",
       "      <td>2.689557</td>\n",
       "    </tr>\n",
       "    <tr>\n",
       "      <th>std</th>\n",
       "      <td>2.815741</td>\n",
       "      <td>3.051459</td>\n",
       "      <td>2.971913</td>\n",
       "      <td>2.855379</td>\n",
       "      <td>2.214300</td>\n",
       "      <td>2.438364</td>\n",
       "      <td>3.053634</td>\n",
       "      <td>1.715078</td>\n",
       "      <td>0.951273</td>\n",
       "    </tr>\n",
       "    <tr>\n",
       "      <th>min</th>\n",
       "      <td>1.000000</td>\n",
       "      <td>1.000000</td>\n",
       "      <td>1.000000</td>\n",
       "      <td>1.000000</td>\n",
       "      <td>1.000000</td>\n",
       "      <td>1.000000</td>\n",
       "      <td>1.000000</td>\n",
       "      <td>1.000000</td>\n",
       "      <td>2.000000</td>\n",
       "    </tr>\n",
       "    <tr>\n",
       "      <th>25%</th>\n",
       "      <td>2.000000</td>\n",
       "      <td>1.000000</td>\n",
       "      <td>1.000000</td>\n",
       "      <td>1.000000</td>\n",
       "      <td>2.000000</td>\n",
       "      <td>2.000000</td>\n",
       "      <td>1.000000</td>\n",
       "      <td>1.000000</td>\n",
       "      <td>2.000000</td>\n",
       "    </tr>\n",
       "    <tr>\n",
       "      <th>50%</th>\n",
       "      <td>4.000000</td>\n",
       "      <td>1.000000</td>\n",
       "      <td>1.000000</td>\n",
       "      <td>1.000000</td>\n",
       "      <td>2.000000</td>\n",
       "      <td>3.000000</td>\n",
       "      <td>1.000000</td>\n",
       "      <td>1.000000</td>\n",
       "      <td>2.000000</td>\n",
       "    </tr>\n",
       "    <tr>\n",
       "      <th>75%</th>\n",
       "      <td>6.000000</td>\n",
       "      <td>5.000000</td>\n",
       "      <td>5.000000</td>\n",
       "      <td>4.000000</td>\n",
       "      <td>4.000000</td>\n",
       "      <td>5.000000</td>\n",
       "      <td>4.000000</td>\n",
       "      <td>1.000000</td>\n",
       "      <td>4.000000</td>\n",
       "    </tr>\n",
       "    <tr>\n",
       "      <th>max</th>\n",
       "      <td>10.000000</td>\n",
       "      <td>10.000000</td>\n",
       "      <td>10.000000</td>\n",
       "      <td>10.000000</td>\n",
       "      <td>10.000000</td>\n",
       "      <td>10.000000</td>\n",
       "      <td>10.000000</td>\n",
       "      <td>10.000000</td>\n",
       "      <td>4.000000</td>\n",
       "    </tr>\n",
       "  </tbody>\n",
       "</table>\n",
       "</div>"
      ],
      "text/plain": [
       "       Clump Thickness  Uniformity of Cell Size  Uniformity of Cell Shape  \\\n",
       "count       699.000000               699.000000                699.000000   \n",
       "mean          4.417740                 3.134478                  3.207439   \n",
       "std           2.815741                 3.051459                  2.971913   \n",
       "min           1.000000                 1.000000                  1.000000   \n",
       "25%           2.000000                 1.000000                  1.000000   \n",
       "50%           4.000000                 1.000000                  1.000000   \n",
       "75%           6.000000                 5.000000                  5.000000   \n",
       "max          10.000000                10.000000                 10.000000   \n",
       "\n",
       "       Marginal Adhesion  Single Epithelial Cell Size  Bland Chromatin  \\\n",
       "count         699.000000                   699.000000       699.000000   \n",
       "mean            2.806867                     3.216023         3.437768   \n",
       "std             2.855379                     2.214300         2.438364   \n",
       "min             1.000000                     1.000000         1.000000   \n",
       "25%             1.000000                     2.000000         2.000000   \n",
       "50%             1.000000                     2.000000         3.000000   \n",
       "75%             4.000000                     4.000000         5.000000   \n",
       "max            10.000000                    10.000000        10.000000   \n",
       "\n",
       "       Normal Nucleoli     Mitoses       Class  \n",
       "count       699.000000  699.000000  699.000000  \n",
       "mean          2.866953    1.589413    2.689557  \n",
       "std           3.053634    1.715078    0.951273  \n",
       "min           1.000000    1.000000    2.000000  \n",
       "25%           1.000000    1.000000    2.000000  \n",
       "50%           1.000000    1.000000    2.000000  \n",
       "75%           4.000000    1.000000    4.000000  \n",
       "max          10.000000   10.000000    4.000000  "
      ]
     },
     "execution_count": 4,
     "metadata": {},
     "output_type": "execute_result"
    }
   ],
   "source": [
    "dataset.describe()"
   ]
  },
  {
   "cell_type": "markdown",
   "metadata": {
    "papermill": {
     "duration": 0.050915,
     "end_time": "2020-09-21T06:38:01.668248",
     "exception": false,
     "start_time": "2020-09-21T06:38:01.617333",
     "status": "completed"
    },
    "tags": []
   },
   "source": [
    "Al fine di ottenere una descrizione complessiva del Dataframe (e dunque del relativo dataset) caricato, mediante il metodo _info()_ si sono ottenute le seguenti informazioni:\n",
    "- <b>#</b>: numero di feature presente nel DataFrame\n",
    "- <b>Column</b>: intestazione delle features nel DataFrame\n",
    "- <b>Non-Null Count</b>: contatore di valori non nulli per ogni feature presente nel DataFrame\n",
    "- <b>Dtype</b>: tipo di dato memorizzato per ogni feature presente nel DataFrame"
   ]
  },
  {
   "cell_type": "code",
   "execution_count": 5,
   "metadata": {
    "execution": {
     "iopub.execute_input": "2020-09-21T06:38:01.802535Z",
     "iopub.status.busy": "2020-09-21T06:38:01.801305Z",
     "iopub.status.idle": "2020-09-21T06:38:01.810027Z",
     "shell.execute_reply": "2020-09-21T06:38:01.809122Z"
    },
    "papermill": {
     "duration": 0.090063,
     "end_time": "2020-09-21T06:38:01.810236",
     "exception": false,
     "start_time": "2020-09-21T06:38:01.720173",
     "status": "completed"
    },
    "tags": []
   },
   "outputs": [
    {
     "name": "stdout",
     "output_type": "stream",
     "text": [
      "<class 'pandas.core.frame.DataFrame'>\n",
      "RangeIndex: 699 entries, 0 to 698\n",
      "Data columns (total 10 columns):\n",
      " #   Column                       Non-Null Count  Dtype \n",
      "---  ------                       --------------  ----- \n",
      " 0   Clump Thickness              699 non-null    int64 \n",
      " 1   Uniformity of Cell Size      699 non-null    int64 \n",
      " 2   Uniformity of Cell Shape     699 non-null    int64 \n",
      " 3   Marginal Adhesion            699 non-null    int64 \n",
      " 4   Single Epithelial Cell Size  699 non-null    int64 \n",
      " 5   Bare Nuclei                  699 non-null    object\n",
      " 6   Bland Chromatin              699 non-null    int64 \n",
      " 7   Normal Nucleoli              699 non-null    int64 \n",
      " 8   Mitoses                      699 non-null    int64 \n",
      " 9   Class                        699 non-null    int64 \n",
      "dtypes: int64(9), object(1)\n",
      "memory usage: 54.7+ KB\n"
     ]
    }
   ],
   "source": [
    "dataset.info()"
   ]
  },
  {
   "cell_type": "markdown",
   "metadata": {
    "papermill": {
     "duration": 0.058635,
     "end_time": "2020-09-21T06:38:01.946512",
     "exception": false,
     "start_time": "2020-09-21T06:38:01.887877",
     "status": "completed"
    },
    "tags": []
   },
   "source": [
    "### Gestione valori nulli"
   ]
  },
  {
   "cell_type": "markdown",
   "metadata": {
    "papermill": {
     "duration": 0.051405,
     "end_time": "2020-09-21T06:38:02.052019",
     "exception": false,
     "start_time": "2020-09-21T06:38:02.000614",
     "status": "completed"
    },
    "tags": []
   },
   "source": [
    "Dal metodo _info()_ si evince che per la feature _Bare Nuclei_ ci sono dei valori che fanno divenire il tipo di dati da int64 a object. Infatti, analizzando il contenuto della feature _Bare Nuclei_ si evince la presenza di valori _?_.\n",
    "Al fine di trattare valori mancanti, si utilizzerà la _Mean Imputation_ mentre per la gestione di tali caratteri ? verrà convertito tale valore con 0."
   ]
  },
  {
   "cell_type": "code",
   "execution_count": 6,
   "metadata": {
    "execution": {
     "iopub.execute_input": "2020-09-21T06:38:02.164735Z",
     "iopub.status.busy": "2020-09-21T06:38:02.163651Z",
     "iopub.status.idle": "2020-09-21T06:38:02.167290Z",
     "shell.execute_reply": "2020-09-21T06:38:02.166605Z"
    },
    "papermill": {
     "duration": 0.062868,
     "end_time": "2020-09-21T06:38:02.167412",
     "exception": false,
     "start_time": "2020-09-21T06:38:02.104544",
     "status": "completed"
    },
    "tags": []
   },
   "outputs": [],
   "source": [
    "dataset.replace('?',0, inplace=True)"
   ]
  },
  {
   "cell_type": "code",
   "execution_count": 7,
   "metadata": {
    "execution": {
     "iopub.execute_input": "2020-09-21T06:38:02.277563Z",
     "iopub.status.busy": "2020-09-21T06:38:02.276876Z",
     "iopub.status.idle": "2020-09-21T06:38:02.289990Z",
     "shell.execute_reply": "2020-09-21T06:38:02.290622Z"
    },
    "papermill": {
     "duration": 0.07074,
     "end_time": "2020-09-21T06:38:02.290807",
     "exception": false,
     "start_time": "2020-09-21T06:38:02.220067",
     "status": "completed"
    },
    "tags": []
   },
   "outputs": [],
   "source": [
    "from sklearn.impute import SimpleImputer\n",
    "# Conversione del DataFrame in array NumPy per applicare il metodo Imputer().\n",
    "values = dataset.values\n",
    "\n",
    "imputer = SimpleImputer()\n",
    "imputedData = imputer.fit_transform(values)"
   ]
  },
  {
   "cell_type": "markdown",
   "metadata": {
    "papermill": {
     "duration": 0.052383,
     "end_time": "2020-09-21T06:38:02.396021",
     "exception": false,
     "start_time": "2020-09-21T06:38:02.343638",
     "status": "completed"
    },
    "tags": []
   },
   "source": [
    "### Normalizzazione delle features\n",
    "Vista la presenza di dati espressi su un diverso range numerico, si effettua la standardizzazione, mediante apposito metodo StandardScaler()."
   ]
  },
  {
   "cell_type": "code",
   "execution_count": 8,
   "metadata": {
    "execution": {
     "iopub.execute_input": "2020-09-21T06:38:02.505203Z",
     "iopub.status.busy": "2020-09-21T06:38:02.504514Z",
     "iopub.status.idle": "2020-09-21T06:38:02.510469Z",
     "shell.execute_reply": "2020-09-21T06:38:02.510985Z"
    },
    "papermill": {
     "duration": 0.062964,
     "end_time": "2020-09-21T06:38:02.511148",
     "exception": false,
     "start_time": "2020-09-21T06:38:02.448184",
     "status": "completed"
    },
    "tags": []
   },
   "outputs": [],
   "source": [
    "from sklearn.preprocessing import MinMaxScaler\n",
    "\n",
    "scaler = MinMaxScaler(feature_range=(0, 1))\n",
    "normalizedData = scaler.fit_transform(imputedData)"
   ]
  },
  {
   "cell_type": "code",
   "execution_count": 9,
   "metadata": {
    "execution": {
     "iopub.execute_input": "2020-09-21T06:38:02.620340Z",
     "iopub.status.busy": "2020-09-21T06:38:02.619621Z",
     "iopub.status.idle": "2020-09-21T06:38:02.626251Z",
     "shell.execute_reply": "2020-09-21T06:38:02.625654Z"
    },
    "papermill": {
     "duration": 0.062918,
     "end_time": "2020-09-21T06:38:02.626375",
     "exception": false,
     "start_time": "2020-09-21T06:38:02.563457",
     "status": "completed"
    },
    "tags": []
   },
   "outputs": [],
   "source": [
    "#Split del dataset in X e Y\n",
    "X = normalizedData[:,0:9] #Esclude la colonna relativa alla classe\n",
    "Y = normalizedData[:,9] #Considera esclusivamente la classe come feature target\n",
    "\n",
    "#Impostazione del seed\n",
    "seed = 1"
   ]
  },
  {
   "cell_type": "markdown",
   "metadata": {
    "papermill": {
     "duration": 0.052396,
     "end_time": "2020-09-21T06:38:02.731447",
     "exception": false,
     "start_time": "2020-09-21T06:38:02.679051",
     "status": "completed"
    },
    "tags": []
   },
   "source": [
    "### Matrice di correlazione di Pearson"
   ]
  },
  {
   "cell_type": "markdown",
   "metadata": {
    "papermill": {
     "duration": 0.052402,
     "end_time": "2020-09-21T06:38:02.836782",
     "exception": false,
     "start_time": "2020-09-21T06:38:02.784380",
     "status": "completed"
    },
    "tags": []
   },
   "source": [
    "Al fine di condurre una analisi completa, di seguito è riportata la matrice di correlazione di Pearson che prende in considerazione le differenti features presenti all'interno del DataFrame.\n",
    "\n",
    "I valori presenti all'interno della matrice di correlazione saranno espressi mediante valore decimale nell'intervallo [-1,+1] che rispettivamente indicherà la presenza di una correlazione inversa oppure una correlazione diretta.\n",
    "\n",
    "Nel caso in cui il valore calcolato di correlazione sia vicino al valore 0, non è possibile definire la presenza di correlazione tra le features considerate."
   ]
  },
  {
   "cell_type": "code",
   "execution_count": 10,
   "metadata": {
    "execution": {
     "iopub.execute_input": "2020-09-21T06:38:02.948795Z",
     "iopub.status.busy": "2020-09-21T06:38:02.947752Z",
     "iopub.status.idle": "2020-09-21T06:38:03.589145Z",
     "shell.execute_reply": "2020-09-21T06:38:03.589713Z"
    },
    "papermill": {
     "duration": 0.700084,
     "end_time": "2020-09-21T06:38:03.589908",
     "exception": false,
     "start_time": "2020-09-21T06:38:02.889824",
     "status": "completed"
    },
    "tags": []
   },
   "outputs": [
    {
     "data": {
      "image/png": "[encoded data removed]",
      "text/plain": [
       "<Figure size 720x720 with 2 Axes>"
      ]
     },
     "metadata": {
      "needs_background": "light"
     },
     "output_type": "display_data"
    }
   ],
   "source": [
    "names = dataset.columns\n",
    "\n",
    "# plot correlation matrix\n",
    "import seaborn as sns\n",
    "#Using Pearson Correlation\n",
    "plt.figure(figsize=(10,10))\n",
    "cor = dataset.corr()\n",
    "sns.heatmap(cor, annot=True, cmap=plt.cm.BuGn)\n",
    "plt.show()"
   ]
  },
  {
   "cell_type": "markdown",
   "metadata": {
    "papermill": {
     "duration": 0.057518,
     "end_time": "2020-09-21T06:38:03.703577",
     "exception": false,
     "start_time": "2020-09-21T06:38:03.646059",
     "status": "completed"
    },
    "tags": []
   },
   "source": [
    "## PCA (Principal Component Analysis)"
   ]
  },
  {
   "cell_type": "markdown",
   "metadata": {
    "papermill": {
     "duration": 0.057067,
     "end_time": "2020-09-21T06:38:03.817487",
     "exception": false,
     "start_time": "2020-09-21T06:38:03.760420",
     "status": "completed"
    },
    "tags": []
   },
   "source": [
    "L'analisi delle componenti principali (PCA) è una tecnica che consente l'estrazione di informazioni rilevanti da un insieme di dati numerici. Consente, inoltre, di rivelare l'esistenza di relazioni lineari (nascoste) in dati multidimensionali.</br>\n",
    "La PCA, inoltre, consente di effettuare la _low rank approximization_ di una matrice di dati.\n",
    "\n",
    "PCA, in presenza di dataset ad alta dimensionalità, consente di ridurre quest'ultima in, generalmente, 2 o 3 dimensioni consentendo la rappresentazione di dati multivariati su grafici 2D o 3D.\n",
    "\n",
    "Un open problem relativo a questa tecnica è l'individuazione del numero di componenti principali da considerare: solitamente, attraverso uno scree plot, si individua il gomito del plotting e quest'ultimo indicherà il numero delle componenti principali da considerare. Alternativamente, è possibile definire una percentuale di varianza spiegata dei dati [70%-90%] che verrà raggiunta sommando le varianze di ogni componente principale identificata, poste in ordine decrescente.\n",
    "\n",
    "Ulteriore metodologia, invece, è rappresentata dal cerchio delle correlazioni che è una rappresentazione grafica utile per avere una idea delle variabili che contribuiscono positivamente o negativamente a spiegare la varianza della PC1 e PC2. Valori di loadings grandi associati a specifiche variabili indicano il contributo di queste ultime rispetto alle PC's.\n",
    "\n",
    "Mediante il metodo di Kaiser, invece, è possibile ottenere euristicamente la stima del numero delle PC's da considerare prendendo in considerazioni gli autovalori che presentano un valore numerico maggiore di 1."
   ]
  },
  {
   "cell_type": "markdown",
   "metadata": {
    "papermill": {
     "duration": 0.057222,
     "end_time": "2020-09-21T06:38:03.931401",
     "exception": false,
     "start_time": "2020-09-21T06:38:03.874179",
     "status": "completed"
    },
    "tags": []
   },
   "source": [
    "### Dichiarazione della feature target"
   ]
  },
  {
   "cell_type": "markdown",
   "metadata": {
    "papermill": {
     "duration": 0.054986,
     "end_time": "2020-09-21T06:38:04.043486",
     "exception": false,
     "start_time": "2020-09-21T06:38:03.988500",
     "status": "completed"
    },
    "tags": []
   },
   "source": [
    "Una volta caricato il dataset, al fine di poter applicare la PCA, si identifica con _y_ la feature target, ovvero _brand_, mentre X rappresenterà tutte le restanti features presenti all'interno del dataset."
   ]
  },
  {
   "cell_type": "code",
   "execution_count": 11,
   "metadata": {
    "execution": {
     "iopub.execute_input": "2020-09-21T06:38:04.160186Z",
     "iopub.status.busy": "2020-09-21T06:38:04.159341Z",
     "iopub.status.idle": "2020-09-21T06:38:04.165921Z",
     "shell.execute_reply": "2020-09-21T06:38:04.166510Z"
    },
    "papermill": {
     "duration": 0.066521,
     "end_time": "2020-09-21T06:38:04.166705",
     "exception": false,
     "start_time": "2020-09-21T06:38:04.100184",
     "status": "completed"
    },
    "tags": []
   },
   "outputs": [],
   "source": [
    "from sklearn.model_selection import train_test_split\n",
    "\n",
    "y = dataset['Class']\n",
    "dataset.drop(['Class'], axis = 1, inplace = True)"
   ]
  },
  {
   "cell_type": "markdown",
   "metadata": {
    "papermill": {
     "duration": 0.055823,
     "end_time": "2020-09-21T06:38:04.277920",
     "exception": false,
     "start_time": "2020-09-21T06:38:04.222097",
     "status": "completed"
    },
    "tags": []
   },
   "source": [
    "### Standardizzazione dei dati"
   ]
  },
  {
   "cell_type": "markdown",
   "metadata": {
    "papermill": {
     "duration": 0.055514,
     "end_time": "2020-09-21T06:38:04.389119",
     "exception": false,
     "start_time": "2020-09-21T06:38:04.333605",
     "status": "completed"
    },
    "tags": []
   },
   "source": [
    "Onde evitare problemi circa la presenza di dati espressi su un diverso range numerico, come fase di pre-processing è stata introdotta la standardizzazione, mediante apposito metodo _StandardScaler()_ applicata su X."
   ]
  },
  {
   "cell_type": "code",
   "execution_count": 12,
   "metadata": {
    "execution": {
     "iopub.execute_input": "2020-09-21T06:38:04.503992Z",
     "iopub.status.busy": "2020-09-21T06:38:04.503119Z",
     "iopub.status.idle": "2020-09-21T06:38:04.515598Z",
     "shell.execute_reply": "2020-09-21T06:38:04.516149Z"
    },
    "papermill": {
     "duration": 0.071883,
     "end_time": "2020-09-21T06:38:04.516336",
     "exception": false,
     "start_time": "2020-09-21T06:38:04.444453",
     "status": "completed"
    },
    "tags": []
   },
   "outputs": [],
   "source": [
    "from sklearn.preprocessing import StandardScaler\n",
    "x = dataset\n",
    "\n",
    "sc_x = StandardScaler()\n",
    "x = sc_x.fit_transform(x)"
   ]
  },
  {
   "cell_type": "markdown",
   "metadata": {
    "papermill": {
     "duration": 0.055969,
     "end_time": "2020-09-21T06:38:04.628664",
     "exception": false,
     "start_time": "2020-09-21T06:38:04.572695",
     "status": "completed"
    },
    "tags": []
   },
   "source": [
    "### Split del dataset"
   ]
  },
  {
   "cell_type": "markdown",
   "metadata": {
    "papermill": {
     "duration": 0.056272,
     "end_time": "2020-09-21T06:38:04.740448",
     "exception": false,
     "start_time": "2020-09-21T06:38:04.684176",
     "status": "completed"
    },
    "tags": []
   },
   "source": [
    "Per valutare le prestazioni del modello sfruttando i dati a disposizione, il dataset di partenza viene suddiviso nel seguente modo:\n",
    "- 70%: dataset di training\n",
    "- 30%: dataset di test\n",
    "\n",
    "Poichè è stata già definita la feature target (_y_), tale suddivisione avviene anche per tale vettore.\n",
    "\n",
    "Per evitare, inoltre, un possibile overfitting del modello basato sulla disposizione ingenua dei dati all'interno del dataset, viene effettuato uno shuffle randomico, impostando il parametro _shuffle_=True."
   ]
  },
  {
   "cell_type": "code",
   "execution_count": 13,
   "metadata": {
    "execution": {
     "iopub.execute_input": "2020-09-21T06:38:04.862338Z",
     "iopub.status.busy": "2020-09-21T06:38:04.861238Z",
     "iopub.status.idle": "2020-09-21T06:38:04.863771Z",
     "shell.execute_reply": "2020-09-21T06:38:04.864397Z"
    },
    "papermill": {
     "duration": 0.066891,
     "end_time": "2020-09-21T06:38:04.864571",
     "exception": false,
     "start_time": "2020-09-21T06:38:04.797680",
     "status": "completed"
    },
    "tags": []
   },
   "outputs": [],
   "source": [
    "x_train, x_test, y_train, y_test = train_test_split( x, y, test_size=0.3, random_state=42, shuffle=True)"
   ]
  },
  {
   "cell_type": "markdown",
   "metadata": {
    "papermill": {
     "duration": 0.056516,
     "end_time": "2020-09-21T06:38:04.979102",
     "exception": false,
     "start_time": "2020-09-21T06:38:04.922586",
     "status": "completed"
    },
    "tags": []
   },
   "source": [
    "### Applicazione della PCA"
   ]
  },
  {
   "cell_type": "markdown",
   "metadata": {
    "papermill": {
     "duration": 0.055358,
     "end_time": "2020-09-21T06:38:05.091163",
     "exception": false,
     "start_time": "2020-09-21T06:38:05.035805",
     "status": "completed"
    },
    "tags": []
   },
   "source": [
    "Per l'applicazione della PCA, si è provveduto ad usare il rispettivo metodo _fit()_ che consente il fitting del modello mediante gli esempi contenuti nella matrice X di training, identificata con il nome di _x\\_train_."
   ]
  },
  {
   "cell_type": "code",
   "execution_count": 14,
   "metadata": {
    "execution": {
     "iopub.execute_input": "2020-09-21T06:38:05.278854Z",
     "iopub.status.busy": "2020-09-21T06:38:05.278144Z",
     "iopub.status.idle": "2020-09-21T06:38:05.333273Z",
     "shell.execute_reply": "2020-09-21T06:38:05.333952Z"
    },
    "papermill": {
     "duration": 0.117319,
     "end_time": "2020-09-21T06:38:05.334143",
     "exception": false,
     "start_time": "2020-09-21T06:38:05.216824",
     "status": "completed"
    },
    "tags": []
   },
   "outputs": [
    {
     "data": {
      "text/plain": [
       "PCA()"
      ]
     },
     "execution_count": 14,
     "metadata": {},
     "output_type": "execute_result"
    }
   ],
   "source": [
    "from sklearn.decomposition import PCA\n",
    "\n",
    "pca = PCA()\n",
    "pca.fit(x_train)"
   ]
  },
  {
   "cell_type": "markdown",
   "metadata": {
    "papermill": {
     "duration": 0.056594,
     "end_time": "2020-09-21T06:38:05.448640",
     "exception": false,
     "start_time": "2020-09-21T06:38:05.392046",
     "status": "completed"
    },
    "tags": []
   },
   "source": [
    "Per ottenere il grafico relativo alla varianza spiegata da ogni componente è stato sviluppato il seguente codice che consente, a fronte del modello fittato, di ottenere in forma grafica la varianza per ciascuna componente (per identificare il \"gomito\") mentre, a destra, è riportato il plot della varianza cumulativa spiegata.\n",
    "\n",
    "Come è possibile notare dal primo grafico, seppure il \"gomito principale\" sia presente sulla terza componente, per le ulteriori vi è la presenza di una varianza spiegata non indifferente. Pertanto, mediante prove analitiche svolte, si è preferito prendere in considerazione le prime 3 componenti principali che, in ogni caso, vanno a ridurre la dimensionalità del dataset di partenza.</br>"
   ]
  },
  {
   "cell_type": "code",
   "execution_count": 15,
   "metadata": {
    "execution": {
     "iopub.execute_input": "2020-09-21T06:38:05.568596Z",
     "iopub.status.busy": "2020-09-21T06:38:05.567469Z",
     "iopub.status.idle": "2020-09-21T06:38:06.014004Z",
     "shell.execute_reply": "2020-09-21T06:38:06.013320Z"
    },
    "papermill": {
     "duration": 0.507234,
     "end_time": "2020-09-21T06:38:06.014141",
     "exception": false,
     "start_time": "2020-09-21T06:38:05.506907",
     "status": "completed"
    },
    "tags": []
   },
   "outputs": [
    {
     "data": {
      "image/png": "[encoded data removed]",
      "text/plain": [
       "<Figure size 1080x360 with 2 Axes>"
      ]
     },
     "metadata": {
      "needs_background": "light"
     },
     "output_type": "display_data"
    }
   ],
   "source": [
    "asse_y = pca.explained_variance_ratio_\n",
    "asse_x = np.arange(len(asse_y)) + 1\n",
    "\n",
    "plt.figure(figsize=(15,5))\n",
    "plt.subplot(1, 2, 1)\n",
    "plt.bar(asse_x, asse_y)\n",
    "plt.plot(asse_x, asse_y, \"ro-\")\n",
    "plt.title(\"Variance for each component\")\n",
    "plt.xticks(asse_x, [\"Comp.\"+str(i) for i in asse_x], rotation=90)\n",
    "plt.ylabel(\"Variance\")\n",
    "\n",
    "y2 = np.cumsum((pca.explained_variance_ratio_))\n",
    "\n",
    "plt.subplot(1, 2, 2)\n",
    "plt.bar(asse_x,y2)\n",
    "plt.plot(asse_x, y2, \"ro-\")\n",
    "plt.xticks(asse_x, [\"Comp.\"+str(i) for i in asse_x], rotation=90)\n",
    "plt.title(\"Cumulative Variance\")\n",
    "plt.ylabel(\"Variance\")\n",
    "plt.show()"
   ]
  },
  {
   "cell_type": "markdown",
   "metadata": {
    "papermill": {
     "duration": 0.057241,
     "end_time": "2020-09-21T06:38:06.128660",
     "exception": false,
     "start_time": "2020-09-21T06:38:06.071419",
     "status": "completed"
    },
    "tags": []
   },
   "source": [
    "Ottenuto il grafico delle varianze spiegate per ogni singola componente, il numero delle componenti principali da prendere in considerazione è fissato a 3 (per le motivazioni sopra riportate).\n",
    "\n",
    "Fissato il numero delle componenti, si effettua il fitting del modello e la trasformazione della matrice X di train (identificata con _x\\_train_) e della matrice X di test (_x\\_test_)\n",
    "\n",
    "Si procede, successivamente alla stampa delle seguenti informazioni:\n",
    "- Componenti identificate dalla PCA\n",
    "- Varianza spiegata da ciascuna componente\n",
    "- Varianza spiegata in percentuale da ciascuna componente\n",
    "- Valori singolari identificati"
   ]
  },
  {
   "cell_type": "code",
   "execution_count": 16,
   "metadata": {
    "execution": {
     "iopub.execute_input": "2020-09-21T06:38:06.253443Z",
     "iopub.status.busy": "2020-09-21T06:38:06.252343Z",
     "iopub.status.idle": "2020-09-21T06:38:06.264948Z",
     "shell.execute_reply": "2020-09-21T06:38:06.265716Z"
    },
    "papermill": {
     "duration": 0.079711,
     "end_time": "2020-09-21T06:38:06.265928",
     "exception": false,
     "start_time": "2020-09-21T06:38:06.186217",
     "status": "completed"
    },
    "tags": []
   },
   "outputs": [
    {
     "name": "stdout",
     "output_type": "stream",
     "text": [
      "[[ 0.2969142   0.37845649  0.38091446  0.31899759  0.34143385  0.34837921\n",
      "   0.36541481  0.33405807  0.19669629]\n",
      " [-0.10397204 -0.05273015 -0.10044127 -0.12264138  0.20970355 -0.18343615\n",
      "  -0.23293309  0.08147002  0.90706141]\n",
      " [-0.85691868  0.0280762  -0.03908356  0.41818028  0.14266065 -0.08611377\n",
      "   0.20093316  0.13165465 -0.05500098]\n",
      " [ 0.04661901 -0.22998732 -0.21902731  0.48223385 -0.40651748  0.56351586\n",
      "   0.00437552 -0.32844771  0.27148926]\n",
      " [-0.10477865  0.02377163  0.03801995 -0.09711918  0.67820526  0.32026084\n",
      "  -0.23067511 -0.58987596 -0.11783317]]\n",
      "[5.88281792 0.76414107 0.58184592 0.44627808 0.38530449]\n",
      "[0.65221378 0.08471847 0.06450785 0.04947777 0.04271778]\n",
      "[53.57998827 19.31064059 16.85054329 14.75749658 13.7123517 ]\n",
      "[ True  True  True  True  True]\n"
     ]
    }
   ],
   "source": [
    "pca = PCA(n_components=5)\n",
    "pca.fit(x_train)\n",
    "x_train = pca.transform(x_train)\n",
    "x_test = pca.transform(x_test)\n",
    "\n",
    "#Stampa dei valori della PCA\n",
    "print(pca.components_)\n",
    "print(pca.explained_variance_)\n",
    "print(pca.explained_variance_ratio_)\n",
    "print(pca.singular_values_)\n",
    "print(pca.singular_values_>=1)"
   ]
  },
  {
   "cell_type": "markdown",
   "metadata": {
    "papermill": {
     "duration": 0.05743,
     "end_time": "2020-09-21T06:38:06.381587",
     "exception": false,
     "start_time": "2020-09-21T06:38:06.324157",
     "status": "completed"
    },
    "tags": []
   },
   "source": [
    "## Plot di Accuracy"
   ]
  },
  {
   "cell_type": "markdown",
   "metadata": {
    "papermill": {
     "duration": 0.059564,
     "end_time": "2020-09-21T06:38:06.499510",
     "exception": false,
     "start_time": "2020-09-21T06:38:06.439946",
     "status": "completed"
    },
    "tags": []
   },
   "source": [
    "### Grid Search"
   ]
  },
  {
   "cell_type": "markdown",
   "metadata": {
    "papermill": {
     "duration": 0.057111,
     "end_time": "2020-09-21T06:38:06.614352",
     "exception": false,
     "start_time": "2020-09-21T06:38:06.557241",
     "status": "completed"
    },
    "tags": []
   },
   "source": [
    "### Random Search\n",
    "La Random Search è sorprendentemente efficiente rispetto alla Grid Search. Sebbene la Grid Search alla fine troverà il valore ottimale degli iperparametri (supponendo che siano nella griglia), la Random Search di solito troverà un valore \"abbastanza vicino\" in molte meno iterazioni.\n",
    "\n",
    "La ricerca Grid Search troppo tempo a valutare regioni poco promettenti dello spazio di ricerca dell'iperparametro perché deve valutare ogni singola combinazione nella griglia. La Random Search, al contrario, fa un lavoro migliore nell'esplorare lo spazio di ricerca e quindi di solito può trovare una buona combinazione di iperparametri in molte meno iterazioni.\n",
    "\n",
    "La Random Search dovrebbe probabilmente essere il primo metodo di ottimizzazione degli iperparametri provato per la sua efficacia. Anche se si tratta di un metodo che non si basa sui risultati delle valutazioni precedenti, la Random Search di solito può ancora trovare valori migliori rispetto a quella predefinita ed è semplice da eseguire."
   ]
  },
  {
   "cell_type": "code",
   "execution_count": 17,
   "metadata": {
    "execution": {
     "iopub.execute_input": "2020-09-21T06:38:06.756110Z",
     "iopub.status.busy": "2020-09-21T06:38:06.750333Z",
     "iopub.status.idle": "2020-09-21T06:38:06.763135Z",
     "shell.execute_reply": "2020-09-21T06:38:06.762372Z"
    },
    "papermill": {
     "duration": 0.091477,
     "end_time": "2020-09-21T06:38:06.763266",
     "exception": false,
     "start_time": "2020-09-21T06:38:06.671789",
     "status": "completed"
    },
    "tags": []
   },
   "outputs": [],
   "source": [
    "import matplotlib.pyplot as plt\n",
    "from sklearn.model_selection import learning_curve\n",
    "\n",
    "def plot_accuracy(used_model, best_config_gs, best_config_random_search):\n",
    "    model = used_model(**best_config_gs)\n",
    "\n",
    "    #Suddivisione delle dimensioni del training_set e raccoglimento del training_score e test_score\n",
    "    #Impostando il valore di cross_validation = 10\n",
    "\n",
    "    #Train_sizes: controlla il numero assoluto o relativo di esempi di training utilizzati per generare le curve di apprendimento. \n",
    "    #train_sizes = np.linspace (0.1, 1.0, 10) per usare 10 punti equidistanti per le dimensioni del set di dati di allenamento.\n",
    "    train_sizes, train_scores, test_scores =\\\n",
    "                    learning_curve(estimator=model,\n",
    "                                   X=x_train,\n",
    "                                   y=y_train,\n",
    "                                   train_sizes=np.linspace(0.1, 1.0, 10),\n",
    "                                   cv=10,\n",
    "                                   n_jobs=-1)\n",
    "\n",
    "    #Calcolo delle medie e delle deviazioni standard sul training e test\n",
    "    train_mean = np.mean(train_scores, axis=1)\n",
    "    train_std = np.std(train_scores, axis=1)\n",
    "    test_mean = np.mean(test_scores, axis=1)\n",
    "    test_std = np.std(test_scores, axis=1)\n",
    "\n",
    "    #Plot dei valori della GridSearch() sul grafico\n",
    "    plt.figure(figsize=(15,5))\n",
    "    plt.subplot(1, 2, 1)\n",
    "    \n",
    "    plt.plot(train_sizes, train_mean,\n",
    "             color='blue', marker='o',\n",
    "             markersize=5, label='Training accuracy')\n",
    "\n",
    "    plt.fill_between(train_sizes,\n",
    "                     train_mean + train_std,\n",
    "                     train_mean - train_std,\n",
    "                     alpha=0.15, color='blue')\n",
    "\n",
    "    plt.plot(train_sizes, test_mean,\n",
    "             color='green', linestyle='--',\n",
    "             marker='s', markersize=5,\n",
    "             label='Validation accuracy')\n",
    "\n",
    "    #la funzione fill_between indica la varianza della stima colorando la regione di piano\n",
    "    plt.fill_between(train_sizes,\n",
    "                     test_mean + test_std,\n",
    "                     test_mean - test_std,\n",
    "                     alpha=0.15, color='green')\n",
    "\n",
    "    plt.grid()\n",
    "    plt.xlabel('Number of training examples')\n",
    "    plt.ylabel('Accuracy')\n",
    "    plt.legend(loc='lower right')\n",
    "    plt.ylim([0.3, 1.03])\n",
    "    plt.tight_layout()\n",
    "    \n",
    "    #RandomSearch e relativo grafico\n",
    "    model = used_model(**best_config_random_search)\n",
    "\n",
    "    #Suddivisione delle dimensioni del training_set e raccoglimento del training_score e test_score\n",
    "    #Impostando il valore di cross_validation = 10\n",
    "\n",
    "    #Train_sizes: controlla il numero assoluto o relativo di esempi di training utilizzati per generare le curve di apprendimento. \n",
    "    #train_sizes = np.linspace (0.1, 1.0, 10) per usare 10 punti equidistanti per le dimensioni del set di dati di allenamento.\n",
    "    train_sizes, train_scores, test_scores =\\\n",
    "                    learning_curve(estimator=model,\n",
    "                                   X=x_train,\n",
    "                                   y=y_train,\n",
    "                                   train_sizes=np.linspace(0.1, 1.0, 10),\n",
    "                                   cv=10,\n",
    "                                   n_jobs=-1)\n",
    "\n",
    "    #Calcolo delle medie e delle deviazioni standard sul training e test\n",
    "    train_mean = np.mean(train_scores, axis=1)\n",
    "    train_std = np.std(train_scores, axis=1)\n",
    "    test_mean = np.mean(test_scores, axis=1)\n",
    "    test_std = np.std(test_scores, axis=1)\n",
    "    \n",
    "    plt.subplot(1, 2, 2)\n",
    "    #Plot dei valori della GridSearch() sul grafico\n",
    "    plt.plot(train_sizes, train_mean,\n",
    "             color='blue', marker='o',\n",
    "             markersize=5, label='Training accuracy')\n",
    "\n",
    "    plt.fill_between(train_sizes,\n",
    "                     train_mean + train_std,\n",
    "                     train_mean - train_std,\n",
    "                     alpha=0.15, color='blue')\n",
    "\n",
    "    plt.plot(train_sizes, test_mean,\n",
    "             color='green', linestyle='--',\n",
    "             marker='s', markersize=5,\n",
    "             label='Validation accuracy')\n",
    "\n",
    "    #la funzione fill_between indica la varianza della stima colorando la regione di piano\n",
    "    plt.fill_between(train_sizes,\n",
    "                     test_mean + test_std,\n",
    "                     test_mean - test_std,\n",
    "                     alpha=0.15, color='green')\n",
    "\n",
    "    plt.grid()\n",
    "    plt.xlabel('Number of training examples')\n",
    "    plt.ylabel('Accuracy')\n",
    "    plt.legend(loc='lower right')\n",
    "    plt.ylim([0.3, 1.03])\n",
    "    plt.tight_layout()\n",
    "    \n",
    "    plt.show()"
   ]
  },
  {
   "cell_type": "markdown",
   "metadata": {
    "papermill": {
     "duration": 0.057745,
     "end_time": "2020-09-21T06:38:06.879234",
     "exception": false,
     "start_time": "2020-09-21T06:38:06.821489",
     "status": "completed"
    },
    "tags": []
   },
   "source": [
    "## Percettrone"
   ]
  },
  {
   "cell_type": "markdown",
   "metadata": {
    "papermill": {
     "duration": 0.059458,
     "end_time": "2020-09-21T06:38:06.997794",
     "exception": false,
     "start_time": "2020-09-21T06:38:06.938336",
     "status": "completed"
    },
    "tags": []
   },
   "source": [
    "Implementa un modello che prevede l'utilizzo di un percettrone, il concetto alla base delle reti neurali.\n",
    "Tale percettrone in fase di training viene inizializzato con dei pesi, i quali vengono utilizzati per fare predizione.\n",
    "In base ai risultati ottenuti, ad ogni iterazione viene calcolata una perdita (loss), che indica il tasso di errore che si sta commettendo nella predizione.\n",
    "In base a tale metrica, vengono poi modificati i pesi in base alla funzione di attivazione che si sta utilizzando, realizzando una tecnica nota come back-propagation.\n",
    "\n",
    "L'apprendimento termina quando si raggiunge una soglia minima di errore pre-impostata, o quando si raggiunge un numero massimo di iterazioni.\n",
    "\n",
    "Parametri testati:\n",
    "- <b>tol</b>: Criterio di stop. Le iterazioni terminano quando loss > previous_loss - tol.\n",
    "- <b>eta0</b>: Costante con la quale gli updates sono moltiplicati\n",
    "- <b>penality</b>: termine di regolarizzazione da usare:\n",
    "    - <b>l2</b>\n",
    "    - <b>l1</b>\n",
    "    - <b>elasticnet</b>"
   ]
  },
  {
   "cell_type": "code",
   "execution_count": 18,
   "metadata": {
    "execution": {
     "iopub.execute_input": "2020-09-21T06:38:07.133347Z",
     "iopub.status.busy": "2020-09-21T06:38:07.132581Z",
     "iopub.status.idle": "2020-09-21T06:38:11.322663Z",
     "shell.execute_reply": "2020-09-21T06:38:11.322001Z"
    },
    "papermill": {
     "duration": 4.266438,
     "end_time": "2020-09-21T06:38:11.322791",
     "exception": false,
     "start_time": "2020-09-21T06:38:07.056353",
     "status": "completed"
    },
    "tags": []
   },
   "outputs": [
    {
     "name": "stdout",
     "output_type": "stream",
     "text": [
      "GridSearch():\n",
      "\n",
      "Per l'applicazione della GridSearch ci sono 48 combinazioni\n",
      "Migliore configurazione:  {'eta0': 1, 'penalty': 'l2', 'tol': 0.001}\n",
      "Accuracy CV: 0.9693035977277509\n",
      "Test accuracy: 0.952\n",
      "\n",
      "\n",
      "RandomizedSearch():\n",
      "\n",
      "Migliore configurazione:  {'tol': 0.001, 'penalty': 'elasticnet', 'eta0': 1}\n",
      "Accuracy CV: 0.9693035977277509\n",
      "Test accuracy: 0.952\n"
     ]
    },
    {
     "data": {
      "image/png": "[encoded data removed]",
      "text/plain": [
       "<Figure size 1080x360 with 2 Axes>"
      ]
     },
     "metadata": {
      "needs_background": "light"
     },
     "output_type": "display_data"
    }
   ],
   "source": [
    "from sklearn.model_selection import cross_val_score\n",
    "from sklearn.model_selection import StratifiedKFold\n",
    "from sklearn.linear_model import Perceptron\n",
    "from sklearn.model_selection import GridSearchCV, RandomizedSearchCV\n",
    "import numpy as np\n",
    "\n",
    "grid={'tol':[0.001,0.01,0.1,1], 'eta0': [0.001,0.01,0.1,1], 'penalty': ['l2','l1','elasticnet']}\n",
    "\n",
    "ppn = Perceptron(random_state=1, n_jobs = -1, max_iter=1000)\n",
    "ppn_cv=GridSearchCV(ppn,grid,cv=5)\n",
    "ppn_cv.fit(x_train,y_train)\n",
    "\n",
    "#Stampa degli attributi best_score sul modello e i parametri con cui quel 'best_score' è stato ottenuto\n",
    "print(\"GridSearch():\\n\")\n",
    "combinazioni = 1\n",
    "for x in grid.values():\n",
    "    combinazioni *= len(x)\n",
    "print('Per l\\'applicazione della GridSearch ci sono {} combinazioni'.format(combinazioni))\n",
    "print(\"Migliore configurazione: \",ppn_cv.best_params_)\n",
    "best_config_gs = ppn_cv.best_params_\n",
    "print(\"Accuracy CV:\",ppn_cv.best_score_)\n",
    "ppn_cv = ppn_cv.best_estimator_\n",
    "print('Test accuracy: %.3f' % ppn_cv.score(x_test, y_test))\n",
    "\n",
    "\n",
    "#RandomizedSearch\n",
    "n_iter_search = 10\n",
    "random_search = RandomizedSearchCV(ppn, param_distributions=grid, n_iter=n_iter_search, cv=5, n_jobs =-1)\n",
    "random_search.fit(x_train,y_train)\n",
    "\n",
    "#Stampa degli attributi best_score sul modello e i parametri con cui quel 'best_score' è stato ottenuto\n",
    "print(\"\\n\\nRandomizedSearch():\\n\")\n",
    "print(\"Migliore configurazione: \",random_search.best_params_)\n",
    "best_config_random_search = random_search.best_params_\n",
    "print(\"Accuracy CV:\",random_search.best_score_)\n",
    "\n",
    "random_search = random_search.best_estimator_\n",
    "print('Test accuracy: %.3f' % random_search.score(x_test, y_test))\n",
    "\n",
    "plot_accuracy(Perceptron, best_config_gs, best_config_random_search) #Stampo il grafico dell'accuratezza"
   ]
  },
  {
   "cell_type": "markdown",
   "metadata": {
    "papermill": {
     "duration": 0.059263,
     "end_time": "2020-09-21T06:38:11.441944",
     "exception": false,
     "start_time": "2020-09-21T06:38:11.382681",
     "status": "completed"
    },
    "tags": []
   },
   "source": [
    "## Linear Discriminant Analysis"
   ]
  },
  {
   "cell_type": "markdown",
   "metadata": {
    "papermill": {
     "duration": 0.060085,
     "end_time": "2020-09-21T06:38:11.563091",
     "exception": false,
     "start_time": "2020-09-21T06:38:11.503006",
     "status": "completed"
    },
    "tags": []
   },
   "source": [
    "Un classificatore lineare con un confine di decisione generato dal fitting delle densità condizionali ai dati usando la regola di Bayes.\n",
    "\n",
    "Il modello fitta una densità Gaussiana per ogni classe, assumendo che tutte le classi condividono la stessa matrice di covarianza.\n",
    "\n",
    "Il modello fittato può anche essere usato per ridurre la dimensionalità dell'input proiettando le sue direzioni più discriminative, utilizzando il metodo transform.\n",
    "\n",
    "Attraverso LDA si sfrutta la conoscenza delle classi (variabile target del problema). In particolare, si sfrutta la matrice X delle features e le informazioni che si hanno sulle Y.\n",
    "Si deve risolvere un problema di classificazione. L'obiettivo è di porre un altro vincolo: la proiezione deve tenere le classi separate tra loro.\n",
    "L’obiettivo è di trovare la direzione w che vada a massimizzare la distanza (favorendo la separazione tra le due classi), minimizzando la varianza (presente al denominatore, massimizzando la coesione all'interno della classe.)\n",
    "•  m1 (la proiezione) si ottiene da w e dalla media dell'intera classe 1. \n",
    "•  Idem anche su m2\n",
    "•  Il denominatore è calcolato mediante gli scarti quadratici med\n",
    "\n",
    "In contrasto con PCA, LDA tenta di trovare un sottospazio di features che massimizzi la separabilità delle classi.\n",
    "LDA fa ipotesi su classi distribuite normalmente e covarianze di classi uguali.\n",
    "(La PCA tende a produrre risultati di classificazione migliori in un'attività di riconoscimento delle immagini se il numero di campioni per una data classe era relativamente piccolo.)\n",
    "\n",
    "Parametri testati:\n",
    "- <b>solver</b>: risolutore da utilizzare. Si può scegliere tra:\n",
    "    - <b>svd (default)</b>:  singular value decomposition. Non viene calcolata la matrice di covarianza, tuttavia è necessario modificare questo parametro quando si è in presenza di un gran numero di features.\n",
    "    - <b>lsqr</b>: soluzione ai minimi quadrati\n",
    "    - <b>eigen</b>: decomposizione di autovalori\n",
    "- <b>tol</b>: soglia in valore assoluto per i valori singolari da considerare significanti in X. Le dimensioni i cui valori singolari non sono significanti sono scartati. Può essere utilizzato solo con svd.\n",
    "- <b>n_components</b>: numero di componenti da tenere in considerazione per la riduzione della dimensionalità."
   ]
  },
  {
   "cell_type": "code",
   "execution_count": 19,
   "metadata": {
    "execution": {
     "iopub.execute_input": "2020-09-21T06:38:11.700744Z",
     "iopub.status.busy": "2020-09-21T06:38:11.699978Z",
     "iopub.status.idle": "2020-09-21T06:38:12.905931Z",
     "shell.execute_reply": "2020-09-21T06:38:12.905144Z"
    },
    "papermill": {
     "duration": 1.281931,
     "end_time": "2020-09-21T06:38:12.906065",
     "exception": false,
     "start_time": "2020-09-21T06:38:11.624134",
     "status": "completed"
    },
    "tags": []
   },
   "outputs": [
    {
     "name": "stdout",
     "output_type": "stream",
     "text": [
      "GridSearch():\n",
      "\n",
      "Per l'applicazione della GridSearch ci sono 8 combinazioni\n",
      "Migliore configurazione:  {'solver': 'lsqr', 'tol': 0.001}\n",
      "Accuracy CV: 0.9590784767515255\n",
      "Test accuracy: 0.967\n",
      "\n",
      "\n",
      "RandomizedSearch():\n",
      "\n",
      "Migliore configurazione:  {'tol': 0.001, 'solver': 'lsqr'}\n",
      "Accuracy CV: 0.9590784767515255\n",
      "Test accuracy: 0.967\n"
     ]
    },
    {
     "name": "stderr",
     "output_type": "stream",
     "text": [
      "/opt/conda/lib/python3.7/site-packages/sklearn/model_selection/_search.py:282: UserWarning: The total space of parameters 8 is smaller than n_iter=10. Running 8 iterations. For exhaustive searches, use GridSearchCV.\n",
      "  % (grid_size, self.n_iter, grid_size), UserWarning)\n"
     ]
    },
    {
     "data": {
      "image/png": "[encoded data removed]",
      "text/plain": [
       "<Figure size 1080x360 with 2 Axes>"
      ]
     },
     "metadata": {
      "needs_background": "light"
     },
     "output_type": "display_data"
    }
   ],
   "source": [
    "from sklearn.model_selection import cross_val_score\n",
    "from sklearn.model_selection import StratifiedKFold\n",
    "from sklearn.discriminant_analysis import LinearDiscriminantAnalysis as LDA\n",
    "from sklearn.model_selection import GridSearchCV, RandomizedSearchCV\n",
    "import numpy as np\n",
    "\n",
    "x_train_lda = x_train\n",
    "y_train_lda = y_train\n",
    "\n",
    "\n",
    "grid={'solver': ['lsqr', 'eigen'], 'tol':[0.001,0.01,0.1,1]}\n",
    "\n",
    "lda = LDA()\n",
    "lda_cv=GridSearchCV(lda,grid,cv=5)\n",
    "lda_cv.fit(x_train,y_train)\n",
    "\n",
    "#Stampa degli attributi best_score sul modello e i parametri con cui quel 'best_score' è stato ottenuto\n",
    "print(\"GridSearch():\\n\")\n",
    "combinazioni = 1\n",
    "for x in grid.values():\n",
    "    combinazioni *= len(x)\n",
    "print('Per l\\'applicazione della GridSearch ci sono {} combinazioni'.format(combinazioni))\n",
    "print(\"Migliore configurazione: \",lda_cv.best_params_)\n",
    "best_config_gs = lda_cv.best_params_\n",
    "print(\"Accuracy CV:\",lda_cv.best_score_)\n",
    "lda_cv = lda_cv.best_estimator_\n",
    "print('Test accuracy: %.3f' % lda_cv.score(x_test, y_test))\n",
    "\n",
    "#RandomizedSearch\n",
    "n_iter_search = 10\n",
    "random_search = RandomizedSearchCV(lda, param_distributions=grid, n_iter=n_iter_search, cv=5, n_jobs =-1)\n",
    "random_search.fit(x_train,y_train)\n",
    "\n",
    "#Stampa degli attributi best_score sul modello e i parametri con cui quel 'best_score' è stato ottenuto\n",
    "print(\"\\n\\nRandomizedSearch():\\n\")\n",
    "print(\"Migliore configurazione: \",random_search.best_params_)\n",
    "best_config_random_search = random_search.best_params_\n",
    "print(\"Accuracy CV:\",random_search.best_score_)\n",
    "\n",
    "random_search = random_search.best_estimator_\n",
    "print('Test accuracy: %.3f' % random_search.score(x_test, y_test))\n",
    "\n",
    "plot_accuracy(LDA, best_config_gs, best_config_random_search) #Stampo il grafico dell'accuratezza"
   ]
  },
  {
   "cell_type": "markdown",
   "metadata": {
    "papermill": {
     "duration": 0.068121,
     "end_time": "2020-09-21T06:38:13.048628",
     "exception": false,
     "start_time": "2020-09-21T06:38:12.980507",
     "status": "completed"
    },
    "tags": []
   },
   "source": [
    "## Regressione Lineare"
   ]
  },
  {
   "cell_type": "markdown",
   "metadata": {
    "papermill": {
     "duration": 0.062866,
     "end_time": "2020-09-21T06:38:13.174993",
     "exception": false,
     "start_time": "2020-09-21T06:38:13.112127",
     "status": "completed"
    },
    "tags": []
   },
   "source": [
    "La regressione lineare è una tecnica di analisi predittiva di base che utilizza dati raccolti per prevedere una variabile di output. </br>L'idea alla base della regressione lineare è che se risulta possibile adattare un modello di regressione lineare ai casi osservati, allora è possibile utilizzare tale modello per prevedere eventuali valori futuri.\n",
    "\n",
    "Per semplicità si descrive il funzionamento di un modello di regressione lineare semplice:\n",
    "\n",
    "In un modello di regressione lineare esistono due tipi di variabili:\n",
    "- <b>Variabile di input</b>: sono le variabili che aiutano a prevedere il valore della variabile di output. Viene comunemente indicata con X\n",
    "- <b>Variabile di output</b>: è la variabile che si vuole prevedere. Viene comunemente indicata con Y.\n",
    "\n",
    "Per stimare Y, usando la regressione lineare, si sfrutta la seguente equazione: ${Y\\_predicted = a0+a1*X}$.</br>L'obiettivo è trovare valori statisticamente significativi dei parametri $a0$ e $a1$ che minimizzino la differenza tra $Y$ e $Y\\_predicted$ sfruttando una tecnica di minimizzazione dell'errore.</br>\n",
    "Se si è in grado di determinare i valori ottimali per tali parametri, allora si otterrà la retta di _best fit_ che è possibile utilizzare per prevedere i valori di Y dato X."
   ]
  },
  {
   "cell_type": "markdown",
   "metadata": {
    "papermill": {
     "duration": 0.065805,
     "end_time": "2020-09-21T06:38:13.304257",
     "exception": false,
     "start_time": "2020-09-21T06:38:13.238452",
     "status": "completed"
    },
    "tags": []
   },
   "source": [
    "Nel seguente snippet di codice viene utilizzato il modello LinearRegressione della libreria sklearn per trovare la migliore retta di regressione, minimizzando i quadrati dei residui.\n",
    "In questo caso, non si tratta di regressione lineare semplice perchè i dati in input sono multidimensionali."
   ]
  },
  {
   "cell_type": "code",
   "execution_count": 20,
   "metadata": {
    "execution": {
     "iopub.execute_input": "2020-09-21T06:38:13.445064Z",
     "iopub.status.busy": "2020-09-21T06:38:13.440907Z",
     "iopub.status.idle": "2020-09-21T06:38:13.450666Z",
     "shell.execute_reply": "2020-09-21T06:38:13.451250Z"
    },
    "papermill": {
     "duration": 0.082239,
     "end_time": "2020-09-21T06:38:13.451432",
     "exception": false,
     "start_time": "2020-09-21T06:38:13.369193",
     "status": "completed"
    },
    "tags": []
   },
   "outputs": [
    {
     "name": "stdout",
     "output_type": "stream",
     "text": [
      "Accuracy of Linear regression classifier on training set: 0.83\n",
      "Accuracy of Linear regression classifier on test set: 0.83\n"
     ]
    }
   ],
   "source": [
    "from sklearn import linear_model\n",
    "\n",
    "regr = linear_model.LinearRegression(n_jobs = -1)\n",
    "regr.fit(x_train, y_train)\n",
    "\n",
    "print('Accuracy of Linear regression classifier on training set: {:.2f}'\n",
    "     .format(regr.score(x_train, y_train)))\n",
    "print('Accuracy of Linear regression classifier on test set: {:.2f}'\n",
    "     .format(regr.score(x_test, y_test)))"
   ]
  },
  {
   "cell_type": "markdown",
   "metadata": {
    "papermill": {
     "duration": 0.062374,
     "end_time": "2020-09-21T06:38:13.578012",
     "exception": false,
     "start_time": "2020-09-21T06:38:13.515638",
     "status": "completed"
    },
    "tags": []
   },
   "source": [
    "## Regressione Polinomiale"
   ]
  },
  {
   "cell_type": "markdown",
   "metadata": {
    "papermill": {
     "duration": 0.06259,
     "end_time": "2020-09-21T06:38:13.703899",
     "exception": false,
     "start_time": "2020-09-21T06:38:13.641309",
     "status": "completed"
    },
    "tags": []
   },
   "source": [
    "La regressione polinomiale utilizza lo stesso metodo della regressione lineare, ma assume che la funzione che meglio descrive l’andamento dei dati non sia una retta (lineare), ma un polinomio (curva). Quindi è adatta quando lo scatterplot di una relazione bivariata, ad esempio, mostra una forma diversa da quella della retta, ad esempio una curva.\n",
    "\n",
    "Per adempiere alla realizzazione del task di regressione polinomiale è stato realizzato un apposito snippet:"
   ]
  },
  {
   "cell_type": "code",
   "execution_count": 21,
   "metadata": {
    "execution": {
     "iopub.execute_input": "2020-09-21T06:38:13.841741Z",
     "iopub.status.busy": "2020-09-21T06:38:13.840998Z",
     "iopub.status.idle": "2020-09-21T06:38:13.857453Z",
     "shell.execute_reply": "2020-09-21T06:38:13.858263Z"
    },
    "papermill": {
     "duration": 0.091441,
     "end_time": "2020-09-21T06:38:13.858461",
     "exception": false,
     "start_time": "2020-09-21T06:38:13.767020",
     "status": "completed"
    },
    "tags": []
   },
   "outputs": [
    {
     "name": "stdout",
     "output_type": "stream",
     "text": [
      "Accuracy of Linear regression classifier on training set: 0.89\n",
      "Accuracy of Linear regression classifier on test set: 0.78\n"
     ]
    }
   ],
   "source": [
    "from sklearn.linear_model import LinearRegression\n",
    "from sklearn.preprocessing import PolynomialFeatures\n",
    "\n",
    "polynomial_features= PolynomialFeatures(degree=3)\n",
    "x_poly_train = polynomial_features.fit_transform(x_train)\n",
    "x_poly_test = polynomial_features.fit_transform(x_test)\n",
    "\n",
    "model = LinearRegression(n_jobs = -1)\n",
    "model.fit(x_poly_train, y_train)\n",
    "\n",
    "print('Accuracy of Linear regression classifier on training set: {:.2f}'\n",
    "     .format(model.score(x_poly_train, y_train)))\n",
    "print('Accuracy of Linear regression classifier on test set: {:.2f}'\n",
    "     .format(model.score(x_poly_test, y_test)))"
   ]
  },
  {
   "cell_type": "markdown",
   "metadata": {
    "papermill": {
     "duration": 0.067666,
     "end_time": "2020-09-21T06:38:13.996729",
     "exception": false,
     "start_time": "2020-09-21T06:38:13.929063",
     "status": "completed"
    },
    "tags": []
   },
   "source": [
    "## Regressione Logistica"
   ]
  },
  {
   "cell_type": "markdown",
   "metadata": {
    "papermill": {
     "duration": 0.07055,
     "end_time": "2020-09-21T06:38:14.131171",
     "exception": false,
     "start_time": "2020-09-21T06:38:14.060621",
     "status": "completed"
    },
    "tags": []
   },
   "source": [
    "La regressione logistica è uno degli algoritmi di apprendimento automatico più semplici e comunemente utilizzati per la classificazione a due classi. È facile da implementare e può essere utilizzata come base per qualsiasi problema di classificazione binaria.\n",
    "\n",
    "Lo scopo di questo algoritmo è quello di descrivere e stimare la probabilità di una variabile dipendente categorica da una o più variabili indipendenti. La variabile dipendente è una variabile binaria che contiene dati codificati come 1 (sì, successo, ecc.) o 0 (no, errore, ecc.). In altre parole, il modello di regressione logistica prevede P (Y = 1) come funzione di X.\n",
    "\n",
    "\n",
    "Nel caso rappresentato in seguito, si è in presenza di Regressione Logistica Multinomiale, in quanto le variabili da predire non sono dicotomiche, ma possono assumere più di due valori.\n",
    "Per testare i molteplici parametri del modello _logreg_ è stata utilizzata la GridSearchCV() per ottenere la configurazione migliore del settaggio dei parametri da utilizzare.\n",
    "\n",
    "Parametri testati:\n",
    "- <b>solvers</b>: indica l'algoritmo da utilizzare nel problema di ottimizzazione\n",
    "- <b>multi_class</b>:\n",
    "    - <b>ovr</b>: viene fittato un problema binario per ogni etichetta.\n",
    "    - <b>multinomial</b>: la loss minimizzata è la loss multinomiale fittata su tutta la distribuzione di probabilitù, anche quando i dati sono binari.\n",
    "    - <b>auto (default)</b>: viene selezionato il miglior parametro automaticamente\n",
    "- <b>C</b>: Inverso della potenza di regolarizzazione, inteso come float positivo. Valori più piccoli indicano una regolarizzazione più forte."
   ]
  },
  {
   "cell_type": "code",
   "execution_count": 22,
   "metadata": {
    "execution": {
     "iopub.execute_input": "2020-09-21T06:38:14.276646Z",
     "iopub.status.busy": "2020-09-21T06:38:14.275510Z",
     "iopub.status.idle": "2020-09-21T06:38:18.512281Z",
     "shell.execute_reply": "2020-09-21T06:38:18.511274Z"
    },
    "papermill": {
     "duration": 4.316556,
     "end_time": "2020-09-21T06:38:18.512421",
     "exception": false,
     "start_time": "2020-09-21T06:38:14.195865",
     "status": "completed"
    },
    "tags": []
   },
   "outputs": [
    {
     "name": "stdout",
     "output_type": "stream",
     "text": [
      "GridSearch():\n",
      "\n",
      "Per l'applicazione della GridSearch ci sono 60 combinazioni\n",
      "Migliore configurazione:  {'C': 10, 'multi_class': 'auto', 'solver': 'newton-cg'}\n",
      "Accuracy CV: 0.9631601094045866\n",
      "Test accuracy: 0.962\n",
      "\n",
      "\n",
      "RandomizedSearch():\n",
      "\n",
      "Migliore configurazione:  {'solver': 'newton-cg', 'multi_class': 'ovr', 'C': 50}\n",
      "Accuracy CV: 0.9631601094045866\n",
      "Test accuracy: 0.962\n"
     ]
    },
    {
     "data": {
      "image/png": "[encoded data removed]",
      "text/plain": [
       "<Figure size 1080x360 with 2 Axes>"
      ]
     },
     "metadata": {
      "needs_background": "light"
     },
     "output_type": "display_data"
    }
   ],
   "source": [
    "# Grid search cross validation\n",
    "from sklearn.model_selection import GridSearchCV\n",
    "from sklearn.linear_model import LogisticRegression\n",
    "\n",
    "solvers = ['newton-cg', 'lbfgs', 'sag', 'saga']\n",
    "multiclass_values = ['auto', 'ovr', 'multinomial']\n",
    "C = [x for x in range(10,100+1,20)]\n",
    "\n",
    "grid={'solver':solvers, 'multi_class':multiclass_values, 'C':C}\n",
    "logreg=LogisticRegression(random_state=1, max_iter=500)\n",
    "logreg_cv=GridSearchCV(logreg,grid,cv=5)\n",
    "logreg_cv.fit(x_train,y_train)\n",
    "\n",
    "#Stampa degli attributi best_score sul modello e i parametri con cui quel 'best_score' è stato ottenuto\n",
    "print(\"GridSearch():\\n\")\n",
    "combinazioni = 1\n",
    "for x in grid.values():\n",
    "    combinazioni *= len(x)\n",
    "print('Per l\\'applicazione della GridSearch ci sono {} combinazioni'.format(combinazioni))\n",
    "print(\"Migliore configurazione: \",logreg_cv.best_params_)\n",
    "best_config_gs = logreg_cv.best_params_\n",
    "print(\"Accuracy CV:\",logreg_cv.best_score_)\n",
    "logreg_be = logreg_cv.best_estimator_\n",
    "print('Test accuracy: %.3f' % logreg_be.score(x_test, y_test))\n",
    "\n",
    "#RandomizedSearch\n",
    "n_iter_search = 10\n",
    "random_search = RandomizedSearchCV(logreg, param_distributions=grid, n_iter=n_iter_search, cv=5, n_jobs =-1)\n",
    "random_search.fit(x_train,y_train)\n",
    "\n",
    "#Stampa degli attributi best_score sul modello e i parametri con cui quel 'best_score' è stato ottenuto\n",
    "print(\"\\n\\nRandomizedSearch():\\n\")\n",
    "print(\"Migliore configurazione: \",random_search.best_params_)\n",
    "best_config_random_search = random_search.best_params_\n",
    "print(\"Accuracy CV:\",random_search.best_score_)\n",
    "\n",
    "random_search = random_search.best_estimator_\n",
    "print('Test accuracy: %.3f' % random_search.score(x_test, y_test))\n",
    "\n",
    "plot_accuracy(LogisticRegression, best_config_gs, best_config_random_search) #Stampo il grafico dell'accuratezza"
   ]
  },
  {
   "cell_type": "markdown",
   "metadata": {
    "papermill": {
     "duration": 0.065942,
     "end_time": "2020-09-21T06:38:18.645643",
     "exception": false,
     "start_time": "2020-09-21T06:38:18.579701",
     "status": "completed"
    },
    "tags": []
   },
   "source": [
    "## Regressione mediante Random forest\n",
    "\n",
    "Una Random Forest è un meta stimatore che si adatta ad una serie di alberi decisionali su vari sottocampioni del dataset e utilizza la media per migliorare l'accuratezza predittiva e il controllo dell'overfitting.\n",
    "\n",
    "La differenza tra RandomForestClassifier e RandomForestRegressor, sta nel fatto che nel primo caso, viene utilizzato un classificatore per predire un insieme specificato di labels.\n",
    "\n",
    "Nel secondo caso invece, viene utilizzato un regressore per predire valori reali, che possono variare e non appartengono ad un insieme limitato di valori che si possono assumere.\n",
    "\n",
    "Parametri testati:\n",
    "- <b>n_estimators</b>: numero di alberi nella foresta\n",
    "- <b>criterion</b>: funzione per misurare la qualità di una divisione. I criteri supportati sono \"mse\" (errore quadratico medio) e \"mae\" (errore medio assoluto)\n",
    "- <b>max_features</b>: numero di features da considerare quando si cerca la migliore suddivisione."
   ]
  },
  {
   "cell_type": "code",
   "execution_count": 23,
   "metadata": {
    "execution": {
     "iopub.execute_input": "2020-09-21T06:38:18.795565Z",
     "iopub.status.busy": "2020-09-21T06:38:18.794825Z",
     "iopub.status.idle": "2020-09-21T06:51:12.212663Z",
     "shell.execute_reply": "2020-09-21T06:51:12.213226Z"
    },
    "papermill": {
     "duration": 773.499253,
     "end_time": "2020-09-21T06:51:12.213416",
     "exception": false,
     "start_time": "2020-09-21T06:38:18.714163",
     "status": "completed"
    },
    "tags": []
   },
   "outputs": [
    {
     "name": "stdout",
     "output_type": "stream",
     "text": [
      "GridSearch():\n",
      "\n",
      "Per l'applicazione della GridSearch ci sono 18 combinazioni\n",
      "Migliore configurazione:  {'criterion': 'mae', 'max_features': 'auto', 'n_estimators': 1500}\n",
      "Accuracy CV: 0.8667596601153305\n",
      "Test accuracy: 0.902\n",
      "\n",
      "\n",
      "RandomizedSearch():\n",
      "\n",
      "Migliore configurazione:  {'n_estimators': 2000, 'max_features': 'sqrt', 'criterion': 'mse'}\n",
      "Accuracy CV: 0.862820175275208\n",
      "Test accuracy: 0.909\n"
     ]
    },
    {
     "data": {
      "image/png": "[encoded data removed]",
      "text/plain": [
       "<Figure size 1080x360 with 2 Axes>"
      ]
     },
     "metadata": {
      "needs_background": "light"
     },
     "output_type": "display_data"
    }
   ],
   "source": [
    "# Grid search cross validation\n",
    "from sklearn.model_selection import GridSearchCV\n",
    "from sklearn.ensemble import RandomForestRegressor\n",
    "\n",
    "grid={'n_estimators':[x for x in range(1000,2000+1,500)], 'criterion':['mae','mse'], 'max_features':['auto', 'sqrt', 'log2']}\n",
    "forest = RandomForestRegressor(random_state=1, n_jobs=-1)\n",
    "forest_cv=GridSearchCV(forest,grid,cv=5)\n",
    "forest_cv.fit(x_train,y_train)\n",
    "\n",
    "#Stampa degli attributi best_score sul modello e i parametri con cui quel 'best_score' è stato ottenuto\n",
    "print(\"GridSearch():\\n\")\n",
    "combinazioni = 1\n",
    "for x in grid.values():\n",
    "    combinazioni *= len(x)\n",
    "print('Per l\\'applicazione della GridSearch ci sono {} combinazioni'.format(combinazioni))\n",
    "print(\"Migliore configurazione: \",forest_cv.best_params_)\n",
    "best_config_gs = forest_cv.best_params_\n",
    "print(\"Accuracy CV:\",forest_cv.best_score_)\n",
    "forest_be = forest_cv.best_estimator_\n",
    "print('Test accuracy: %.3f' % forest_be.score(x_test, y_test))\n",
    "\n",
    "#RandomizedSearch\n",
    "n_iter_search = 10\n",
    "random_search = RandomizedSearchCV(forest, param_distributions=grid, n_iter=n_iter_search, cv=5, n_jobs =-1)\n",
    "random_search.fit(x_train,y_train)\n",
    "\n",
    "#Stampa degli attributi best_score sul modello e i parametri con cui quel 'best_score' è stato ottenuto\n",
    "print(\"\\n\\nRandomizedSearch():\\n\")\n",
    "print(\"Migliore configurazione: \",random_search.best_params_)\n",
    "best_config_random_search = random_search.best_params_\n",
    "print(\"Accuracy CV:\",random_search.best_score_)\n",
    "\n",
    "random_search = random_search.best_estimator_\n",
    "print('Test accuracy: %.3f' % random_search.score(x_test, y_test))\n",
    "\n",
    "plot_accuracy(RandomForestRegressor, best_config_gs, best_config_random_search) #Stampo il grafico dell'accuratezza"
   ]
  },
  {
   "cell_type": "markdown",
   "metadata": {
    "papermill": {
     "duration": 0.067735,
     "end_time": "2020-09-21T06:51:12.351110",
     "exception": false,
     "start_time": "2020-09-21T06:51:12.283375",
     "status": "completed"
    },
    "tags": []
   },
   "source": [
    "# Utilizzo di metodi regolarizzati per la regressione"
   ]
  },
  {
   "cell_type": "markdown",
   "metadata": {
    "papermill": {
     "duration": 0.068037,
     "end_time": "2020-09-21T06:51:12.487798",
     "exception": false,
     "start_time": "2020-09-21T06:51:12.419761",
     "status": "completed"
    },
    "tags": []
   },
   "source": [
    "Gli approcci popolari per i modelli lineare di regressione regolarizzata sono: Ridge Regression, least absolute shrinkage and selection operator (LASSO), and elastic Net.\n",
    "\n",
    "![](https://res.cloudinary.com/dyd911kmh/image/upload/f_auto,q_auto:best/v1543418451/tradeoff_sevifm.png)"
   ]
  },
  {
   "cell_type": "markdown",
   "metadata": {
    "papermill": {
     "duration": 0.068562,
     "end_time": "2020-09-21T06:51:12.624677",
     "exception": false,
     "start_time": "2020-09-21T06:51:12.556115",
     "status": "completed"
    },
    "tags": []
   },
   "source": [
    "### Ridge Regression"
   ]
  },
  {
   "cell_type": "markdown",
   "metadata": {
    "papermill": {
     "duration": 0.069049,
     "end_time": "2020-09-21T06:51:12.761938",
     "exception": false,
     "start_time": "2020-09-21T06:51:12.692889",
     "status": "completed"
    },
    "tags": []
   },
   "source": [
    "Questo modello è conosciuto anche come regressione della cresta o regolarizzazione di Tikhonov. Questo stimatore ha un supporto integrato per la regressione multi-variata, cioè quando y è un array multi-dimensionale.\n",
    "\n",
    "E' un ottima soluzione da adottare quando si è in presenza multi-collinearità tra i vari esempi.\n",
    "\n",
    "Dunque, Ridge aggiunge un fattore di penalizzazione (norma l2) alla cost function. Ciò determina la perdita di importanza del valore di una feature, che a seconda della penalità può essere più o meno accentuata. La forza della penalità è modificabile e controllata da un iperparametro.\n",
    "\n",
    "Parametro utilizzato:\n",
    "- <b>alpha</b>: forza di regolarizzazione. Migliora il condizionamento del problema. Valori più grandi specificano una regolarizzazione più forte.\n",
    "\n",
    "![](https://res.cloudinary.com/dyd911kmh/image/upload/f_auto,q_auto:best/v1543418449/eq7_ylxudw.png)"
   ]
  },
  {
   "cell_type": "code",
   "execution_count": 24,
   "metadata": {
    "execution": {
     "iopub.execute_input": "2020-09-21T06:51:12.920629Z",
     "iopub.status.busy": "2020-09-21T06:51:12.907575Z",
     "iopub.status.idle": "2020-09-21T06:51:12.925934Z",
     "shell.execute_reply": "2020-09-21T06:51:12.925381Z"
    },
    "papermill": {
     "duration": 0.094645,
     "end_time": "2020-09-21T06:51:12.926067",
     "exception": false,
     "start_time": "2020-09-21T06:51:12.831422",
     "status": "completed"
    },
    "tags": []
   },
   "outputs": [],
   "source": [
    "from sklearn.linear_model import Ridge\n",
    "ridge = Ridge(alpha=1.0)\n",
    "\n",
    "ridge.fit(x_train, y_train)\n",
    "y_train_pred = ridge.predict(x_train)\n",
    "y_test_pred = ridge.predict(x_test)"
   ]
  },
  {
   "cell_type": "code",
   "execution_count": 25,
   "metadata": {
    "execution": {
     "iopub.execute_input": "2020-09-21T06:51:13.076739Z",
     "iopub.status.busy": "2020-09-21T06:51:13.074763Z",
     "iopub.status.idle": "2020-09-21T06:51:13.079139Z",
     "shell.execute_reply": "2020-09-21T06:51:13.078573Z"
    },
    "papermill": {
     "duration": 0.084267,
     "end_time": "2020-09-21T06:51:13.079253",
     "exception": false,
     "start_time": "2020-09-21T06:51:12.994986",
     "status": "completed"
    },
    "tags": []
   },
   "outputs": [
    {
     "name": "stdout",
     "output_type": "stream",
     "text": [
      "MSE train: 0.156, test: 0.152\n",
      "R^2 train: 0.829, test: 0.825\n"
     ]
    }
   ],
   "source": [
    "from sklearn.metrics import r2_score\n",
    "from sklearn.metrics import mean_squared_error\n",
    "\n",
    "print('MSE train: %.3f, test: %.3f' % (\n",
    "        mean_squared_error(y_train, y_train_pred),\n",
    "        mean_squared_error(y_test, y_test_pred)))\n",
    "print('R^2 train: %.3f, test: %.3f' % (\n",
    "        r2_score(y_train, y_train_pred),\n",
    "        r2_score(y_test, y_test_pred)))"
   ]
  },
  {
   "cell_type": "markdown",
   "metadata": {
    "papermill": {
     "duration": 0.070592,
     "end_time": "2020-09-21T06:51:13.219206",
     "exception": false,
     "start_time": "2020-09-21T06:51:13.148614",
     "status": "completed"
    },
    "tags": []
   },
   "source": [
    "### Lasso Regression"
   ]
  },
  {
   "cell_type": "markdown",
   "metadata": {
    "papermill": {
     "duration": 0.070354,
     "end_time": "2020-09-21T06:51:13.360895",
     "exception": false,
     "start_time": "2020-09-21T06:51:13.290541",
     "status": "completed"
    },
    "tags": []
   },
   "source": [
    "Una caratteristica fondamentale della Lasso regression riguarda la gestione delle feature di importanza minore.\n",
    "Contrariamente alla Ridge regression, che minimizzando il peso di alcune feature ne riduce la contribuzione al modello, la lasso regression effettua una vera e propria feature selection (prendendo in considerazione solo le variabili indipendenti) portando le restanti a zero attraverso un opportuno valore di peso associato generando quindi un modello sparso.\n",
    "\n",
    "A differenza di Ridge, Lasso penalizza la somma dei valori assoluti, ovvero la L1.\n",
    "\n",
    "Parametro utilizzato:\n",
    "- <b>alpha</b>: costante che moltiplica il termine l1.\n",
    "\n",
    "![](https://res.cloudinary.com/dyd911kmh/image/upload/f_auto,q_auto:best/v1543418448/eq11_ij4mms.png)"
   ]
  },
  {
   "cell_type": "code",
   "execution_count": 26,
   "metadata": {
    "execution": {
     "iopub.execute_input": "2020-09-21T06:51:13.518373Z",
     "iopub.status.busy": "2020-09-21T06:51:13.517670Z",
     "iopub.status.idle": "2020-09-21T06:51:13.521274Z",
     "shell.execute_reply": "2020-09-21T06:51:13.521742Z"
    },
    "papermill": {
     "duration": 0.085371,
     "end_time": "2020-09-21T06:51:13.521989",
     "exception": false,
     "start_time": "2020-09-21T06:51:13.436618",
     "status": "completed"
    },
    "tags": []
   },
   "outputs": [],
   "source": [
    "from sklearn.linear_model import Lasso\n",
    "lasso = Lasso(alpha=1.0)\n",
    "\n",
    "lasso.fit(x_train, y_train)\n",
    "y_train_pred = lasso.predict(x_train)\n",
    "y_test_pred = lasso.predict(x_test)"
   ]
  },
  {
   "cell_type": "code",
   "execution_count": 27,
   "metadata": {
    "execution": {
     "iopub.execute_input": "2020-09-21T06:51:13.670116Z",
     "iopub.status.busy": "2020-09-21T06:51:13.669395Z",
     "iopub.status.idle": "2020-09-21T06:51:13.675145Z",
     "shell.execute_reply": "2020-09-21T06:51:13.674368Z"
    },
    "papermill": {
     "duration": 0.084729,
     "end_time": "2020-09-21T06:51:13.675309",
     "exception": false,
     "start_time": "2020-09-21T06:51:13.590580",
     "status": "completed"
    },
    "tags": []
   },
   "outputs": [
    {
     "name": "stdout",
     "output_type": "stream",
     "text": [
      "MSE train: 0.350, test: 0.326\n",
      "R^2 train: 0.618, test: 0.625\n"
     ]
    }
   ],
   "source": [
    "from sklearn.metrics import r2_score\n",
    "from sklearn.metrics import mean_squared_error\n",
    "\n",
    "print('MSE train: %.3f, test: %.3f' % (\n",
    "        mean_squared_error(y_train, y_train_pred),\n",
    "        mean_squared_error(y_test, y_test_pred)))\n",
    "print('R^2 train: %.3f, test: %.3f' % (\n",
    "        r2_score(y_train, y_train_pred),\n",
    "        r2_score(y_test, y_test_pred)))"
   ]
  },
  {
   "cell_type": "markdown",
   "metadata": {
    "papermill": {
     "duration": 0.069764,
     "end_time": "2020-09-21T06:51:13.816262",
     "exception": false,
     "start_time": "2020-09-21T06:51:13.746498",
     "status": "completed"
    },
    "tags": []
   },
   "source": [
    "### Elastic Net"
   ]
  },
  {
   "cell_type": "markdown",
   "metadata": {
    "papermill": {
     "duration": 0.069096,
     "end_time": "2020-09-21T06:51:13.955446",
     "exception": false,
     "start_time": "2020-09-21T06:51:13.886350",
     "status": "completed"
    },
    "tags": []
   },
   "source": [
    "Elastic Net è emerso per la prima volta a seguito di una critica alla Lasso Regression, la cui feature selection potrebbe essere troppo dipendente dai dati, rendendo il modello instabile.\n",
    "\n",
    "La soluzione è quella di combinare le penalità della regressione Ridge e Lasso per ottenere i vantaggi da entrambi i modelli.\n",
    "\n",
    "Si utilizzano quindi due parametri regolarizzatori, che corrispondono rispettivamente alle funzioni di regolarizzazione di Ridge e Lasso regression.\n",
    "\n",
    "Parametri utilizzati:\n",
    "- <b>alpha</b>: costante che moltiplica il termine di penalità.\n",
    "- <b>l1_ratio</b>: parametro di mix di elasticNet. Per l1_ratio=0 la penalità è la norma l2. Per l1_ratio=1 la penalità è la norma l1, altrimenti è una combinazione di l1 e l2.\n",
    "\n",
    "![](https://res.cloudinary.com/dyd911kmh/image/upload/f_auto,q_auto:best/v1543418448/eq12_vh6ilt.png)"
   ]
  },
  {
   "cell_type": "code",
   "execution_count": 28,
   "metadata": {
    "execution": {
     "iopub.execute_input": "2020-09-21T06:51:14.103489Z",
     "iopub.status.busy": "2020-09-21T06:51:14.102467Z",
     "iopub.status.idle": "2020-09-21T06:51:14.108188Z",
     "shell.execute_reply": "2020-09-21T06:51:14.107381Z"
    },
    "papermill": {
     "duration": 0.083258,
     "end_time": "2020-09-21T06:51:14.108333",
     "exception": false,
     "start_time": "2020-09-21T06:51:14.025075",
     "status": "completed"
    },
    "tags": []
   },
   "outputs": [],
   "source": [
    "from sklearn.linear_model import ElasticNet\n",
    "elanet = ElasticNet(alpha=1.0, l1_ratio=0.5)\n",
    "\n",
    "elanet.fit(x_train, y_train)\n",
    "y_train_pred = elanet.predict(x_train)\n",
    "y_test_pred = elanet.predict(x_test)"
   ]
  },
  {
   "cell_type": "code",
   "execution_count": 29,
   "metadata": {
    "execution": {
     "iopub.execute_input": "2020-09-21T06:51:14.274075Z",
     "iopub.status.busy": "2020-09-21T06:51:14.273195Z",
     "iopub.status.idle": "2020-09-21T06:51:14.279876Z",
     "shell.execute_reply": "2020-09-21T06:51:14.280574Z"
    },
    "papermill": {
     "duration": 0.100828,
     "end_time": "2020-09-21T06:51:14.280771",
     "exception": false,
     "start_time": "2020-09-21T06:51:14.179943",
     "status": "completed"
    },
    "tags": []
   },
   "outputs": [
    {
     "name": "stdout",
     "output_type": "stream",
     "text": [
      "MSE train: 0.246, test: 0.229\n",
      "R^2 train: 0.732, test: 0.736\n"
     ]
    }
   ],
   "source": [
    "from sklearn.metrics import r2_score\n",
    "from sklearn.metrics import mean_squared_error\n",
    "\n",
    "print('MSE train: %.3f, test: %.3f' % (\n",
    "        mean_squared_error(y_train, y_train_pred),\n",
    "        mean_squared_error(y_test, y_test_pred)))\n",
    "print('R^2 train: %.3f, test: %.3f' % (\n",
    "        r2_score(y_train, y_train_pred),\n",
    "        r2_score(y_test, y_test_pred)))"
   ]
  },
  {
   "cell_type": "markdown",
   "metadata": {
    "papermill": {
     "duration": 0.073418,
     "end_time": "2020-09-21T06:51:14.435039",
     "exception": false,
     "start_time": "2020-09-21T06:51:14.361621",
     "status": "completed"
    },
    "tags": []
   },
   "source": [
    "## Decision Tree"
   ]
  },
  {
   "cell_type": "markdown",
   "metadata": {
    "papermill": {
     "duration": 0.070167,
     "end_time": "2020-09-21T06:51:14.575824",
     "exception": false,
     "start_time": "2020-09-21T06:51:14.505657",
     "status": "completed"
    },
    "tags": []
   },
   "source": [
    "Gli alberi decisionali (DT) sono un metodo di apprendimento supervisionato non parametrico utilizzato per la classificazione e la regressione.\n",
    "L'obiettivo è creare un modello che preveda il valore di una variabile target apprendendo semplici regole decisionali dedotte dalle caratteristiche dei dati.\n",
    "\n",
    "Alcuni vantaggi degli alberi decisionali sono:\n",
    "- Semplice da capire e da interpretare. Gli alberi possono essere visualizzati.\n",
    "- Potrebbe richiedere poca preparazione dei dati. Altre tecniche spesso richiedono la normalizzazione dei dati, la creazione di variabili fittizie e la rimozione dei valori vuoti. Si noti tuttavia che questo modulo non supporta i valori mancanti.\n",
    "- Il costo dell'utilizzo dell'albero (ovvero la previsione dei dati) è logaritmico nel numero di punti dati utilizzati per addestrare l'albero.\n",
    "- In grado di gestire dati sia numerici che categoriali. Altre tecniche sono solitamente specializzate nell'analisi di set di dati che hanno un solo tipo di variabile. Vedi algoritmi per maggiori informazioni.\n",
    "- In grado di gestire problemi con più output.\n",
    "- Se una data situazione è osservabile in un modello, la spiegazione della condizione è facilmente spiegabile dalla logica booleana.\n",
    "- Possibilità di validare un modello utilizzando test statistici. Ciò consente di tenere conto dell'affidabilità del modello.\n",
    "\n",
    "Gli svantaggi degli alberi decisionali includono:\n",
    "- Gli studenti che apprendono l'albero decisionale possono creare alberi troppo complessi che non generalizzano bene i dati. Questo si chiama overfitting. Per evitare questo problema sono necessari meccanismi come la potatura, l'impostazione del numero minimo di campioni richiesto su un nodo fogliare o l'impostazione della profondità massima dell'albero.\n",
    "- Gli alberi decisionali possono essere instabili perché piccole variazioni nei dati potrebbero comportare la generazione di un albero completamente diverso. Questo problema viene mitigato utilizzando alberi decisionali all'interno di un insieme.\n",
    "- Il problema dell'apprendimento di un albero decisionale ottimale è noto per essere NP-completo sotto diversi aspetti dell'ottimalità e anche per concetti semplici. Di conseguenza, gli algoritmi pratici di apprendimento dell'albero decisionale sono basati su algoritmi euristici come l'algoritmo greedy in cui vengono prese decisioni ottimali a livello locale in ogni nodo. Tali algoritmi non possono garantire la restituzione dell'albero decisionale ottimale a livello globale. Ciò può essere mitigato addestrando più alberi in un gruppo di studenti, in cui le caratteristiche e i campioni vengono campionati in modo casuale con la sostituzione.\n",
    "- Ci sono concetti che sono difficili da imparare perché gli alberi decisionali non li esprimono facilmente, come XOR, parità o problemi di multiplexer.\n",
    "- Si potrebbero creare alberi sbilanciati. Si consiglia pertanto di bilanciare il set di dati prima di adattarlo all'albero decisionale.\n",
    "\n",
    "Parametri testati:\n",
    "- <b>criterion</b>: indica la funzione da utilizzare per la misurazione della qualità di uno split. I criteri supportati sono:\n",
    "    - <b>gini</b>: misura di impurità\n",
    "    - <b>entropy</b>: information gain\n",
    "- <b>splitter</b>: la strategia usata per scegliere lo split ad ogni nodo. Le strategie supportate sono:\n",
    "    - <b>best</b>: seleziona il miglior split\n",
    "    - <b>random</b>: sceglie in modo casuale"
   ]
  },
  {
   "cell_type": "code",
   "execution_count": 30,
   "metadata": {
    "execution": {
     "iopub.execute_input": "2020-09-21T06:51:14.735285Z",
     "iopub.status.busy": "2020-09-21T06:51:14.734223Z",
     "iopub.status.idle": "2020-09-21T06:51:15.949602Z",
     "shell.execute_reply": "2020-09-21T06:51:15.948982Z"
    },
    "papermill": {
     "duration": 1.303318,
     "end_time": "2020-09-21T06:51:15.949747",
     "exception": false,
     "start_time": "2020-09-21T06:51:14.646429",
     "status": "completed"
    },
    "tags": []
   },
   "outputs": [
    {
     "name": "stdout",
     "output_type": "stream",
     "text": [
      "GridSearch():\n",
      "\n",
      "Per l'applicazione della GridSearch ci sono 4 combinazioni\n",
      "Migliore configurazione:  {'criterion': 'entropy', 'splitter': 'best'}\n",
      "Accuracy CV: 0.9508941721018305\n",
      "Test accuracy: 0.933\n",
      "\n",
      "\n",
      "RandomizedSearch():\n",
      "\n",
      "Migliore configurazione:  {'splitter': 'random', 'criterion': 'gini'}\n",
      "Accuracy CV: 0.9448138018093836\n",
      "Test accuracy: 0.967\n"
     ]
    },
    {
     "data": {
      "image/png": "[encoded data removed]",
      "text/plain": [
       "<Figure size 1080x360 with 2 Axes>"
      ]
     },
     "metadata": {
      "needs_background": "light"
     },
     "output_type": "display_data"
    }
   ],
   "source": [
    "# Grid search cross validation\n",
    "from sklearn.model_selection import GridSearchCV\n",
    "from sklearn.tree import DecisionTreeClassifier\n",
    "\n",
    "\n",
    "grid={'criterion':['gini','entropy'], 'splitter':['best', 'random']}\n",
    "\n",
    "clf = DecisionTreeClassifier()\n",
    "clf_cv=GridSearchCV(clf,grid,cv=5)\n",
    "clf_cv.fit(x_train,y_train)\n",
    "\n",
    "#Stampa degli attributi best_score sul modello e i parametri con cui quel 'best_score' è stato ottenuto\n",
    "print(\"GridSearch():\\n\")\n",
    "combinazioni = 1\n",
    "for x in grid.values():\n",
    "    combinazioni *= len(x)\n",
    "print('Per l\\'applicazione della GridSearch ci sono {} combinazioni'.format(combinazioni))\n",
    "print(\"Migliore configurazione: \",clf_cv.best_params_)\n",
    "best_config_gs = clf_cv.best_params_\n",
    "print(\"Accuracy CV:\",clf_cv.best_score_)\n",
    "clf_be = clf_cv.best_estimator_\n",
    "print('Test accuracy: %.3f' % clf_be.score(x_test, y_test))\n",
    "\n",
    "#RandomizedSearch\n",
    "n_iter_search = 2\n",
    "random_search = RandomizedSearchCV(clf, param_distributions=grid, n_iter=n_iter_search, cv=5, n_jobs =-1)\n",
    "random_search.fit(x_train,y_train)\n",
    "\n",
    "#Stampa degli attributi best_score sul modello e i parametri con cui quel 'best_score' è stato ottenuto\n",
    "print(\"\\n\\nRandomizedSearch():\\n\")\n",
    "print(\"Migliore configurazione: \",random_search.best_params_)\n",
    "best_config_random_search = random_search.best_params_\n",
    "print(\"Accuracy CV:\",random_search.best_score_)\n",
    "\n",
    "random_search = random_search.best_estimator_\n",
    "print('Test accuracy: %.3f' % random_search.score(x_test, y_test))\n",
    "\n",
    "plot_accuracy(DecisionTreeClassifier, best_config_gs, best_config_random_search) #Stampo il grafico dell'accuratezza"
   ]
  },
  {
   "cell_type": "markdown",
   "metadata": {
    "papermill": {
     "duration": 0.074254,
     "end_time": "2020-09-21T06:51:16.100784",
     "exception": false,
     "start_time": "2020-09-21T06:51:16.026530",
     "status": "completed"
    },
    "tags": []
   },
   "source": [
    "## Random Forest"
   ]
  },
  {
   "cell_type": "markdown",
   "metadata": {
    "papermill": {
     "duration": 0.073471,
     "end_time": "2020-09-21T06:51:16.246985",
     "exception": false,
     "start_time": "2020-09-21T06:51:16.173514",
     "status": "completed"
    },
    "tags": []
   },
   "source": [
    "Una foresta casuale (in inglese: random forest) è un classificatore d'insieme ottenuto dall'aggregazione tramite bagging di alberi di decisione.\n",
    "Le foreste casuali si pongono come soluzione che minimizza l'overfitting del training set rispetto agli alberi di decisione.\n",
    "\n",
    "Parametri testati:\n",
    "- <b>n_estimators</b>: numero di alberi decisionali da utilizzare nella random forest\n",
    "- <b>criterion</b>: indica la funzione da utilizzare per la misurazione della qualità di uno split. I criteri supportati sono:\n",
    "    - <b>gini</b>: misura di impurità\n",
    "    - <b>entropy</b>: information gain"
   ]
  },
  {
   "cell_type": "code",
   "execution_count": 31,
   "metadata": {
    "execution": {
     "iopub.execute_input": "2020-09-21T06:51:16.408646Z",
     "iopub.status.busy": "2020-09-21T06:51:16.407938Z",
     "iopub.status.idle": "2020-09-21T06:51:42.647188Z",
     "shell.execute_reply": "2020-09-21T06:51:42.647768Z"
    },
    "papermill": {
     "duration": 26.327675,
     "end_time": "2020-09-21T06:51:42.647979",
     "exception": false,
     "start_time": "2020-09-21T06:51:16.320304",
     "status": "completed"
    },
    "tags": []
   },
   "outputs": [
    {
     "name": "stdout",
     "output_type": "stream",
     "text": [
      "GridSearch():\n",
      "\n",
      "Per l'applicazione della GridSearch ci sono 20 combinazioni\n",
      "Migliore configurazione:  {'criterion': 'entropy', 'n_estimators': 15}\n",
      "Accuracy CV: 0.9651798863875447\n",
      "Test accuracy: 0.967\n",
      "\n",
      "\n",
      "RandomizedSearch():\n",
      "\n",
      "Migliore configurazione:  {'n_estimators': 20, 'criterion': 'gini'}\n",
      "Accuracy CV: 0.9631390700610141\n",
      "Test accuracy: 0.967\n"
     ]
    },
    {
     "data": {
      "image/png": "[encoded data removed]",
      "text/plain": [
       "<Figure size 1080x360 with 2 Axes>"
      ]
     },
     "metadata": {
      "needs_background": "light"
     },
     "output_type": "display_data"
    }
   ],
   "source": [
    "# Grid search cross validation\n",
    "from sklearn.model_selection import GridSearchCV\n",
    "from sklearn.ensemble import RandomForestClassifier\n",
    "\n",
    "estimators = [x for x in range(5,50+1,5)]\n",
    "criterion_list = ['gini','entropy']\n",
    "grid={'n_estimators':estimators, 'criterion':criterion_list}\n",
    "\n",
    "forest = RandomForestClassifier(random_state=1, n_jobs=-1)\n",
    "forest_cv=GridSearchCV(forest,grid,cv=5)\n",
    "forest_cv.fit(x_train,y_train)\n",
    "\n",
    "#Stampa degli attributi best_score sul modello e i parametri con cui quel 'best_score' è stato ottenuto\n",
    "print(\"GridSearch():\\n\")\n",
    "combinazioni = 1\n",
    "for x in grid.values():\n",
    "    combinazioni *= len(x)\n",
    "print('Per l\\'applicazione della GridSearch ci sono {} combinazioni'.format(combinazioni))\n",
    "print(\"Migliore configurazione: \",forest_cv.best_params_)\n",
    "best_config_gs = forest_cv.best_params_\n",
    "print(\"Accuracy CV:\",forest_cv.best_score_)\n",
    "forest_cv = forest_cv.best_estimator_\n",
    "print('Test accuracy: %.3f' % forest_cv.score(x_test, y_test))\n",
    "\n",
    "#RandomizedSearch\n",
    "n_iter_search = 10\n",
    "random_search = RandomizedSearchCV(forest, param_distributions=grid, n_iter=n_iter_search, cv=5, n_jobs =-1)\n",
    "random_search.fit(x_train,y_train)\n",
    "\n",
    "#Stampa degli attributi best_score sul modello e i parametri con cui quel 'best_score' è stato ottenuto\n",
    "print(\"\\n\\nRandomizedSearch():\\n\")\n",
    "print(\"Migliore configurazione: \",random_search.best_params_)\n",
    "best_config_random_search = random_search.best_params_\n",
    "print(\"Accuracy CV:\",random_search.best_score_)\n",
    "\n",
    "random_search = random_search.best_estimator_\n",
    "print('Test accuracy: %.3f' % random_search.score(x_test, y_test))\n",
    "\n",
    "plot_accuracy(RandomForestClassifier, best_config_gs, best_config_random_search) #Stampo il grafico dell'accuratezza"
   ]
  },
  {
   "cell_type": "markdown",
   "metadata": {
    "papermill": {
     "duration": 0.075784,
     "end_time": "2020-09-21T06:51:42.798507",
     "exception": false,
     "start_time": "2020-09-21T06:51:42.722723",
     "status": "completed"
    },
    "tags": []
   },
   "source": [
    "## K-nearest Neighbor"
   ]
  },
  {
   "cell_type": "markdown",
   "metadata": {
    "papermill": {
     "duration": 0.073963,
     "end_time": "2020-09-21T06:51:42.946339",
     "exception": false,
     "start_time": "2020-09-21T06:51:42.872376",
     "status": "completed"
    },
    "tags": []
   },
   "source": [
    "Il k-nearest neighbors (k-NN) è un algoritmo che di solito viene utilizzato nel riconoscimento di pattern per la classificazione di oggetti basandosi sulle caratteristiche degli oggetti vicini a quello considerato.\n",
    "\n",
    "Un oggetto è classificato in base alla maggioranza dei voti dei suoi k vicini. k è un intero positivo tipicamente non molto grande. In un contesto binario in cui sono presenti esclusivamente due classi è opportuno scegliere k dispari per evitare di ritrovarsi in situazioni di parità.\n",
    "Considerando solo i voti dei k oggetti vicini c'è l'inconveniente dovuto alla predominanza delle classi con più oggetti. In questo caso può risultare utile pesare i contributi dei vicini in modo da dare, nel calcolo della media, maggior importanza in base alla distanza dall'oggetto considerato.\n",
    "\n",
    "La scelta di k dipende dalle caratteristiche dei dati. Generalmente all'aumentare di k si riduce il rumore che compromette la classificazione, ma il criterio di scelta per la classe diventa più labile. La scelta può esser presa attraverso tecniche euristiche, come ad esempio la cross validation.\n",
    "\n",
    "Parametri testati:\n",
    "- <b>algorithm</b>: algoritmo utilizzato per computare i migliori k vicini\n",
    "    - <b>auto</b>: seleziona il miglior algoritmo automaticamente\n",
    "    - <b>ball_tree</b>: utilizza un ballTree\n",
    "    - <b>kd_tree</b>: utilizza un albero kd\n",
    "    - <b>brute</b>: ricerca brute force\n",
    "- <b>weights</b>: funzione di peso da utilizzare per la predizione\n",
    "    - <b>uniform</b>: ciascun nodo ha lo stesso peso\n",
    "    - <b>distance</b>: ciascun nodo viene pesato in base all'inverso della distanza con i suoi vicini\n",
    "- <b>n_neighbors</b>: numero di vicini da tenere in considerazione"
   ]
  },
  {
   "cell_type": "code",
   "execution_count": 32,
   "metadata": {
    "execution": {
     "iopub.execute_input": "2020-09-21T06:51:43.111233Z",
     "iopub.status.busy": "2020-09-21T06:51:43.105099Z",
     "iopub.status.idle": "2020-09-21T06:52:17.767996Z",
     "shell.execute_reply": "2020-09-21T06:52:17.768486Z"
    },
    "papermill": {
     "duration": 34.747043,
     "end_time": "2020-09-21T06:52:17.768642",
     "exception": false,
     "start_time": "2020-09-21T06:51:43.021599",
     "status": "completed"
    },
    "tags": []
   },
   "outputs": [
    {
     "name": "stdout",
     "output_type": "stream",
     "text": [
      "GridSearch():\n",
      "\n",
      "Per l'applicazione della GridSearch ci sono 160 combinazioni\n",
      "Migliore configurazione:  {'algorithm': 'auto', 'n_neighbors': 18, 'weights': 'uniform'}\n",
      "Accuracy CV: 0.9672207027140753\n",
      "Test accuracy: 0.967\n",
      "\n",
      "\n",
      "RandomizedSearch():\n",
      "\n",
      "Migliore configurazione:  {'weights': 'uniform', 'n_neighbors': 17, 'algorithm': 'brute'}\n",
      "Accuracy CV: 0.9651798863875447\n",
      "Test accuracy: 0.971\n"
     ]
    },
    {
     "data": {
      "image/png": "[encoded data removed]",
      "text/plain": [
       "<Figure size 1080x360 with 2 Axes>"
      ]
     },
     "metadata": {
      "needs_background": "light"
     },
     "output_type": "display_data"
    }
   ],
   "source": [
    "# Grid search cross validation\n",
    "from sklearn.model_selection import GridSearchCV\n",
    "from sklearn.neighbors import KNeighborsClassifier\n",
    "\n",
    "\n",
    "grid={'algorithm':['auto', 'ball_tree', 'kd_tree', 'brute'], 'weights':['uniform', 'distance'], 'n_neighbors':[x for x in range(1,20+1)]}\n",
    "\n",
    "knn = KNeighborsClassifier(n_jobs = -1)\n",
    "knn_cv = GridSearchCV(knn,grid,cv=5)\n",
    "knn_cv.fit(x_train,y_train)\n",
    "\n",
    "#Stampa degli attributi best_score sul modello e i parametri con cui quel 'best_score' è stato ottenuto\n",
    "print(\"GridSearch():\\n\")\n",
    "combinazioni = 1\n",
    "for x in grid.values():\n",
    "    combinazioni *= len(x)\n",
    "print('Per l\\'applicazione della GridSearch ci sono {} combinazioni'.format(combinazioni))\n",
    "print(\"Migliore configurazione: \",knn_cv.best_params_)\n",
    "best_config_gs = knn_cv.best_params_\n",
    "print(\"Accuracy CV:\",knn_cv.best_score_)\n",
    "knn_cv = knn_cv.best_estimator_\n",
    "print('Test accuracy: %.3f' % knn_cv.score(x_test, y_test))\n",
    "\n",
    "#RandomizedSearch\n",
    "n_iter_search = 10\n",
    "random_search = RandomizedSearchCV(knn, param_distributions=grid, n_iter=n_iter_search, cv=5, n_jobs =-1)\n",
    "random_search.fit(x_train,y_train)\n",
    "\n",
    "#Stampa degli attributi best_score sul modello e i parametri con cui quel 'best_score' è stato ottenuto\n",
    "print(\"\\n\\nRandomizedSearch():\\n\")\n",
    "print(\"Migliore configurazione: \",random_search.best_params_)\n",
    "best_config_random_search = random_search.best_params_\n",
    "print(\"Accuracy CV:\",random_search.best_score_)\n",
    "\n",
    "random_search = random_search.best_estimator_\n",
    "print('Test accuracy: %.3f' % random_search.score(x_test, y_test))\n",
    "\n",
    "plot_accuracy(KNeighborsClassifier, best_config_gs, best_config_random_search) #Stampo il grafico dell'accuratezza"
   ]
  },
  {
   "cell_type": "markdown",
   "metadata": {
    "papermill": {
     "duration": 0.080465,
     "end_time": "2020-09-21T06:52:17.925693",
     "exception": false,
     "start_time": "2020-09-21T06:52:17.845228",
     "status": "completed"
    },
    "tags": []
   },
   "source": [
    "## Gaussian Naive Bayes"
   ]
  },
  {
   "cell_type": "markdown",
   "metadata": {
    "papermill": {
     "duration": 0.076314,
     "end_time": "2020-09-21T06:52:18.080881",
     "exception": false,
     "start_time": "2020-09-21T06:52:18.004567",
     "status": "completed"
    },
    "tags": []
   },
   "source": [
    "Il teorema di Bayes proposto da Thomas Bayes, è utilizzato per calcolare la probabilità condizionata di un evento A, sapendo che si è verificato un evento B, a partire dalla conoscenza delle probabilità a priori degli eventi A e B e della probabilità condizionata di B noto A.\n",
    "Il teorema di Bayes è utilizzato in molti campi, come nella diagnosi medica per calcolare la probabilità che un individuo sia affetto da una malattia sapendo che presenti determinati sintomi.\n",
    "\n",
    "Considerando un insieme di variabili aleatorie indipendenti $A_1, ..., A_n$ che partizionano l'insieme degli eventi $\\Omega$, la probabilità condizionata è definita come:\n",
    "$$P(A_i|B) = \\frac{P(B|A_i)P(A_i)}{P(B)} = \\frac{P(B|A_i)P(A_i)}{\\sum_{j=1}^nP(B|A_j)P(A_j)}$$\n",
    "\n",
    "Dove:\n",
    "\n",
    "- $P(A_i|B)$: probabilità condizionata di $A_i$ noto B. E' anche conosciuta come probabilità a posteriori visto che dipende dallo specifico valore di B.\n",
    "- $P(B|A_i)$: probabilità condizionata di B noto $A_i$\n",
    "- $P(A_i)$: probabilità a priori di $A_i$.\n",
    "- $P(B)$: probabilità a priori di B, e funge da costante di normalizzazione, che permette di ottenre $P(A_i|B) = 1$ al variare di $i$.\n",
    "\n",
    "L'espressione Naive Bayes (\"ingenuo\") indica il fatto che si fanno forti assunzioni di indipendenza nel modello. Si assume infatti che data una certa classe, ciascuna delle variabili aleatorie (features) siano indipendenti.\n",
    "Formalmente quindi dato un vettore $B=(B_1, ..., B_n)$ si assume che sia verificata:\n",
    "$$P(B_1, ..., B_n|A) = \\prod_{i=1}^{n}P(B_i|A)$$\n",
    "Questa assunzione di indipendenza però non sempre è verificata nella realtà, motivo per il quale è detto \"Naive Bayes\". Nonostante ciò, i modelli che utilizzano Naive Bayes funzionano sorprendentemente bene.\n",
    "\n",
    "Questa particolarità sta a significare che la probabilità a posteriori:\n",
    "$$P(A|B_1, ..., B_n) \\propto P(A)P(B_1|A)...P(B_n|A)$$\n",
    "\n",
    "Il teorema può essere rivisto in diverse maniere a seconda della distribuzione di probabilità delle varie variabili aleatorie.\n",
    "\n",
    "\n",
    "Nel caso esposto nello snippet seguente, si utilizza Gaussian Naive Bayes, perchè si assume che le feature di cui si dispone seguano una distribuzione Gaussiana.\n",
    "\n",
    "Per questo motivo, la probabilità a posteriori può essere calcolata di volta in volta mediante l'uso dell'equazione Gaussiana."
   ]
  },
  {
   "cell_type": "code",
   "execution_count": 33,
   "metadata": {
    "execution": {
     "iopub.execute_input": "2020-09-21T06:52:18.236860Z",
     "iopub.status.busy": "2020-09-21T06:52:18.236172Z",
     "iopub.status.idle": "2020-09-21T06:52:18.252898Z",
     "shell.execute_reply": "2020-09-21T06:52:18.254095Z"
    },
    "papermill": {
     "duration": 0.097325,
     "end_time": "2020-09-21T06:52:18.254315",
     "exception": false,
     "start_time": "2020-09-21T06:52:18.156990",
     "status": "completed"
    },
    "tags": []
   },
   "outputs": [
    {
     "name": "stdout",
     "output_type": "stream",
     "text": [
      "Accuracy of GNB classifier on training set: 0.96\n",
      "Accuracy of GNB classifier on test set: 0.96\n"
     ]
    }
   ],
   "source": [
    "from sklearn.naive_bayes import GaussianNB\n",
    "gnb = GaussianNB()\n",
    "gnb.fit(x_train, y_train)\n",
    "\n",
    "print('Accuracy of GNB classifier on training set: {:.2f}'\n",
    "     .format(gnb.score(x_train, y_train)))\n",
    "print('Accuracy of GNB classifier on test set: {:.2f}'\n",
    "     .format(gnb.score(x_test, y_test)))"
   ]
  },
  {
   "cell_type": "markdown",
   "metadata": {
    "papermill": {
     "duration": 0.097501,
     "end_time": "2020-09-21T06:52:18.436279",
     "exception": false,
     "start_time": "2020-09-21T06:52:18.338778",
     "status": "completed"
    },
    "tags": []
   },
   "source": [
    "## Support Vector Machine"
   ]
  },
  {
   "cell_type": "markdown",
   "metadata": {
    "papermill": {
     "duration": 0.095659,
     "end_time": "2020-09-21T06:52:18.624426",
     "exception": false,
     "start_time": "2020-09-21T06:52:18.528767",
     "status": "completed"
    },
    "tags": []
   },
   "source": [
    "Support Vector Machine (SVM), sono dei modelli di apprendimento supervisionato associati ad algoritmi di apprendimento per la regressione e la classificazione. Dato un insieme di esempi per l'addestramento, ognuno dei quali etichettato con la classe di appartenenza fra le due possibili classi, un algoritmo di addestramento per le SVM costruisce un modello che assegna i nuovi esempi a una delle due classi, ottenendo quindi un classificatore lineare binario non probabilistico. Un modello SVM è una rappresentazione degli esempi come punti nello spazio, mappati in modo tale che gli esempi appartenenti alle due diverse categorie siano chiaramente separati da uno spazio il più possibile ampio. I nuovi esempi sono quindi mappati nello stesso spazio e la predizione della categoria alla quale appartengono viene fatta sulla base del lato nel quale ricade.\n",
    "\n",
    "Oltre alla classificazione lineare è possibile fare uso delle SVM per svolgere efficacemente la classificazione non lineare utilizzando il metodo kernel, mappando implicitamente i loro ingressi in uno spazio delle features multi-dimensionale.\n",
    "\n",
    "Quando gli esempi non sono etichettati è impossibile addestrare in modo supervisionato e si rende necessario l'apprendimento non supervisionato: questo approccio cerca d'identificare i naturali gruppi in cui si raggruppano i dati, mappando successivamente i nuovi dati nei gruppi ottenuti. L'algoritmo di raggruppamento a vettori di supporto, applica le statistiche dei vettori di supporto, sviluppate negli algoritmi delle SVM, per classificare dati non etichettati, ed è uno degli algoritmi di raggruppamento maggiormente utilizzato nelle applicazioni industriali.\n",
    "\n",
    "Al fine di testare i differenti Kernel disponibili per SVC, è stata implementata una GridSearch con l'ausilio di una 10-Fold Cross Validation.\n",
    "\n",
    "Parametri testati:\n",
    "- <b>kernel</b>: specifica il tipo di kernel da utilizzare nell'algoritmo. I possibili valori sono:\n",
    "    - <b>linear</b>\n",
    "    - <b>poly</b>\n",
    "    - <b>rbg (default)</b>\n",
    "    - <b>sigmoid</b>\n",
    "    - <b>precoumputed</b>"
   ]
  },
  {
   "cell_type": "code",
   "execution_count": 34,
   "metadata": {
    "execution": {
     "iopub.execute_input": "2020-09-21T06:52:18.838677Z",
     "iopub.status.busy": "2020-09-21T06:52:18.821791Z",
     "iopub.status.idle": "2020-09-21T06:52:20.900397Z",
     "shell.execute_reply": "2020-09-21T06:52:20.899430Z"
    },
    "papermill": {
     "duration": 2.190231,
     "end_time": "2020-09-21T06:52:20.900614",
     "exception": false,
     "start_time": "2020-09-21T06:52:18.710383",
     "status": "completed"
    },
    "tags": []
   },
   "outputs": [
    {
     "name": "stdout",
     "output_type": "stream",
     "text": [
      "GridSearch():\n",
      "\n",
      "Per l'applicazione della GridSearch ci sono 4 combinazioni\n",
      "Migliore configurazione:  {'kernel': 'linear'}\n",
      "Accuracy CV: 0.9692825583841784\n",
      "Test accuracy: 0.967\n",
      "\n",
      "\n",
      "RandomizedSearch():\n",
      "\n",
      "Migliore configurazione:  {'kernel': 'linear'}\n",
      "Accuracy CV: 0.9692825583841784\n",
      "Test accuracy: 0.967\n"
     ]
    },
    {
     "data": {
      "image/png": "[encoded data removed]",
      "text/plain": [
       "<Figure size 1080x360 with 2 Axes>"
      ]
     },
     "metadata": {
      "needs_background": "light"
     },
     "output_type": "display_data"
    }
   ],
   "source": [
    "# Grid search cross validation\n",
    "from sklearn.model_selection import GridSearchCV\n",
    "from sklearn.svm import SVC\n",
    "\n",
    "kernel_list = ['linear', 'poly', 'rbf', 'sigmoid']\n",
    "\n",
    "grid={'kernel':kernel_list}\n",
    "svm=SVC()\n",
    "svm_cv=GridSearchCV(svm,grid,cv=5)\n",
    "svm_cv.fit(x_train,y_train)\n",
    "\n",
    "#Stampa degli attributi best_score sul modello e i parametri con cui quel 'best_score' è stato ottenuto\n",
    "#Stampa degli attributi best_score sul modello e i parametri con cui quel 'best_score' è stato ottenuto\n",
    "print(\"GridSearch():\\n\")\n",
    "combinazioni = 1\n",
    "for x in grid.values():\n",
    "    combinazioni *= len(x)\n",
    "print('Per l\\'applicazione della GridSearch ci sono {} combinazioni'.format(combinazioni))\n",
    "print(\"Migliore configurazione: \",svm_cv.best_params_)\n",
    "best_config_gs = svm_cv.best_params_\n",
    "print(\"Accuracy CV:\",svm_cv.best_score_)\n",
    "svm_be = svm_cv.best_estimator_\n",
    "print('Test accuracy: %.3f' % svm_be.score(x_test, y_test))\n",
    "\n",
    "#RandomizedSearch\n",
    "n_iter_search = 2\n",
    "random_search = RandomizedSearchCV(svm, param_distributions=grid, n_iter=n_iter_search, cv=5, n_jobs =-1)\n",
    "random_search.fit(x_train,y_train)\n",
    "\n",
    "#Stampa degli attributi best_score sul modello e i parametri con cui quel 'best_score' è stato ottenuto\n",
    "print(\"\\n\\nRandomizedSearch():\\n\")\n",
    "print(\"Migliore configurazione: \",random_search.best_params_)\n",
    "best_config_random_search = random_search.best_params_\n",
    "print(\"Accuracy CV:\",random_search.best_score_)\n",
    "\n",
    "random_search = random_search.best_estimator_\n",
    "print('Test accuracy: %.3f' % random_search.score(x_test, y_test))\n",
    "\n",
    "plot_accuracy(SVC, best_config_gs, best_config_random_search) #Stampo il grafico dell'accuratezza"
   ]
  },
  {
   "cell_type": "markdown",
   "metadata": {
    "papermill": {
     "duration": 0.089243,
     "end_time": "2020-09-21T06:52:21.089460",
     "exception": false,
     "start_time": "2020-09-21T06:52:21.000217",
     "status": "completed"
    },
    "tags": []
   },
   "source": [
    "## Matrice di confusione per K-nn"
   ]
  },
  {
   "cell_type": "markdown",
   "metadata": {
    "papermill": {
     "duration": 0.088992,
     "end_time": "2020-09-21T06:52:21.265520",
     "exception": false,
     "start_time": "2020-09-21T06:52:21.176528",
     "status": "completed"
    },
    "tags": []
   },
   "source": [
    "Dopo aver visionato l'accuratezza di ciascun classificatore, è possibile affermare che il K-nearest Neighbor ha restituito la maggiore accuratezza rispetto a tutti i modelli di classificazione testati.\n",
    "\n",
    "Pertanto, per esso è definita la matrice di confusione con le relative metriche di valutazione del modello."
   ]
  },
  {
   "cell_type": "code",
   "execution_count": 35,
   "metadata": {
    "execution": {
     "iopub.execute_input": "2020-09-21T06:52:21.445681Z",
     "iopub.status.busy": "2020-09-21T06:52:21.444659Z",
     "iopub.status.idle": "2020-09-21T06:52:21.578100Z",
     "shell.execute_reply": "2020-09-21T06:52:21.579097Z"
    },
    "papermill": {
     "duration": 0.22638,
     "end_time": "2020-09-21T06:52:21.579294",
     "exception": false,
     "start_time": "2020-09-21T06:52:21.352914",
     "status": "completed"
    },
    "tags": []
   },
   "outputs": [
    {
     "name": "stdout",
     "output_type": "stream",
     "text": [
      "[[140   3]\n",
      " [  4  63]]\n",
      "              precision    recall  f1-score   support\n",
      "\n",
      "           2       0.97      0.98      0.98       143\n",
      "           4       0.95      0.94      0.95        67\n",
      "\n",
      "    accuracy                           0.97       210\n",
      "   macro avg       0.96      0.96      0.96       210\n",
      "weighted avg       0.97      0.97      0.97       210\n",
      "\n"
     ]
    }
   ],
   "source": [
    "from sklearn.metrics import classification_report\n",
    "from sklearn.metrics import confusion_matrix\n",
    "pred = knn_cv.predict(x_test)\n",
    "\n",
    "print(confusion_matrix(y_test, pred))\n",
    "print(classification_report(y_test, pred))"
   ]
  }
 ],
 "metadata": {
  "kernelspec": {
   "display_name": "Python 3",
   "language": "python",
   "name": "python3"
  },
  "language_info": {
   "codemirror_mode": {
    "name": "ipython",
    "version": 3
   },
   "file_extension": ".py",
   "mimetype": "text/x-python",
   "name": "python",
   "nbconvert_exporter": "python",
   "pygments_lexer": "ipython3",
   "version": "3.7.6"
  },
  "papermill": {
   "duration": 867.984286,
   "end_time": "2020-09-21T06:52:21.810589",
   "environment_variables": {},
   "exception": null,
   "input_path": "__notebook__.ipynb",
   "output_path": "__notebook__.ipynb",
   "parameters": {},
   "start_time": "2020-09-21T06:37:53.826303",
   "version": "2.1.0"
  }
 },
 "nbformat": 4,
 "nbformat_minor": 4
}
