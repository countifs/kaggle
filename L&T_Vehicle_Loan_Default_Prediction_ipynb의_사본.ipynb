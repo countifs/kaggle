{
  "nbformat": 4,
  "nbformat_minor": 0,
  "metadata": {
    "colab": {
      "name": "L&T Vehicle Loan Default Prediction.ipynb의 사본",
      "provenance": [],
      "collapsed_sections": [],
      "background_execution": "on",
      "authorship_tag": "ABX9TyN1Rd7Vvrj2/UhIPxPt7MRM",
      "include_colab_link": true
    },
    "kernelspec": {
      "name": "python3",
      "display_name": "Python 3"
    },
    "language_info": {
      "name": "python"
    }
  },
  "cells": [
    {
      "cell_type": "markdown",
      "metadata": {
        "id": "view-in-github",
        "colab_type": "text"
      },
      "source": [
        "<a href=\"https://colab.research.google.com/github/countifs/kaggle/blob/main/L%26T_Vehicle_Loan_Default_Prediction_ipynb%EC%9D%98_%EC%82%AC%EB%B3%B8.ipynb\" target=\"_parent\"><img src=\"https://colab.research.google.com/assets/colab-badge.svg\" alt=\"Open In Colab\"/></a>"
      ]
    },
    {
      "cell_type": "markdown",
      "source": [
        "# **1. 작업환경 설정**"
      ],
      "metadata": {
        "id": "SnSKOTPtonmD"
      }
    },
    {
      "cell_type": "markdown",
      "source": [
        "> ## **1.1 런타임 유형 변경 : None → GPU**"
      ],
      "metadata": {
        "id": "sCG7l83bso0G"
      }
    },
    {
      "cell_type": "code",
      "source": [
        "! cat /proc/cpuinfo"
      ],
      "metadata": {
        "id": "lG0EFA8bu19P",
        "colab": {
          "base_uri": "https://localhost:8080/"
        },
        "collapsed": true,
        "outputId": "9c622bbb-8567-4835-c553-9a6610eb911e"
      },
      "execution_count": null,
      "outputs": [
        {
          "output_type": "stream",
          "name": "stdout",
          "text": [
            "processor\t: 0\n",
            "vendor_id\t: GenuineIntel\n",
            "cpu family\t: 6\n",
            "model\t\t: 79\n",
            "model name\t: Intel(R) Xeon(R) CPU @ 2.20GHz\n",
            "stepping\t: 0\n",
            "microcode\t: 0x1\n",
            "cpu MHz\t\t: 2199.998\n",
            "cache size\t: 56320 KB\n",
            "physical id\t: 0\n",
            "siblings\t: 2\n",
            "core id\t\t: 0\n",
            "cpu cores\t: 1\n",
            "apicid\t\t: 0\n",
            "initial apicid\t: 0\n",
            "fpu\t\t: yes\n",
            "fpu_exception\t: yes\n",
            "cpuid level\t: 13\n",
            "wp\t\t: yes\n",
            "flags\t\t: fpu vme de pse tsc msr pae mce cx8 apic sep mtrr pge mca cmov pat pse36 clflush mmx fxsr sse sse2 ss ht syscall nx pdpe1gb rdtscp lm constant_tsc rep_good nopl xtopology nonstop_tsc cpuid tsc_known_freq pni pclmulqdq ssse3 fma cx16 pcid sse4_1 sse4_2 x2apic movbe popcnt aes xsave avx f16c rdrand hypervisor lahf_lm abm 3dnowprefetch invpcid_single ssbd ibrs ibpb stibp fsgsbase tsc_adjust bmi1 hle avx2 smep bmi2 erms invpcid rtm rdseed adx smap xsaveopt arat md_clear arch_capabilities\n",
            "bugs\t\t: cpu_meltdown spectre_v1 spectre_v2 spec_store_bypass l1tf mds swapgs taa\n",
            "bogomips\t: 4399.99\n",
            "clflush size\t: 64\n",
            "cache_alignment\t: 64\n",
            "address sizes\t: 46 bits physical, 48 bits virtual\n",
            "power management:\n",
            "\n",
            "processor\t: 1\n",
            "vendor_id\t: GenuineIntel\n",
            "cpu family\t: 6\n",
            "model\t\t: 79\n",
            "model name\t: Intel(R) Xeon(R) CPU @ 2.20GHz\n",
            "stepping\t: 0\n",
            "microcode\t: 0x1\n",
            "cpu MHz\t\t: 2199.998\n",
            "cache size\t: 56320 KB\n",
            "physical id\t: 0\n",
            "siblings\t: 2\n",
            "core id\t\t: 0\n",
            "cpu cores\t: 1\n",
            "apicid\t\t: 1\n",
            "initial apicid\t: 1\n",
            "fpu\t\t: yes\n",
            "fpu_exception\t: yes\n",
            "cpuid level\t: 13\n",
            "wp\t\t: yes\n",
            "flags\t\t: fpu vme de pse tsc msr pae mce cx8 apic sep mtrr pge mca cmov pat pse36 clflush mmx fxsr sse sse2 ss ht syscall nx pdpe1gb rdtscp lm constant_tsc rep_good nopl xtopology nonstop_tsc cpuid tsc_known_freq pni pclmulqdq ssse3 fma cx16 pcid sse4_1 sse4_2 x2apic movbe popcnt aes xsave avx f16c rdrand hypervisor lahf_lm abm 3dnowprefetch invpcid_single ssbd ibrs ibpb stibp fsgsbase tsc_adjust bmi1 hle avx2 smep bmi2 erms invpcid rtm rdseed adx smap xsaveopt arat md_clear arch_capabilities\n",
            "bugs\t\t: cpu_meltdown spectre_v1 spectre_v2 spec_store_bypass l1tf mds swapgs taa\n",
            "bogomips\t: 4399.99\n",
            "clflush size\t: 64\n",
            "cache_alignment\t: 64\n",
            "address sizes\t: 46 bits physical, 48 bits virtual\n",
            "power management:\n",
            "\n"
          ]
        }
      ]
    },
    {
      "cell_type": "code",
      "source": [
        "!nvidia-smi"
      ],
      "metadata": {
        "id": "fJBZFKNkvMZm",
        "colab": {
          "base_uri": "https://localhost:8080/"
        },
        "outputId": "20a128d3-239b-4887-ab3e-ef7814aba5cc",
        "collapsed": true
      },
      "execution_count": null,
      "outputs": [
        {
          "output_type": "stream",
          "name": "stdout",
          "text": [
            "NVIDIA-SMI has failed because it couldn't communicate with the NVIDIA driver. Make sure that the latest NVIDIA driver is installed and running.\n",
            "\n"
          ]
        }
      ]
    },
    {
      "cell_type": "markdown",
      "source": [
        "> ## **1.2 구글 드라이브 마운트**"
      ],
      "metadata": {
        "id": "6ejgGe4vn3X9"
      }
    },
    {
      "cell_type": "code",
      "execution_count": null,
      "metadata": {
        "id": "3Ug_ULDmnX7H",
        "colab": {
          "base_uri": "https://localhost:8080/"
        },
        "outputId": "97babd95-f444-4329-c396-f9be3144dfd2"
      },
      "outputs": [
        {
          "output_type": "stream",
          "name": "stdout",
          "text": [
            "Mounted at /content/drive\n"
          ]
        }
      ],
      "source": [
        "import os\n",
        "from google.colab import drive\n",
        "drive.mount('/content/drive')"
      ]
    },
    {
      "cell_type": "markdown",
      "source": [
        "> ## **1.3 작업경로 변경**"
      ],
      "metadata": {
        "id": "Xc3x67bKn14X"
      }
    },
    {
      "cell_type": "code",
      "source": [
        "print('> 변경 전 경로 : ' , os.getcwd())\n",
        "os.chdir('/content/drive/MyDrive/kaggle/2. L&T Vehicle Loan Default Prediction')\n",
        "print('> 변경 후 경로 : ' , os.getcwd())"
      ],
      "metadata": {
        "id": "ADyo8uiFnaUj",
        "colab": {
          "base_uri": "https://localhost:8080/"
        },
        "outputId": "c52bc127-b97f-44e5-d57a-baff4a72f023"
      },
      "execution_count": null,
      "outputs": [
        {
          "output_type": "stream",
          "name": "stdout",
          "text": [
            "> 변경 전 경로 :  /content\n",
            "> 변경 후 경로 :  /content/drive/MyDrive/kaggle/2. L&T Vehicle Loan Default Prediction\n"
          ]
        }
      ]
    },
    {
      "cell_type": "markdown",
      "source": [
        "> ## **1.4 라이브러리 불러오기**"
      ],
      "metadata": {
        "id": "Qtp5fsaUrqFy"
      }
    },
    {
      "cell_type": "code",
      "source": [
        "#load packages\n",
        "\n",
        "import pandas as pd\n",
        "import numpy as np\n",
        "\n",
        "import seaborn as sns\n",
        "import matplotlib.pyplot as plt\n",
        "%matplotlib inline\n",
        "\n",
        "import random as rn\n",
        "\n",
        "# loading Common Model Algorithms\n",
        "\n",
        "from sklearn.linear_model import LogisticRegression\n",
        "from sklearn.preprocessing import LabelEncoder\n",
        "from sklearn.neighbors import KNeighborsClassifier\n",
        "from sklearn.svm import SVC,LinearSVC\n",
        "from sklearn.ensemble import RandomForestClassifier\n",
        "from sklearn.naive_bayes import GaussianNB\n",
        "from sklearn.linear_model import Perceptron\n",
        "from sklearn.linear_model import SGDClassifier\n",
        "from sklearn.tree import DecisionTreeClassifier\n",
        "from sklearn.ensemble import RandomForestClassifier,BaggingClassifier,AdaBoostClassifier,GradientBoostingClassifier\n",
        "from sklearn.model_selection import StratifiedShuffleSplit\n",
        "from sklearn.model_selection import train_test_split\n",
        "from sklearn.model_selection import train_test_split\n",
        "from sklearn.metrics import precision_score, recall_score, f1_score,accuracy_score\n",
        "from sklearn.metrics import confusion_matrix\n",
        "from sklearn.datasets import load_digits\n",
        "from sklearn import tree\n",
        "\n",
        "#Visualization\n",
        "import matplotlib as mpl\n",
        "import matplotlib.pyplot as plt\n",
        "import matplotlib.pylab as pylab\n",
        "import seaborn as sns"
      ],
      "metadata": {
        "id": "Ay7bcdmNrr6f"
      },
      "execution_count": null,
      "outputs": []
    },
    {
      "cell_type": "markdown",
      "source": [
        "# **2. 데이터 준비**"
      ],
      "metadata": {
        "id": "CLT0xwg4nomw"
      }
    },
    {
      "cell_type": "markdown",
      "source": [
        "> ## **2.1 데이터 불러오기**"
      ],
      "metadata": {
        "id": "zwB-E79yhLUL"
      }
    },
    {
      "cell_type": "code",
      "source": [
        "train= pd.read_csv('train.csv')\n",
        "test= pd.read_csv('test.csv')\n",
        "variable = pd.read_csv('data_dictionary.csv')"
      ],
      "metadata": {
        "id": "YSrWrXZ5oWtq"
      },
      "execution_count": null,
      "outputs": []
    },
    {
      "cell_type": "markdown",
      "source": [
        " > ## **2.2 변수 설명**"
      ],
      "metadata": {
        "id": "IOSgtPrkhjGe"
      }
    },
    {
      "cell_type": "code",
      "source": [
        "#컬럼명 조회\n",
        "print(type(variable.columns))\n",
        "print(variable.columns)\n",
        "print(train.columns)"
      ],
      "metadata": {
        "colab": {
          "base_uri": "https://localhost:8080/"
        },
        "id": "To40DQo1npcU",
        "outputId": "ace86c89-11ce-4d0d-ce80-df0faa480fbb"
      },
      "execution_count": null,
      "outputs": [
        {
          "output_type": "stream",
          "name": "stdout",
          "text": [
            "<class 'pandas.core.indexes.base.Index'>\n",
            "Index(['Unnamed: 0', 'Variable Name', 'Description', 'Unnamed: 2'], dtype='object')\n",
            "Index(['UniqueID', 'disbursed_amount', 'asset_cost', 'ltv', 'branch_id',\n",
            "       'supplier_id', 'manufacturer_id', 'Current_pincode_ID', 'Date.of.Birth',\n",
            "       'Employment.Type', 'DisbursalDate', 'State_ID', 'Employee_code_ID',\n",
            "       'MobileNo_Avl_Flag', 'Aadhar_flag', 'PAN_flag', 'VoterID_flag',\n",
            "       'Driving_flag', 'Passport_flag', 'PERFORM_CNS.SCORE',\n",
            "       'PERFORM_CNS.SCORE.DESCRIPTION', 'PRI.NO.OF.ACCTS', 'PRI.ACTIVE.ACCTS',\n",
            "       'PRI.OVERDUE.ACCTS', 'PRI.CURRENT.BALANCE', 'PRI.SANCTIONED.AMOUNT',\n",
            "       'PRI.DISBURSED.AMOUNT', 'SEC.NO.OF.ACCTS', 'SEC.ACTIVE.ACCTS',\n",
            "       'SEC.OVERDUE.ACCTS', 'SEC.CURRENT.BALANCE', 'SEC.SANCTIONED.AMOUNT',\n",
            "       'SEC.DISBURSED.AMOUNT', 'PRIMARY.INSTAL.AMT', 'SEC.INSTAL.AMT',\n",
            "       'NEW.ACCTS.IN.LAST.SIX.MONTHS', 'DELINQUENT.ACCTS.IN.LAST.SIX.MONTHS',\n",
            "       'AVERAGE.ACCT.AGE', 'CREDIT.HISTORY.LENGTH', 'NO.OF_INQUIRIES',\n",
            "       'loan_default'],\n",
            "      dtype='object')\n"
          ]
        }
      ]
    },
    {
      "cell_type": "code",
      "source": [
        "variable.head()"
      ],
      "metadata": {
        "colab": {
          "base_uri": "https://localhost:8080/",
          "height": 206
        },
        "id": "9wuEr1DzJGnb",
        "outputId": "f34fd755-bc34-4dfd-cf2c-7823968e7992"
      },
      "execution_count": null,
      "outputs": [
        {
          "output_type": "execute_result",
          "data": {
            "text/html": [
              "\n",
              "  <div id=\"df-4a07ccc4-fd56-4e0c-a511-3bba874cd166\">\n",
              "    <div class=\"colab-df-container\">\n",
              "      <div>\n",
              "<style scoped>\n",
              "    .dataframe tbody tr th:only-of-type {\n",
              "        vertical-align: middle;\n",
              "    }\n",
              "\n",
              "    .dataframe tbody tr th {\n",
              "        vertical-align: top;\n",
              "    }\n",
              "\n",
              "    .dataframe thead th {\n",
              "        text-align: right;\n",
              "    }\n",
              "</style>\n",
              "<table border=\"1\" class=\"dataframe\">\n",
              "  <thead>\n",
              "    <tr style=\"text-align: right;\">\n",
              "      <th></th>\n",
              "      <th>Unnamed: 0</th>\n",
              "      <th>Variable Name</th>\n",
              "      <th>Description</th>\n",
              "      <th>Unnamed: 2</th>\n",
              "    </tr>\n",
              "  </thead>\n",
              "  <tbody>\n",
              "    <tr>\n",
              "      <th>0</th>\n",
              "      <td>0</td>\n",
              "      <td>UniqueID</td>\n",
              "      <td>Identifier for customers</td>\n",
              "      <td>NaN</td>\n",
              "    </tr>\n",
              "    <tr>\n",
              "      <th>1</th>\n",
              "      <td>1</td>\n",
              "      <td>loan_default</td>\n",
              "      <td>Payment default in the first EMI on due date</td>\n",
              "      <td>NaN</td>\n",
              "    </tr>\n",
              "    <tr>\n",
              "      <th>2</th>\n",
              "      <td>2</td>\n",
              "      <td>disbursed_amount</td>\n",
              "      <td>Amount of Loan disbursed</td>\n",
              "      <td>NaN</td>\n",
              "    </tr>\n",
              "    <tr>\n",
              "      <th>3</th>\n",
              "      <td>3</td>\n",
              "      <td>asset_cost</td>\n",
              "      <td>Cost of the Asset</td>\n",
              "      <td>NaN</td>\n",
              "    </tr>\n",
              "    <tr>\n",
              "      <th>4</th>\n",
              "      <td>4</td>\n",
              "      <td>ltv</td>\n",
              "      <td>Loan to Value of the asset</td>\n",
              "      <td>NaN</td>\n",
              "    </tr>\n",
              "  </tbody>\n",
              "</table>\n",
              "</div>\n",
              "      <button class=\"colab-df-convert\" onclick=\"convertToInteractive('df-4a07ccc4-fd56-4e0c-a511-3bba874cd166')\"\n",
              "              title=\"Convert this dataframe to an interactive table.\"\n",
              "              style=\"display:none;\">\n",
              "        \n",
              "  <svg xmlns=\"http://www.w3.org/2000/svg\" height=\"24px\"viewBox=\"0 0 24 24\"\n",
              "       width=\"24px\">\n",
              "    <path d=\"M0 0h24v24H0V0z\" fill=\"none\"/>\n",
              "    <path d=\"M18.56 5.44l.94 2.06.94-2.06 2.06-.94-2.06-.94-.94-2.06-.94 2.06-2.06.94zm-11 1L8.5 8.5l.94-2.06 2.06-.94-2.06-.94L8.5 2.5l-.94 2.06-2.06.94zm10 10l.94 2.06.94-2.06 2.06-.94-2.06-.94-.94-2.06-.94 2.06-2.06.94z\"/><path d=\"M17.41 7.96l-1.37-1.37c-.4-.4-.92-.59-1.43-.59-.52 0-1.04.2-1.43.59L10.3 9.45l-7.72 7.72c-.78.78-.78 2.05 0 2.83L4 21.41c.39.39.9.59 1.41.59.51 0 1.02-.2 1.41-.59l7.78-7.78 2.81-2.81c.8-.78.8-2.07 0-2.86zM5.41 20L4 18.59l7.72-7.72 1.47 1.35L5.41 20z\"/>\n",
              "  </svg>\n",
              "      </button>\n",
              "      \n",
              "  <style>\n",
              "    .colab-df-container {\n",
              "      display:flex;\n",
              "      flex-wrap:wrap;\n",
              "      gap: 12px;\n",
              "    }\n",
              "\n",
              "    .colab-df-convert {\n",
              "      background-color: #E8F0FE;\n",
              "      border: none;\n",
              "      border-radius: 50%;\n",
              "      cursor: pointer;\n",
              "      display: none;\n",
              "      fill: #1967D2;\n",
              "      height: 32px;\n",
              "      padding: 0 0 0 0;\n",
              "      width: 32px;\n",
              "    }\n",
              "\n",
              "    .colab-df-convert:hover {\n",
              "      background-color: #E2EBFA;\n",
              "      box-shadow: 0px 1px 2px rgba(60, 64, 67, 0.3), 0px 1px 3px 1px rgba(60, 64, 67, 0.15);\n",
              "      fill: #174EA6;\n",
              "    }\n",
              "\n",
              "    [theme=dark] .colab-df-convert {\n",
              "      background-color: #3B4455;\n",
              "      fill: #D2E3FC;\n",
              "    }\n",
              "\n",
              "    [theme=dark] .colab-df-convert:hover {\n",
              "      background-color: #434B5C;\n",
              "      box-shadow: 0px 1px 3px 1px rgba(0, 0, 0, 0.15);\n",
              "      filter: drop-shadow(0px 1px 2px rgba(0, 0, 0, 0.3));\n",
              "      fill: #FFFFFF;\n",
              "    }\n",
              "  </style>\n",
              "\n",
              "      <script>\n",
              "        const buttonEl =\n",
              "          document.querySelector('#df-4a07ccc4-fd56-4e0c-a511-3bba874cd166 button.colab-df-convert');\n",
              "        buttonEl.style.display =\n",
              "          google.colab.kernel.accessAllowed ? 'block' : 'none';\n",
              "\n",
              "        async function convertToInteractive(key) {\n",
              "          const element = document.querySelector('#df-4a07ccc4-fd56-4e0c-a511-3bba874cd166');\n",
              "          const dataTable =\n",
              "            await google.colab.kernel.invokeFunction('convertToInteractive',\n",
              "                                                     [key], {});\n",
              "          if (!dataTable) return;\n",
              "\n",
              "          const docLinkHtml = 'Like what you see? Visit the ' +\n",
              "            '<a target=\"_blank\" href=https://colab.research.google.com/notebooks/data_table.ipynb>data table notebook</a>'\n",
              "            + ' to learn more about interactive tables.';\n",
              "          element.innerHTML = '';\n",
              "          dataTable['output_type'] = 'display_data';\n",
              "          await google.colab.output.renderOutput(dataTable, element);\n",
              "          const docLink = document.createElement('div');\n",
              "          docLink.innerHTML = docLinkHtml;\n",
              "          element.appendChild(docLink);\n",
              "        }\n",
              "      </script>\n",
              "    </div>\n",
              "  </div>\n",
              "  "
            ],
            "text/plain": [
              "   Unnamed: 0  ... Unnamed: 2\n",
              "0           0  ...        NaN\n",
              "1           1  ...        NaN\n",
              "2           2  ...        NaN\n",
              "3           3  ...        NaN\n",
              "4           4  ...        NaN\n",
              "\n",
              "[5 rows x 4 columns]"
            ]
          },
          "metadata": {},
          "execution_count": 10
        }
      ]
    },
    {
      "cell_type": "markdown",
      "source": [
        " >> ### **2.2.1 variable 테이블 정리**"
      ],
      "metadata": {
        "id": "O3xtBBrTsiT9"
      }
    },
    {
      "cell_type": "code",
      "source": [
        "#info 조회\n",
        "variable.info()"
      ],
      "metadata": {
        "colab": {
          "base_uri": "https://localhost:8080/"
        },
        "id": "k5TgNQECVYRB",
        "outputId": "1f337663-e34a-4613-88fd-f89258ae270c"
      },
      "execution_count": null,
      "outputs": [
        {
          "output_type": "stream",
          "name": "stdout",
          "text": [
            "<class 'pandas.core.frame.DataFrame'>\n",
            "RangeIndex: 41 entries, 0 to 40\n",
            "Data columns (total 4 columns):\n",
            " #   Column         Non-Null Count  Dtype \n",
            "---  ------         --------------  ----- \n",
            " 0   Unnamed: 0     41 non-null     int64 \n",
            " 1   Variable Name  41 non-null     object\n",
            " 2   Description    41 non-null     object\n",
            " 3   Unnamed: 2     2 non-null      object\n",
            "dtypes: int64(1), object(3)\n",
            "memory usage: 1.4+ KB\n"
          ]
        }
      ]
    },
    {
      "cell_type": "code",
      "source": [
        "#컬럼명 조회\n",
        "variable.columns"
      ],
      "metadata": {
        "colab": {
          "base_uri": "https://localhost:8080/"
        },
        "id": "lWci1zuCJvv9",
        "outputId": "79068c09-76d5-45e4-f306-83797c207eb1"
      },
      "execution_count": null,
      "outputs": [
        {
          "output_type": "execute_result",
          "data": {
            "text/plain": [
              "Index(['Unnamed: 0', 'Variable Name', 'Description', 'Unnamed: 2'], dtype='object')"
            ]
          },
          "metadata": {},
          "execution_count": 12
        }
      ]
    },
    {
      "cell_type": "code",
      "source": [
        "# variable 테이블 정리\n",
        "variable_df = variable[['Variable Name', 'Description', 'Unnamed: 2']] #컬럼 선택\n",
        "variable_df.columns = [['Variable Name', 'Description', 'Etc']] #컬럼명 변경\n",
        "variable_df"
      ],
      "metadata": {
        "colab": {
          "base_uri": "https://localhost:8080/",
          "height": 1000
        },
        "id": "1UsQH7J_KJxq",
        "outputId": "6e90aff2-2b5d-4c1a-b7c3-0809b29a0d3a"
      },
      "execution_count": null,
      "outputs": [
        {
          "output_type": "execute_result",
          "data": {
            "text/html": [
              "\n",
              "  <div id=\"df-d5081aae-14d9-4bf0-a147-3a3660c7b37c\">\n",
              "    <div class=\"colab-df-container\">\n",
              "      <div>\n",
              "<style scoped>\n",
              "    .dataframe tbody tr th:only-of-type {\n",
              "        vertical-align: middle;\n",
              "    }\n",
              "\n",
              "    .dataframe tbody tr th {\n",
              "        vertical-align: top;\n",
              "    }\n",
              "\n",
              "    .dataframe thead tr th {\n",
              "        text-align: left;\n",
              "    }\n",
              "</style>\n",
              "<table border=\"1\" class=\"dataframe\">\n",
              "  <thead>\n",
              "    <tr>\n",
              "      <th></th>\n",
              "      <th>Variable Name</th>\n",
              "      <th>Description</th>\n",
              "      <th>Etc</th>\n",
              "    </tr>\n",
              "  </thead>\n",
              "  <tbody>\n",
              "    <tr>\n",
              "      <th>0</th>\n",
              "      <td>UniqueID</td>\n",
              "      <td>Identifier for customers</td>\n",
              "      <td>NaN</td>\n",
              "    </tr>\n",
              "    <tr>\n",
              "      <th>1</th>\n",
              "      <td>loan_default</td>\n",
              "      <td>Payment default in the first EMI on due date</td>\n",
              "      <td>NaN</td>\n",
              "    </tr>\n",
              "    <tr>\n",
              "      <th>2</th>\n",
              "      <td>disbursed_amount</td>\n",
              "      <td>Amount of Loan disbursed</td>\n",
              "      <td>NaN</td>\n",
              "    </tr>\n",
              "    <tr>\n",
              "      <th>3</th>\n",
              "      <td>asset_cost</td>\n",
              "      <td>Cost of the Asset</td>\n",
              "      <td>NaN</td>\n",
              "    </tr>\n",
              "    <tr>\n",
              "      <th>4</th>\n",
              "      <td>ltv</td>\n",
              "      <td>Loan to Value of the asset</td>\n",
              "      <td>NaN</td>\n",
              "    </tr>\n",
              "    <tr>\n",
              "      <th>5</th>\n",
              "      <td>branch_id</td>\n",
              "      <td>Branch where the loan was disbursed</td>\n",
              "      <td>NaN</td>\n",
              "    </tr>\n",
              "    <tr>\n",
              "      <th>6</th>\n",
              "      <td>supplier_id</td>\n",
              "      <td>Vehicle Dealer where the loan was disbursed</td>\n",
              "      <td>NaN</td>\n",
              "    </tr>\n",
              "    <tr>\n",
              "      <th>7</th>\n",
              "      <td>manufacturer_id</td>\n",
              "      <td>Vehicle manufacturer(Hero, Honda, TVS etc.)</td>\n",
              "      <td>NaN</td>\n",
              "    </tr>\n",
              "    <tr>\n",
              "      <th>8</th>\n",
              "      <td>Current_pincode</td>\n",
              "      <td>Current pincode of the customer</td>\n",
              "      <td>NaN</td>\n",
              "    </tr>\n",
              "    <tr>\n",
              "      <th>9</th>\n",
              "      <td>Date.of.Birth</td>\n",
              "      <td>Date of birth of the customer</td>\n",
              "      <td>NaN</td>\n",
              "    </tr>\n",
              "    <tr>\n",
              "      <th>10</th>\n",
              "      <td>Employment.Type</td>\n",
              "      <td>Employment Type of the customer (Salaried/Self...</td>\n",
              "      <td>NaN</td>\n",
              "    </tr>\n",
              "    <tr>\n",
              "      <th>11</th>\n",
              "      <td>DisbursalDate</td>\n",
              "      <td>Date of disbursement</td>\n",
              "      <td>NaN</td>\n",
              "    </tr>\n",
              "    <tr>\n",
              "      <th>12</th>\n",
              "      <td>State_ID</td>\n",
              "      <td>State of disbursement</td>\n",
              "      <td>NaN</td>\n",
              "    </tr>\n",
              "    <tr>\n",
              "      <th>13</th>\n",
              "      <td>Employee_code_ID</td>\n",
              "      <td>Employee of the organization who logged the di...</td>\n",
              "      <td>NaN</td>\n",
              "    </tr>\n",
              "    <tr>\n",
              "      <th>14</th>\n",
              "      <td>MobileNo_Avl_Flag</td>\n",
              "      <td>if Mobile no. was shared by the customer then ...</td>\n",
              "      <td>NaN</td>\n",
              "    </tr>\n",
              "    <tr>\n",
              "      <th>15</th>\n",
              "      <td>Aadhar_flag</td>\n",
              "      <td>if aadhar was shared by the customer then flag...</td>\n",
              "      <td>NaN</td>\n",
              "    </tr>\n",
              "    <tr>\n",
              "      <th>16</th>\n",
              "      <td>PAN_flag</td>\n",
              "      <td>if pan was shared by the customer then flagged...</td>\n",
              "      <td>NaN</td>\n",
              "    </tr>\n",
              "    <tr>\n",
              "      <th>17</th>\n",
              "      <td>VoterID_flag</td>\n",
              "      <td>if voter  was shared by the customer then flag...</td>\n",
              "      <td>NaN</td>\n",
              "    </tr>\n",
              "    <tr>\n",
              "      <th>18</th>\n",
              "      <td>Driving_flag</td>\n",
              "      <td>if DL was shared by the customer then flagged ...</td>\n",
              "      <td>NaN</td>\n",
              "    </tr>\n",
              "    <tr>\n",
              "      <th>19</th>\n",
              "      <td>Passport_flag</td>\n",
              "      <td>if passport was shared by the customer then fl...</td>\n",
              "      <td>NaN</td>\n",
              "    </tr>\n",
              "    <tr>\n",
              "      <th>20</th>\n",
              "      <td>PERFORM_CNS.SCORE</td>\n",
              "      <td>Bureau Score</td>\n",
              "      <td>NaN</td>\n",
              "    </tr>\n",
              "    <tr>\n",
              "      <th>21</th>\n",
              "      <td>PERFORM_CNS.SCORE.DESCRIPTION</td>\n",
              "      <td>Bureau score description</td>\n",
              "      <td>NaN</td>\n",
              "    </tr>\n",
              "    <tr>\n",
              "      <th>22</th>\n",
              "      <td>PRI.NO.OF.ACCTS</td>\n",
              "      <td>count of total loans taken by the customer at ...</td>\n",
              "      <td>Primary accounts are those which the customer ...</td>\n",
              "    </tr>\n",
              "    <tr>\n",
              "      <th>23</th>\n",
              "      <td>PRI.ACTIVE.ACCTS</td>\n",
              "      <td>count of active loans taken by the customer at...</td>\n",
              "      <td>NaN</td>\n",
              "    </tr>\n",
              "    <tr>\n",
              "      <th>24</th>\n",
              "      <td>PRI.OVERDUE.ACCTS</td>\n",
              "      <td>count of default accounts at the time of disbu...</td>\n",
              "      <td>NaN</td>\n",
              "    </tr>\n",
              "    <tr>\n",
              "      <th>25</th>\n",
              "      <td>PRI.CURRENT.BALANCE</td>\n",
              "      <td>total Principal outstanding amount of the acti...</td>\n",
              "      <td>NaN</td>\n",
              "    </tr>\n",
              "    <tr>\n",
              "      <th>26</th>\n",
              "      <td>PRI.SANCTIONED.AMOUNT</td>\n",
              "      <td>total amount that was sanctioned for all the l...</td>\n",
              "      <td>NaN</td>\n",
              "    </tr>\n",
              "    <tr>\n",
              "      <th>27</th>\n",
              "      <td>PRI.DISBURSED.AMOUNT</td>\n",
              "      <td>total amount that was disbursed for all the lo...</td>\n",
              "      <td>NaN</td>\n",
              "    </tr>\n",
              "    <tr>\n",
              "      <th>28</th>\n",
              "      <td>SEC.NO.OF.ACCTS</td>\n",
              "      <td>count of total loans taken by the customer at ...</td>\n",
              "      <td>Secondary accounts are those which the custome...</td>\n",
              "    </tr>\n",
              "    <tr>\n",
              "      <th>29</th>\n",
              "      <td>SEC.ACTIVE.ACCTS</td>\n",
              "      <td>count of active loans taken by the customer at...</td>\n",
              "      <td>NaN</td>\n",
              "    </tr>\n",
              "    <tr>\n",
              "      <th>30</th>\n",
              "      <td>SEC.OVERDUE.ACCTS</td>\n",
              "      <td>count of default accounts at the time of disbu...</td>\n",
              "      <td>NaN</td>\n",
              "    </tr>\n",
              "    <tr>\n",
              "      <th>31</th>\n",
              "      <td>SEC.CURRENT.BALANCE</td>\n",
              "      <td>total Principal outstanding amount of the acti...</td>\n",
              "      <td>NaN</td>\n",
              "    </tr>\n",
              "    <tr>\n",
              "      <th>32</th>\n",
              "      <td>SEC.SANCTIONED.AMOUNT</td>\n",
              "      <td>total amount that was sanctioned for all the l...</td>\n",
              "      <td>NaN</td>\n",
              "    </tr>\n",
              "    <tr>\n",
              "      <th>33</th>\n",
              "      <td>SEC.DISBURSED.AMOUNT</td>\n",
              "      <td>total amount that was disbursed for all the lo...</td>\n",
              "      <td>NaN</td>\n",
              "    </tr>\n",
              "    <tr>\n",
              "      <th>34</th>\n",
              "      <td>PRIMARY.INSTAL.AMT</td>\n",
              "      <td>EMI Amount of the primary loan</td>\n",
              "      <td>NaN</td>\n",
              "    </tr>\n",
              "    <tr>\n",
              "      <th>35</th>\n",
              "      <td>SEC.INSTAL.AMT</td>\n",
              "      <td>EMI Amount of the secondary loan</td>\n",
              "      <td>NaN</td>\n",
              "    </tr>\n",
              "    <tr>\n",
              "      <th>36</th>\n",
              "      <td>NEW.ACCTS.IN.LAST.SIX.MONTHS</td>\n",
              "      <td>New loans taken by the customer in last 6 mont...</td>\n",
              "      <td>NaN</td>\n",
              "    </tr>\n",
              "    <tr>\n",
              "      <th>37</th>\n",
              "      <td>DELINQUENT.ACCTS.IN.LAST.SIX.MONTHS</td>\n",
              "      <td>Loans defaulted in the last 6 months</td>\n",
              "      <td>NaN</td>\n",
              "    </tr>\n",
              "    <tr>\n",
              "      <th>38</th>\n",
              "      <td>AVERAGE.ACCT.AGE</td>\n",
              "      <td>Average loan tenure</td>\n",
              "      <td>NaN</td>\n",
              "    </tr>\n",
              "    <tr>\n",
              "      <th>39</th>\n",
              "      <td>CREDIT.HISTORY.LENGTH</td>\n",
              "      <td>Time since first loan</td>\n",
              "      <td>NaN</td>\n",
              "    </tr>\n",
              "    <tr>\n",
              "      <th>40</th>\n",
              "      <td>NO.OF_INQUIRIES</td>\n",
              "      <td>Enquries done by the customer for loans</td>\n",
              "      <td>NaN</td>\n",
              "    </tr>\n",
              "  </tbody>\n",
              "</table>\n",
              "</div>\n",
              "      <button class=\"colab-df-convert\" onclick=\"convertToInteractive('df-d5081aae-14d9-4bf0-a147-3a3660c7b37c')\"\n",
              "              title=\"Convert this dataframe to an interactive table.\"\n",
              "              style=\"display:none;\">\n",
              "        \n",
              "  <svg xmlns=\"http://www.w3.org/2000/svg\" height=\"24px\"viewBox=\"0 0 24 24\"\n",
              "       width=\"24px\">\n",
              "    <path d=\"M0 0h24v24H0V0z\" fill=\"none\"/>\n",
              "    <path d=\"M18.56 5.44l.94 2.06.94-2.06 2.06-.94-2.06-.94-.94-2.06-.94 2.06-2.06.94zm-11 1L8.5 8.5l.94-2.06 2.06-.94-2.06-.94L8.5 2.5l-.94 2.06-2.06.94zm10 10l.94 2.06.94-2.06 2.06-.94-2.06-.94-.94-2.06-.94 2.06-2.06.94z\"/><path d=\"M17.41 7.96l-1.37-1.37c-.4-.4-.92-.59-1.43-.59-.52 0-1.04.2-1.43.59L10.3 9.45l-7.72 7.72c-.78.78-.78 2.05 0 2.83L4 21.41c.39.39.9.59 1.41.59.51 0 1.02-.2 1.41-.59l7.78-7.78 2.81-2.81c.8-.78.8-2.07 0-2.86zM5.41 20L4 18.59l7.72-7.72 1.47 1.35L5.41 20z\"/>\n",
              "  </svg>\n",
              "      </button>\n",
              "      \n",
              "  <style>\n",
              "    .colab-df-container {\n",
              "      display:flex;\n",
              "      flex-wrap:wrap;\n",
              "      gap: 12px;\n",
              "    }\n",
              "\n",
              "    .colab-df-convert {\n",
              "      background-color: #E8F0FE;\n",
              "      border: none;\n",
              "      border-radius: 50%;\n",
              "      cursor: pointer;\n",
              "      display: none;\n",
              "      fill: #1967D2;\n",
              "      height: 32px;\n",
              "      padding: 0 0 0 0;\n",
              "      width: 32px;\n",
              "    }\n",
              "\n",
              "    .colab-df-convert:hover {\n",
              "      background-color: #E2EBFA;\n",
              "      box-shadow: 0px 1px 2px rgba(60, 64, 67, 0.3), 0px 1px 3px 1px rgba(60, 64, 67, 0.15);\n",
              "      fill: #174EA6;\n",
              "    }\n",
              "\n",
              "    [theme=dark] .colab-df-convert {\n",
              "      background-color: #3B4455;\n",
              "      fill: #D2E3FC;\n",
              "    }\n",
              "\n",
              "    [theme=dark] .colab-df-convert:hover {\n",
              "      background-color: #434B5C;\n",
              "      box-shadow: 0px 1px 3px 1px rgba(0, 0, 0, 0.15);\n",
              "      filter: drop-shadow(0px 1px 2px rgba(0, 0, 0, 0.3));\n",
              "      fill: #FFFFFF;\n",
              "    }\n",
              "  </style>\n",
              "\n",
              "      <script>\n",
              "        const buttonEl =\n",
              "          document.querySelector('#df-d5081aae-14d9-4bf0-a147-3a3660c7b37c button.colab-df-convert');\n",
              "        buttonEl.style.display =\n",
              "          google.colab.kernel.accessAllowed ? 'block' : 'none';\n",
              "\n",
              "        async function convertToInteractive(key) {\n",
              "          const element = document.querySelector('#df-d5081aae-14d9-4bf0-a147-3a3660c7b37c');\n",
              "          const dataTable =\n",
              "            await google.colab.kernel.invokeFunction('convertToInteractive',\n",
              "                                                     [key], {});\n",
              "          if (!dataTable) return;\n",
              "\n",
              "          const docLinkHtml = 'Like what you see? Visit the ' +\n",
              "            '<a target=\"_blank\" href=https://colab.research.google.com/notebooks/data_table.ipynb>data table notebook</a>'\n",
              "            + ' to learn more about interactive tables.';\n",
              "          element.innerHTML = '';\n",
              "          dataTable['output_type'] = 'display_data';\n",
              "          await google.colab.output.renderOutput(dataTable, element);\n",
              "          const docLink = document.createElement('div');\n",
              "          docLink.innerHTML = docLinkHtml;\n",
              "          element.appendChild(docLink);\n",
              "        }\n",
              "      </script>\n",
              "    </div>\n",
              "  </div>\n",
              "  "
            ],
            "text/plain": [
              "                          Variable Name  ...                                                Etc\n",
              "0                              UniqueID  ...                                                NaN\n",
              "1                          loan_default  ...                                                NaN\n",
              "2                      disbursed_amount  ...                                                NaN\n",
              "3                            asset_cost  ...                                                NaN\n",
              "4                                   ltv  ...                                                NaN\n",
              "5                             branch_id  ...                                                NaN\n",
              "6                           supplier_id  ...                                                NaN\n",
              "7                       manufacturer_id  ...                                                NaN\n",
              "8                       Current_pincode  ...                                                NaN\n",
              "9                         Date.of.Birth  ...                                                NaN\n",
              "10                      Employment.Type  ...                                                NaN\n",
              "11                        DisbursalDate  ...                                                NaN\n",
              "12                             State_ID  ...                                                NaN\n",
              "13                     Employee_code_ID  ...                                                NaN\n",
              "14                    MobileNo_Avl_Flag  ...                                                NaN\n",
              "15                          Aadhar_flag  ...                                                NaN\n",
              "16                             PAN_flag  ...                                                NaN\n",
              "17                         VoterID_flag  ...                                                NaN\n",
              "18                         Driving_flag  ...                                                NaN\n",
              "19                        Passport_flag  ...                                                NaN\n",
              "20                    PERFORM_CNS.SCORE  ...                                                NaN\n",
              "21        PERFORM_CNS.SCORE.DESCRIPTION  ...                                                NaN\n",
              "22                      PRI.NO.OF.ACCTS  ...  Primary accounts are those which the customer ...\n",
              "23                     PRI.ACTIVE.ACCTS  ...                                                NaN\n",
              "24                    PRI.OVERDUE.ACCTS  ...                                                NaN\n",
              "25                  PRI.CURRENT.BALANCE  ...                                                NaN\n",
              "26                PRI.SANCTIONED.AMOUNT  ...                                                NaN\n",
              "27                 PRI.DISBURSED.AMOUNT  ...                                                NaN\n",
              "28                      SEC.NO.OF.ACCTS  ...  Secondary accounts are those which the custome...\n",
              "29                     SEC.ACTIVE.ACCTS  ...                                                NaN\n",
              "30                    SEC.OVERDUE.ACCTS  ...                                                NaN\n",
              "31                  SEC.CURRENT.BALANCE  ...                                                NaN\n",
              "32                SEC.SANCTIONED.AMOUNT  ...                                                NaN\n",
              "33                 SEC.DISBURSED.AMOUNT  ...                                                NaN\n",
              "34                   PRIMARY.INSTAL.AMT  ...                                                NaN\n",
              "35                       SEC.INSTAL.AMT  ...                                                NaN\n",
              "36         NEW.ACCTS.IN.LAST.SIX.MONTHS  ...                                                NaN\n",
              "37  DELINQUENT.ACCTS.IN.LAST.SIX.MONTHS  ...                                                NaN\n",
              "38                     AVERAGE.ACCT.AGE  ...                                                NaN\n",
              "39                CREDIT.HISTORY.LENGTH  ...                                                NaN\n",
              "40                      NO.OF_INQUIRIES  ...                                                NaN\n",
              "\n",
              "[41 rows x 3 columns]"
            ]
          },
          "metadata": {},
          "execution_count": 13
        }
      ]
    },
    {
      "cell_type": "markdown",
      "source": [
        " > ### **2.2.2 train 테이블 확인하기**"
      ],
      "metadata": {
        "id": "uOWlxsHyisPQ"
      }
    },
    {
      "cell_type": "code",
      "source": [
        "train.shape"
      ],
      "metadata": {
        "colab": {
          "base_uri": "https://localhost:8080/"
        },
        "id": "lyiCZX0wZnoW",
        "outputId": "61981534-7b5f-436e-f12e-f15200c50300"
      },
      "execution_count": null,
      "outputs": [
        {
          "output_type": "execute_result",
          "data": {
            "text/plain": [
              "(233154, 41)"
            ]
          },
          "metadata": {},
          "execution_count": 20
        }
      ]
    },
    {
      "cell_type": "code",
      "source": [
        "train.info()"
      ],
      "metadata": {
        "colab": {
          "base_uri": "https://localhost:8080/"
        },
        "collapsed": true,
        "id": "i5FpJXJDYF68",
        "outputId": "56de91b0-649e-4ae0-b2cb-8691f7633b78"
      },
      "execution_count": null,
      "outputs": [
        {
          "output_type": "stream",
          "name": "stdout",
          "text": [
            "<class 'pandas.core.frame.DataFrame'>\n",
            "RangeIndex: 233154 entries, 0 to 233153\n",
            "Data columns (total 41 columns):\n",
            " #   Column                               Non-Null Count   Dtype  \n",
            "---  ------                               --------------   -----  \n",
            " 0   UniqueID                             233154 non-null  int64  \n",
            " 1   disbursed_amount                     233154 non-null  int64  \n",
            " 2   asset_cost                           233154 non-null  int64  \n",
            " 3   ltv                                  233154 non-null  float64\n",
            " 4   branch_id                            233154 non-null  int64  \n",
            " 5   supplier_id                          233154 non-null  int64  \n",
            " 6   manufacturer_id                      233154 non-null  int64  \n",
            " 7   Current_pincode_ID                   233154 non-null  int64  \n",
            " 8   Date.of.Birth                        233154 non-null  object \n",
            " 9   Employment.Type                      225493 non-null  object \n",
            " 10  DisbursalDate                        233154 non-null  object \n",
            " 11  State_ID                             233154 non-null  int64  \n",
            " 12  Employee_code_ID                     233154 non-null  int64  \n",
            " 13  MobileNo_Avl_Flag                    233154 non-null  int64  \n",
            " 14  Aadhar_flag                          233154 non-null  int64  \n",
            " 15  PAN_flag                             233154 non-null  int64  \n",
            " 16  VoterID_flag                         233154 non-null  int64  \n",
            " 17  Driving_flag                         233154 non-null  int64  \n",
            " 18  Passport_flag                        233154 non-null  int64  \n",
            " 19  PERFORM_CNS.SCORE                    233154 non-null  int64  \n",
            " 20  PERFORM_CNS.SCORE.DESCRIPTION        233154 non-null  object \n",
            " 21  PRI.NO.OF.ACCTS                      233154 non-null  int64  \n",
            " 22  PRI.ACTIVE.ACCTS                     233154 non-null  int64  \n",
            " 23  PRI.OVERDUE.ACCTS                    233154 non-null  int64  \n",
            " 24  PRI.CURRENT.BALANCE                  233154 non-null  int64  \n",
            " 25  PRI.SANCTIONED.AMOUNT                233154 non-null  int64  \n",
            " 26  PRI.DISBURSED.AMOUNT                 233154 non-null  int64  \n",
            " 27  SEC.NO.OF.ACCTS                      233154 non-null  int64  \n",
            " 28  SEC.ACTIVE.ACCTS                     233154 non-null  int64  \n",
            " 29  SEC.OVERDUE.ACCTS                    233154 non-null  int64  \n",
            " 30  SEC.CURRENT.BALANCE                  233154 non-null  int64  \n",
            " 31  SEC.SANCTIONED.AMOUNT                233154 non-null  int64  \n",
            " 32  SEC.DISBURSED.AMOUNT                 233154 non-null  int64  \n",
            " 33  PRIMARY.INSTAL.AMT                   233154 non-null  int64  \n",
            " 34  SEC.INSTAL.AMT                       233154 non-null  int64  \n",
            " 35  NEW.ACCTS.IN.LAST.SIX.MONTHS         233154 non-null  int64  \n",
            " 36  DELINQUENT.ACCTS.IN.LAST.SIX.MONTHS  233154 non-null  int64  \n",
            " 37  AVERAGE.ACCT.AGE                     233154 non-null  object \n",
            " 38  CREDIT.HISTORY.LENGTH                233154 non-null  object \n",
            " 39  NO.OF_INQUIRIES                      233154 non-null  int64  \n",
            " 40  loan_default                         233154 non-null  int64  \n",
            "dtypes: float64(1), int64(34), object(6)\n",
            "memory usage: 72.9+ MB\n"
          ]
        }
      ]
    },
    {
      "cell_type": "code",
      "source": [
        "train.columns"
      ],
      "metadata": {
        "colab": {
          "base_uri": "https://localhost:8080/"
        },
        "id": "4rMwjUEuOumH",
        "outputId": "9efc2946-346e-48b2-8f25-855eec26eb55",
        "collapsed": true
      },
      "execution_count": null,
      "outputs": [
        {
          "output_type": "execute_result",
          "data": {
            "text/plain": [
              "Index(['UniqueID', 'disbursed_amount', 'asset_cost', 'ltv', 'branch_id',\n",
              "       'supplier_id', 'manufacturer_id', 'Current_pincode_ID', 'Date.of.Birth',\n",
              "       'Employment.Type', 'DisbursalDate', 'State_ID', 'Employee_code_ID',\n",
              "       'MobileNo_Avl_Flag', 'Aadhar_flag', 'PAN_flag', 'VoterID_flag',\n",
              "       'Driving_flag', 'Passport_flag', 'PERFORM_CNS.SCORE',\n",
              "       'PERFORM_CNS.SCORE.DESCRIPTION', 'PRI.NO.OF.ACCTS', 'PRI.ACTIVE.ACCTS',\n",
              "       'PRI.OVERDUE.ACCTS', 'PRI.CURRENT.BALANCE', 'PRI.SANCTIONED.AMOUNT',\n",
              "       'PRI.DISBURSED.AMOUNT', 'SEC.NO.OF.ACCTS', 'SEC.ACTIVE.ACCTS',\n",
              "       'SEC.OVERDUE.ACCTS', 'SEC.CURRENT.BALANCE', 'SEC.SANCTIONED.AMOUNT',\n",
              "       'SEC.DISBURSED.AMOUNT', 'PRIMARY.INSTAL.AMT', 'SEC.INSTAL.AMT',\n",
              "       'NEW.ACCTS.IN.LAST.SIX.MONTHS', 'DELINQUENT.ACCTS.IN.LAST.SIX.MONTHS',\n",
              "       'AVERAGE.ACCT.AGE', 'CREDIT.HISTORY.LENGTH', 'NO.OF_INQUIRIES',\n",
              "       'loan_default'],\n",
              "      dtype='object')"
            ]
          },
          "metadata": {},
          "execution_count": 14
        }
      ]
    },
    {
      "cell_type": "code",
      "source": [
        "train.head().T"
      ],
      "metadata": {
        "colab": {
          "base_uri": "https://localhost:8080/",
          "height": 1000
        },
        "id": "434mo016jxOO",
        "outputId": "b589ca38-5a4f-47a5-bfc5-845d74eb1d0c"
      },
      "execution_count": null,
      "outputs": [
        {
          "output_type": "execute_result",
          "data": {
            "text/html": [
              "\n",
              "  <div id=\"df-0210dbf2-3e80-4d35-aaac-c40e80bd6542\">\n",
              "    <div class=\"colab-df-container\">\n",
              "      <div>\n",
              "<style scoped>\n",
              "    .dataframe tbody tr th:only-of-type {\n",
              "        vertical-align: middle;\n",
              "    }\n",
              "\n",
              "    .dataframe tbody tr th {\n",
              "        vertical-align: top;\n",
              "    }\n",
              "\n",
              "    .dataframe thead th {\n",
              "        text-align: right;\n",
              "    }\n",
              "</style>\n",
              "<table border=\"1\" class=\"dataframe\">\n",
              "  <thead>\n",
              "    <tr style=\"text-align: right;\">\n",
              "      <th></th>\n",
              "      <th>0</th>\n",
              "      <th>1</th>\n",
              "      <th>2</th>\n",
              "      <th>3</th>\n",
              "      <th>4</th>\n",
              "    </tr>\n",
              "  </thead>\n",
              "  <tbody>\n",
              "    <tr>\n",
              "      <th>UniqueID</th>\n",
              "      <td>420825</td>\n",
              "      <td>537409</td>\n",
              "      <td>417566</td>\n",
              "      <td>624493</td>\n",
              "      <td>539055</td>\n",
              "    </tr>\n",
              "    <tr>\n",
              "      <th>disbursed_amount</th>\n",
              "      <td>50578</td>\n",
              "      <td>47145</td>\n",
              "      <td>53278</td>\n",
              "      <td>57513</td>\n",
              "      <td>52378</td>\n",
              "    </tr>\n",
              "    <tr>\n",
              "      <th>asset_cost</th>\n",
              "      <td>58400</td>\n",
              "      <td>65550</td>\n",
              "      <td>61360</td>\n",
              "      <td>66113</td>\n",
              "      <td>60300</td>\n",
              "    </tr>\n",
              "    <tr>\n",
              "      <th>ltv</th>\n",
              "      <td>89.55</td>\n",
              "      <td>73.23</td>\n",
              "      <td>89.63</td>\n",
              "      <td>88.48</td>\n",
              "      <td>88.39</td>\n",
              "    </tr>\n",
              "    <tr>\n",
              "      <th>branch_id</th>\n",
              "      <td>67</td>\n",
              "      <td>67</td>\n",
              "      <td>67</td>\n",
              "      <td>67</td>\n",
              "      <td>67</td>\n",
              "    </tr>\n",
              "    <tr>\n",
              "      <th>supplier_id</th>\n",
              "      <td>22807</td>\n",
              "      <td>22807</td>\n",
              "      <td>22807</td>\n",
              "      <td>22807</td>\n",
              "      <td>22807</td>\n",
              "    </tr>\n",
              "    <tr>\n",
              "      <th>manufacturer_id</th>\n",
              "      <td>45</td>\n",
              "      <td>45</td>\n",
              "      <td>45</td>\n",
              "      <td>45</td>\n",
              "      <td>45</td>\n",
              "    </tr>\n",
              "    <tr>\n",
              "      <th>Current_pincode_ID</th>\n",
              "      <td>1441</td>\n",
              "      <td>1502</td>\n",
              "      <td>1497</td>\n",
              "      <td>1501</td>\n",
              "      <td>1495</td>\n",
              "    </tr>\n",
              "    <tr>\n",
              "      <th>Date.of.Birth</th>\n",
              "      <td>01-01-84</td>\n",
              "      <td>31-07-85</td>\n",
              "      <td>24-08-85</td>\n",
              "      <td>30-12-93</td>\n",
              "      <td>09-12-77</td>\n",
              "    </tr>\n",
              "    <tr>\n",
              "      <th>Employment.Type</th>\n",
              "      <td>Salaried</td>\n",
              "      <td>Self employed</td>\n",
              "      <td>Self employed</td>\n",
              "      <td>Self employed</td>\n",
              "      <td>Self employed</td>\n",
              "    </tr>\n",
              "    <tr>\n",
              "      <th>DisbursalDate</th>\n",
              "      <td>03-08-18</td>\n",
              "      <td>26-09-18</td>\n",
              "      <td>01-08-18</td>\n",
              "      <td>26-10-18</td>\n",
              "      <td>26-09-18</td>\n",
              "    </tr>\n",
              "    <tr>\n",
              "      <th>State_ID</th>\n",
              "      <td>6</td>\n",
              "      <td>6</td>\n",
              "      <td>6</td>\n",
              "      <td>6</td>\n",
              "      <td>6</td>\n",
              "    </tr>\n",
              "    <tr>\n",
              "      <th>Employee_code_ID</th>\n",
              "      <td>1998</td>\n",
              "      <td>1998</td>\n",
              "      <td>1998</td>\n",
              "      <td>1998</td>\n",
              "      <td>1998</td>\n",
              "    </tr>\n",
              "    <tr>\n",
              "      <th>MobileNo_Avl_Flag</th>\n",
              "      <td>1</td>\n",
              "      <td>1</td>\n",
              "      <td>1</td>\n",
              "      <td>1</td>\n",
              "      <td>1</td>\n",
              "    </tr>\n",
              "    <tr>\n",
              "      <th>Aadhar_flag</th>\n",
              "      <td>1</td>\n",
              "      <td>1</td>\n",
              "      <td>1</td>\n",
              "      <td>1</td>\n",
              "      <td>1</td>\n",
              "    </tr>\n",
              "    <tr>\n",
              "      <th>PAN_flag</th>\n",
              "      <td>0</td>\n",
              "      <td>0</td>\n",
              "      <td>0</td>\n",
              "      <td>0</td>\n",
              "      <td>0</td>\n",
              "    </tr>\n",
              "    <tr>\n",
              "      <th>VoterID_flag</th>\n",
              "      <td>0</td>\n",
              "      <td>0</td>\n",
              "      <td>0</td>\n",
              "      <td>0</td>\n",
              "      <td>0</td>\n",
              "    </tr>\n",
              "    <tr>\n",
              "      <th>Driving_flag</th>\n",
              "      <td>0</td>\n",
              "      <td>0</td>\n",
              "      <td>0</td>\n",
              "      <td>0</td>\n",
              "      <td>0</td>\n",
              "    </tr>\n",
              "    <tr>\n",
              "      <th>Passport_flag</th>\n",
              "      <td>0</td>\n",
              "      <td>0</td>\n",
              "      <td>0</td>\n",
              "      <td>0</td>\n",
              "      <td>0</td>\n",
              "    </tr>\n",
              "    <tr>\n",
              "      <th>PERFORM_CNS.SCORE</th>\n",
              "      <td>0</td>\n",
              "      <td>598</td>\n",
              "      <td>0</td>\n",
              "      <td>305</td>\n",
              "      <td>0</td>\n",
              "    </tr>\n",
              "    <tr>\n",
              "      <th>PERFORM_CNS.SCORE.DESCRIPTION</th>\n",
              "      <td>No Bureau History Available</td>\n",
              "      <td>I-Medium Risk</td>\n",
              "      <td>No Bureau History Available</td>\n",
              "      <td>L-Very High Risk</td>\n",
              "      <td>No Bureau History Available</td>\n",
              "    </tr>\n",
              "    <tr>\n",
              "      <th>PRI.NO.OF.ACCTS</th>\n",
              "      <td>0</td>\n",
              "      <td>1</td>\n",
              "      <td>0</td>\n",
              "      <td>3</td>\n",
              "      <td>0</td>\n",
              "    </tr>\n",
              "    <tr>\n",
              "      <th>PRI.ACTIVE.ACCTS</th>\n",
              "      <td>0</td>\n",
              "      <td>1</td>\n",
              "      <td>0</td>\n",
              "      <td>0</td>\n",
              "      <td>0</td>\n",
              "    </tr>\n",
              "    <tr>\n",
              "      <th>PRI.OVERDUE.ACCTS</th>\n",
              "      <td>0</td>\n",
              "      <td>1</td>\n",
              "      <td>0</td>\n",
              "      <td>0</td>\n",
              "      <td>0</td>\n",
              "    </tr>\n",
              "    <tr>\n",
              "      <th>PRI.CURRENT.BALANCE</th>\n",
              "      <td>0</td>\n",
              "      <td>27600</td>\n",
              "      <td>0</td>\n",
              "      <td>0</td>\n",
              "      <td>0</td>\n",
              "    </tr>\n",
              "    <tr>\n",
              "      <th>PRI.SANCTIONED.AMOUNT</th>\n",
              "      <td>0</td>\n",
              "      <td>50200</td>\n",
              "      <td>0</td>\n",
              "      <td>0</td>\n",
              "      <td>0</td>\n",
              "    </tr>\n",
              "    <tr>\n",
              "      <th>PRI.DISBURSED.AMOUNT</th>\n",
              "      <td>0</td>\n",
              "      <td>50200</td>\n",
              "      <td>0</td>\n",
              "      <td>0</td>\n",
              "      <td>0</td>\n",
              "    </tr>\n",
              "    <tr>\n",
              "      <th>SEC.NO.OF.ACCTS</th>\n",
              "      <td>0</td>\n",
              "      <td>0</td>\n",
              "      <td>0</td>\n",
              "      <td>0</td>\n",
              "      <td>0</td>\n",
              "    </tr>\n",
              "    <tr>\n",
              "      <th>SEC.ACTIVE.ACCTS</th>\n",
              "      <td>0</td>\n",
              "      <td>0</td>\n",
              "      <td>0</td>\n",
              "      <td>0</td>\n",
              "      <td>0</td>\n",
              "    </tr>\n",
              "    <tr>\n",
              "      <th>SEC.OVERDUE.ACCTS</th>\n",
              "      <td>0</td>\n",
              "      <td>0</td>\n",
              "      <td>0</td>\n",
              "      <td>0</td>\n",
              "      <td>0</td>\n",
              "    </tr>\n",
              "    <tr>\n",
              "      <th>SEC.CURRENT.BALANCE</th>\n",
              "      <td>0</td>\n",
              "      <td>0</td>\n",
              "      <td>0</td>\n",
              "      <td>0</td>\n",
              "      <td>0</td>\n",
              "    </tr>\n",
              "    <tr>\n",
              "      <th>SEC.SANCTIONED.AMOUNT</th>\n",
              "      <td>0</td>\n",
              "      <td>0</td>\n",
              "      <td>0</td>\n",
              "      <td>0</td>\n",
              "      <td>0</td>\n",
              "    </tr>\n",
              "    <tr>\n",
              "      <th>SEC.DISBURSED.AMOUNT</th>\n",
              "      <td>0</td>\n",
              "      <td>0</td>\n",
              "      <td>0</td>\n",
              "      <td>0</td>\n",
              "      <td>0</td>\n",
              "    </tr>\n",
              "    <tr>\n",
              "      <th>PRIMARY.INSTAL.AMT</th>\n",
              "      <td>0</td>\n",
              "      <td>1991</td>\n",
              "      <td>0</td>\n",
              "      <td>31</td>\n",
              "      <td>0</td>\n",
              "    </tr>\n",
              "    <tr>\n",
              "      <th>SEC.INSTAL.AMT</th>\n",
              "      <td>0</td>\n",
              "      <td>0</td>\n",
              "      <td>0</td>\n",
              "      <td>0</td>\n",
              "      <td>0</td>\n",
              "    </tr>\n",
              "    <tr>\n",
              "      <th>NEW.ACCTS.IN.LAST.SIX.MONTHS</th>\n",
              "      <td>0</td>\n",
              "      <td>0</td>\n",
              "      <td>0</td>\n",
              "      <td>0</td>\n",
              "      <td>0</td>\n",
              "    </tr>\n",
              "    <tr>\n",
              "      <th>DELINQUENT.ACCTS.IN.LAST.SIX.MONTHS</th>\n",
              "      <td>0</td>\n",
              "      <td>1</td>\n",
              "      <td>0</td>\n",
              "      <td>0</td>\n",
              "      <td>0</td>\n",
              "    </tr>\n",
              "    <tr>\n",
              "      <th>AVERAGE.ACCT.AGE</th>\n",
              "      <td>0yrs 0mon</td>\n",
              "      <td>1yrs 11mon</td>\n",
              "      <td>0yrs 0mon</td>\n",
              "      <td>0yrs 8mon</td>\n",
              "      <td>0yrs 0mon</td>\n",
              "    </tr>\n",
              "    <tr>\n",
              "      <th>CREDIT.HISTORY.LENGTH</th>\n",
              "      <td>0yrs 0mon</td>\n",
              "      <td>1yrs 11mon</td>\n",
              "      <td>0yrs 0mon</td>\n",
              "      <td>1yrs 3mon</td>\n",
              "      <td>0yrs 0mon</td>\n",
              "    </tr>\n",
              "    <tr>\n",
              "      <th>NO.OF_INQUIRIES</th>\n",
              "      <td>0</td>\n",
              "      <td>0</td>\n",
              "      <td>0</td>\n",
              "      <td>1</td>\n",
              "      <td>1</td>\n",
              "    </tr>\n",
              "    <tr>\n",
              "      <th>loan_default</th>\n",
              "      <td>0</td>\n",
              "      <td>1</td>\n",
              "      <td>0</td>\n",
              "      <td>1</td>\n",
              "      <td>1</td>\n",
              "    </tr>\n",
              "  </tbody>\n",
              "</table>\n",
              "</div>\n",
              "      <button class=\"colab-df-convert\" onclick=\"convertToInteractive('df-0210dbf2-3e80-4d35-aaac-c40e80bd6542')\"\n",
              "              title=\"Convert this dataframe to an interactive table.\"\n",
              "              style=\"display:none;\">\n",
              "        \n",
              "  <svg xmlns=\"http://www.w3.org/2000/svg\" height=\"24px\"viewBox=\"0 0 24 24\"\n",
              "       width=\"24px\">\n",
              "    <path d=\"M0 0h24v24H0V0z\" fill=\"none\"/>\n",
              "    <path d=\"M18.56 5.44l.94 2.06.94-2.06 2.06-.94-2.06-.94-.94-2.06-.94 2.06-2.06.94zm-11 1L8.5 8.5l.94-2.06 2.06-.94-2.06-.94L8.5 2.5l-.94 2.06-2.06.94zm10 10l.94 2.06.94-2.06 2.06-.94-2.06-.94-.94-2.06-.94 2.06-2.06.94z\"/><path d=\"M17.41 7.96l-1.37-1.37c-.4-.4-.92-.59-1.43-.59-.52 0-1.04.2-1.43.59L10.3 9.45l-7.72 7.72c-.78.78-.78 2.05 0 2.83L4 21.41c.39.39.9.59 1.41.59.51 0 1.02-.2 1.41-.59l7.78-7.78 2.81-2.81c.8-.78.8-2.07 0-2.86zM5.41 20L4 18.59l7.72-7.72 1.47 1.35L5.41 20z\"/>\n",
              "  </svg>\n",
              "      </button>\n",
              "      \n",
              "  <style>\n",
              "    .colab-df-container {\n",
              "      display:flex;\n",
              "      flex-wrap:wrap;\n",
              "      gap: 12px;\n",
              "    }\n",
              "\n",
              "    .colab-df-convert {\n",
              "      background-color: #E8F0FE;\n",
              "      border: none;\n",
              "      border-radius: 50%;\n",
              "      cursor: pointer;\n",
              "      display: none;\n",
              "      fill: #1967D2;\n",
              "      height: 32px;\n",
              "      padding: 0 0 0 0;\n",
              "      width: 32px;\n",
              "    }\n",
              "\n",
              "    .colab-df-convert:hover {\n",
              "      background-color: #E2EBFA;\n",
              "      box-shadow: 0px 1px 2px rgba(60, 64, 67, 0.3), 0px 1px 3px 1px rgba(60, 64, 67, 0.15);\n",
              "      fill: #174EA6;\n",
              "    }\n",
              "\n",
              "    [theme=dark] .colab-df-convert {\n",
              "      background-color: #3B4455;\n",
              "      fill: #D2E3FC;\n",
              "    }\n",
              "\n",
              "    [theme=dark] .colab-df-convert:hover {\n",
              "      background-color: #434B5C;\n",
              "      box-shadow: 0px 1px 3px 1px rgba(0, 0, 0, 0.15);\n",
              "      filter: drop-shadow(0px 1px 2px rgba(0, 0, 0, 0.3));\n",
              "      fill: #FFFFFF;\n",
              "    }\n",
              "  </style>\n",
              "\n",
              "      <script>\n",
              "        const buttonEl =\n",
              "          document.querySelector('#df-0210dbf2-3e80-4d35-aaac-c40e80bd6542 button.colab-df-convert');\n",
              "        buttonEl.style.display =\n",
              "          google.colab.kernel.accessAllowed ? 'block' : 'none';\n",
              "\n",
              "        async function convertToInteractive(key) {\n",
              "          const element = document.querySelector('#df-0210dbf2-3e80-4d35-aaac-c40e80bd6542');\n",
              "          const dataTable =\n",
              "            await google.colab.kernel.invokeFunction('convertToInteractive',\n",
              "                                                     [key], {});\n",
              "          if (!dataTable) return;\n",
              "\n",
              "          const docLinkHtml = 'Like what you see? Visit the ' +\n",
              "            '<a target=\"_blank\" href=https://colab.research.google.com/notebooks/data_table.ipynb>data table notebook</a>'\n",
              "            + ' to learn more about interactive tables.';\n",
              "          element.innerHTML = '';\n",
              "          dataTable['output_type'] = 'display_data';\n",
              "          await google.colab.output.renderOutput(dataTable, element);\n",
              "          const docLink = document.createElement('div');\n",
              "          docLink.innerHTML = docLinkHtml;\n",
              "          element.appendChild(docLink);\n",
              "        }\n",
              "      </script>\n",
              "    </div>\n",
              "  </div>\n",
              "  "
            ],
            "text/plain": [
              "                                                               0  ...                            4\n",
              "UniqueID                                                  420825  ...                       539055\n",
              "disbursed_amount                                           50578  ...                        52378\n",
              "asset_cost                                                 58400  ...                        60300\n",
              "ltv                                                        89.55  ...                        88.39\n",
              "branch_id                                                     67  ...                           67\n",
              "supplier_id                                                22807  ...                        22807\n",
              "manufacturer_id                                               45  ...                           45\n",
              "Current_pincode_ID                                          1441  ...                         1495\n",
              "Date.of.Birth                                           01-01-84  ...                     09-12-77\n",
              "Employment.Type                                         Salaried  ...                Self employed\n",
              "DisbursalDate                                           03-08-18  ...                     26-09-18\n",
              "State_ID                                                       6  ...                            6\n",
              "Employee_code_ID                                            1998  ...                         1998\n",
              "MobileNo_Avl_Flag                                              1  ...                            1\n",
              "Aadhar_flag                                                    1  ...                            1\n",
              "PAN_flag                                                       0  ...                            0\n",
              "VoterID_flag                                                   0  ...                            0\n",
              "Driving_flag                                                   0  ...                            0\n",
              "Passport_flag                                                  0  ...                            0\n",
              "PERFORM_CNS.SCORE                                              0  ...                            0\n",
              "PERFORM_CNS.SCORE.DESCRIPTION        No Bureau History Available  ...  No Bureau History Available\n",
              "PRI.NO.OF.ACCTS                                                0  ...                            0\n",
              "PRI.ACTIVE.ACCTS                                               0  ...                            0\n",
              "PRI.OVERDUE.ACCTS                                              0  ...                            0\n",
              "PRI.CURRENT.BALANCE                                            0  ...                            0\n",
              "PRI.SANCTIONED.AMOUNT                                          0  ...                            0\n",
              "PRI.DISBURSED.AMOUNT                                           0  ...                            0\n",
              "SEC.NO.OF.ACCTS                                                0  ...                            0\n",
              "SEC.ACTIVE.ACCTS                                               0  ...                            0\n",
              "SEC.OVERDUE.ACCTS                                              0  ...                            0\n",
              "SEC.CURRENT.BALANCE                                            0  ...                            0\n",
              "SEC.SANCTIONED.AMOUNT                                          0  ...                            0\n",
              "SEC.DISBURSED.AMOUNT                                           0  ...                            0\n",
              "PRIMARY.INSTAL.AMT                                             0  ...                            0\n",
              "SEC.INSTAL.AMT                                                 0  ...                            0\n",
              "NEW.ACCTS.IN.LAST.SIX.MONTHS                                   0  ...                            0\n",
              "DELINQUENT.ACCTS.IN.LAST.SIX.MONTHS                            0  ...                            0\n",
              "AVERAGE.ACCT.AGE                                       0yrs 0mon  ...                    0yrs 0mon\n",
              "CREDIT.HISTORY.LENGTH                                  0yrs 0mon  ...                    0yrs 0mon\n",
              "NO.OF_INQUIRIES                                                0  ...                            1\n",
              "loan_default                                                   0  ...                            1\n",
              "\n",
              "[41 rows x 5 columns]"
            ]
          },
          "metadata": {},
          "execution_count": 23
        }
      ]
    },
    {
      "cell_type": "code",
      "source": [
        "train_df.columns"
      ],
      "metadata": {
        "colab": {
          "base_uri": "https://localhost:8080/",
          "height": 166
        },
        "id": "sewBCWvyyKhs",
        "outputId": "cc76544e-eb56-44fa-9bf7-b5ceb8c3c11d"
      },
      "execution_count": null,
      "outputs": [
        {
          "output_type": "error",
          "ename": "NameError",
          "evalue": "ignored",
          "traceback": [
            "\u001b[0;31m---------------------------------------------------------------------------\u001b[0m",
            "\u001b[0;31mNameError\u001b[0m                                 Traceback (most recent call last)",
            "\u001b[0;32m<ipython-input-14-be2b94b55b60>\u001b[0m in \u001b[0;36m<module>\u001b[0;34m()\u001b[0m\n\u001b[0;32m----> 1\u001b[0;31m \u001b[0mtrain_df\u001b[0m\u001b[0;34m.\u001b[0m\u001b[0mcolumns\u001b[0m\u001b[0;34m\u001b[0m\u001b[0;34m\u001b[0m\u001b[0m\n\u001b[0m",
            "\u001b[0;31mNameError\u001b[0m: name 'train_df' is not defined"
          ]
        }
      ]
    },
    {
      "cell_type": "markdown",
      "source": [
        " > #### **2.2.2.1 컬럼명 인덱스 번호 삽입**"
      ],
      "metadata": {
        "id": "NvRMI_QJBFL1"
      }
    },
    {
      "cell_type": "code",
      "source": [
        "#컬럼명 변경\n",
        "train_df.columns = sub_columns"
      ],
      "metadata": {
        "id": "-dxQzVgGr4Si"
      },
      "execution_count": null,
      "outputs": []
    },
    {
      "cell_type": "code",
      "source": [
        "display(train_df.head())"
      ],
      "metadata": {
        "id": "mNzpZc_esMYx"
      },
      "execution_count": null,
      "outputs": []
    },
    {
      "cell_type": "markdown",
      "source": [
        " > #### **2.2.2.2 데이터셋 information 확인**"
      ],
      "metadata": {
        "id": "3RClZ4lgAcls"
      }
    },
    {
      "cell_type": "code",
      "source": [
        "train.info"
      ],
      "metadata": {
        "colab": {
          "base_uri": "https://localhost:8080/",
          "height": 166
        },
        "id": "B3TV3Q-oXyRS",
        "outputId": "18e1818a-5624-4dcd-8822-c39c47d43c01"
      },
      "execution_count": null,
      "outputs": [
        {
          "output_type": "error",
          "ename": "NameError",
          "evalue": "ignored",
          "traceback": [
            "\u001b[0;31m---------------------------------------------------------------------------\u001b[0m",
            "\u001b[0;31mNameError\u001b[0m                                 Traceback (most recent call last)",
            "\u001b[0;32m<ipython-input-1-bda3a428ebf1>\u001b[0m in \u001b[0;36m<module>\u001b[0;34m()\u001b[0m\n\u001b[0;32m----> 1\u001b[0;31m \u001b[0mtrain\u001b[0m\u001b[0;34m.\u001b[0m\u001b[0minfo\u001b[0m\u001b[0;34m\u001b[0m\u001b[0;34m\u001b[0m\u001b[0m\n\u001b[0m",
            "\u001b[0;31mNameError\u001b[0m: name 'train' is not defined"
          ]
        }
      ]
    },
    {
      "cell_type": "code",
      "source": [
        "train.describe()"
      ],
      "metadata": {
        "colab": {
          "base_uri": "https://localhost:8080/",
          "height": 307
        },
        "id": "eNncaByUBrq6",
        "outputId": "d2d0d58e-4d1a-41fc-9fae-4f443be293e9"
      },
      "execution_count": null,
      "outputs": [
        {
          "output_type": "execute_result",
          "data": {
            "text/html": [
              "\n",
              "  <div id=\"df-89dccc42-7271-425b-a9b8-111a96e0404f\">\n",
              "    <div class=\"colab-df-container\">\n",
              "      <div>\n",
              "<style scoped>\n",
              "    .dataframe tbody tr th:only-of-type {\n",
              "        vertical-align: middle;\n",
              "    }\n",
              "\n",
              "    .dataframe tbody tr th {\n",
              "        vertical-align: top;\n",
              "    }\n",
              "\n",
              "    .dataframe thead th {\n",
              "        text-align: right;\n",
              "    }\n",
              "</style>\n",
              "<table border=\"1\" class=\"dataframe\">\n",
              "  <thead>\n",
              "    <tr style=\"text-align: right;\">\n",
              "      <th></th>\n",
              "      <th>UniqueID</th>\n",
              "      <th>disbursed_amount</th>\n",
              "      <th>asset_cost</th>\n",
              "      <th>ltv</th>\n",
              "      <th>branch_id</th>\n",
              "      <th>supplier_id</th>\n",
              "      <th>manufacturer_id</th>\n",
              "      <th>Current_pincode_ID</th>\n",
              "      <th>State_ID</th>\n",
              "      <th>Employee_code_ID</th>\n",
              "      <th>MobileNo_Avl_Flag</th>\n",
              "      <th>Aadhar_flag</th>\n",
              "      <th>PAN_flag</th>\n",
              "      <th>VoterID_flag</th>\n",
              "      <th>Driving_flag</th>\n",
              "      <th>Passport_flag</th>\n",
              "      <th>PERFORM_CNS.SCORE</th>\n",
              "      <th>PRI.NO.OF.ACCTS</th>\n",
              "      <th>PRI.ACTIVE.ACCTS</th>\n",
              "      <th>PRI.OVERDUE.ACCTS</th>\n",
              "      <th>PRI.CURRENT.BALANCE</th>\n",
              "      <th>PRI.SANCTIONED.AMOUNT</th>\n",
              "      <th>PRI.DISBURSED.AMOUNT</th>\n",
              "      <th>SEC.NO.OF.ACCTS</th>\n",
              "      <th>SEC.ACTIVE.ACCTS</th>\n",
              "      <th>SEC.OVERDUE.ACCTS</th>\n",
              "      <th>SEC.CURRENT.BALANCE</th>\n",
              "      <th>SEC.SANCTIONED.AMOUNT</th>\n",
              "      <th>SEC.DISBURSED.AMOUNT</th>\n",
              "      <th>PRIMARY.INSTAL.AMT</th>\n",
              "      <th>SEC.INSTAL.AMT</th>\n",
              "      <th>NEW.ACCTS.IN.LAST.SIX.MONTHS</th>\n",
              "      <th>DELINQUENT.ACCTS.IN.LAST.SIX.MONTHS</th>\n",
              "      <th>NO.OF_INQUIRIES</th>\n",
              "      <th>loan_default</th>\n",
              "    </tr>\n",
              "  </thead>\n",
              "  <tbody>\n",
              "    <tr>\n",
              "      <th>count</th>\n",
              "      <td>233154.000000</td>\n",
              "      <td>233154.000000</td>\n",
              "      <td>2.331540e+05</td>\n",
              "      <td>233154.000000</td>\n",
              "      <td>233154.000000</td>\n",
              "      <td>233154.000000</td>\n",
              "      <td>233154.000000</td>\n",
              "      <td>233154.000000</td>\n",
              "      <td>233154.000000</td>\n",
              "      <td>233154.000000</td>\n",
              "      <td>233154.0</td>\n",
              "      <td>233154.00000</td>\n",
              "      <td>233154.000000</td>\n",
              "      <td>233154.000000</td>\n",
              "      <td>233154.000000</td>\n",
              "      <td>233154.000000</td>\n",
              "      <td>233154.000000</td>\n",
              "      <td>233154.000000</td>\n",
              "      <td>233154.000000</td>\n",
              "      <td>233154.000000</td>\n",
              "      <td>2.331540e+05</td>\n",
              "      <td>2.331540e+05</td>\n",
              "      <td>2.331540e+05</td>\n",
              "      <td>233154.000000</td>\n",
              "      <td>233154.000000</td>\n",
              "      <td>233154.000000</td>\n",
              "      <td>2.331540e+05</td>\n",
              "      <td>2.331540e+05</td>\n",
              "      <td>2.331540e+05</td>\n",
              "      <td>2.331540e+05</td>\n",
              "      <td>2.331540e+05</td>\n",
              "      <td>233154.000000</td>\n",
              "      <td>233154.000000</td>\n",
              "      <td>233154.000000</td>\n",
              "      <td>233154.000000</td>\n",
              "    </tr>\n",
              "    <tr>\n",
              "      <th>mean</th>\n",
              "      <td>535917.573376</td>\n",
              "      <td>54356.993528</td>\n",
              "      <td>7.586507e+04</td>\n",
              "      <td>74.746530</td>\n",
              "      <td>72.936094</td>\n",
              "      <td>19638.635035</td>\n",
              "      <td>69.028054</td>\n",
              "      <td>3396.880247</td>\n",
              "      <td>7.262243</td>\n",
              "      <td>1549.477148</td>\n",
              "      <td>1.0</td>\n",
              "      <td>0.84032</td>\n",
              "      <td>0.075577</td>\n",
              "      <td>0.144943</td>\n",
              "      <td>0.023242</td>\n",
              "      <td>0.002127</td>\n",
              "      <td>289.462994</td>\n",
              "      <td>2.440636</td>\n",
              "      <td>1.039896</td>\n",
              "      <td>0.156549</td>\n",
              "      <td>1.659001e+05</td>\n",
              "      <td>2.185039e+05</td>\n",
              "      <td>2.180659e+05</td>\n",
              "      <td>0.059081</td>\n",
              "      <td>0.027703</td>\n",
              "      <td>0.007244</td>\n",
              "      <td>5.427793e+03</td>\n",
              "      <td>7.295923e+03</td>\n",
              "      <td>7.179998e+03</td>\n",
              "      <td>1.310548e+04</td>\n",
              "      <td>3.232684e+02</td>\n",
              "      <td>0.381833</td>\n",
              "      <td>0.097481</td>\n",
              "      <td>0.206615</td>\n",
              "      <td>0.217071</td>\n",
              "    </tr>\n",
              "    <tr>\n",
              "      <th>std</th>\n",
              "      <td>68315.693711</td>\n",
              "      <td>12971.314171</td>\n",
              "      <td>1.894478e+04</td>\n",
              "      <td>11.456636</td>\n",
              "      <td>69.834995</td>\n",
              "      <td>3491.949566</td>\n",
              "      <td>22.141304</td>\n",
              "      <td>2238.147502</td>\n",
              "      <td>4.482230</td>\n",
              "      <td>975.261278</td>\n",
              "      <td>0.0</td>\n",
              "      <td>0.36631</td>\n",
              "      <td>0.264320</td>\n",
              "      <td>0.352044</td>\n",
              "      <td>0.150672</td>\n",
              "      <td>0.046074</td>\n",
              "      <td>338.374779</td>\n",
              "      <td>5.217233</td>\n",
              "      <td>1.941496</td>\n",
              "      <td>0.548787</td>\n",
              "      <td>9.422736e+05</td>\n",
              "      <td>2.374794e+06</td>\n",
              "      <td>2.377744e+06</td>\n",
              "      <td>0.626795</td>\n",
              "      <td>0.316057</td>\n",
              "      <td>0.111079</td>\n",
              "      <td>1.702370e+05</td>\n",
              "      <td>1.831560e+05</td>\n",
              "      <td>1.825925e+05</td>\n",
              "      <td>1.513679e+05</td>\n",
              "      <td>1.555369e+04</td>\n",
              "      <td>0.955107</td>\n",
              "      <td>0.384439</td>\n",
              "      <td>0.706498</td>\n",
              "      <td>0.412252</td>\n",
              "    </tr>\n",
              "    <tr>\n",
              "      <th>min</th>\n",
              "      <td>417428.000000</td>\n",
              "      <td>13320.000000</td>\n",
              "      <td>3.700000e+04</td>\n",
              "      <td>10.030000</td>\n",
              "      <td>1.000000</td>\n",
              "      <td>10524.000000</td>\n",
              "      <td>45.000000</td>\n",
              "      <td>1.000000</td>\n",
              "      <td>1.000000</td>\n",
              "      <td>1.000000</td>\n",
              "      <td>1.0</td>\n",
              "      <td>0.00000</td>\n",
              "      <td>0.000000</td>\n",
              "      <td>0.000000</td>\n",
              "      <td>0.000000</td>\n",
              "      <td>0.000000</td>\n",
              "      <td>0.000000</td>\n",
              "      <td>0.000000</td>\n",
              "      <td>0.000000</td>\n",
              "      <td>0.000000</td>\n",
              "      <td>-6.678296e+06</td>\n",
              "      <td>0.000000e+00</td>\n",
              "      <td>0.000000e+00</td>\n",
              "      <td>0.000000</td>\n",
              "      <td>0.000000</td>\n",
              "      <td>0.000000</td>\n",
              "      <td>-5.746470e+05</td>\n",
              "      <td>0.000000e+00</td>\n",
              "      <td>0.000000e+00</td>\n",
              "      <td>0.000000e+00</td>\n",
              "      <td>0.000000e+00</td>\n",
              "      <td>0.000000</td>\n",
              "      <td>0.000000</td>\n",
              "      <td>0.000000</td>\n",
              "      <td>0.000000</td>\n",
              "    </tr>\n",
              "    <tr>\n",
              "      <th>25%</th>\n",
              "      <td>476786.250000</td>\n",
              "      <td>47145.000000</td>\n",
              "      <td>6.571700e+04</td>\n",
              "      <td>68.880000</td>\n",
              "      <td>14.000000</td>\n",
              "      <td>16535.000000</td>\n",
              "      <td>48.000000</td>\n",
              "      <td>1511.000000</td>\n",
              "      <td>4.000000</td>\n",
              "      <td>713.000000</td>\n",
              "      <td>1.0</td>\n",
              "      <td>1.00000</td>\n",
              "      <td>0.000000</td>\n",
              "      <td>0.000000</td>\n",
              "      <td>0.000000</td>\n",
              "      <td>0.000000</td>\n",
              "      <td>0.000000</td>\n",
              "      <td>0.000000</td>\n",
              "      <td>0.000000</td>\n",
              "      <td>0.000000</td>\n",
              "      <td>0.000000e+00</td>\n",
              "      <td>0.000000e+00</td>\n",
              "      <td>0.000000e+00</td>\n",
              "      <td>0.000000</td>\n",
              "      <td>0.000000</td>\n",
              "      <td>0.000000</td>\n",
              "      <td>0.000000e+00</td>\n",
              "      <td>0.000000e+00</td>\n",
              "      <td>0.000000e+00</td>\n",
              "      <td>0.000000e+00</td>\n",
              "      <td>0.000000e+00</td>\n",
              "      <td>0.000000</td>\n",
              "      <td>0.000000</td>\n",
              "      <td>0.000000</td>\n",
              "      <td>0.000000</td>\n",
              "    </tr>\n",
              "    <tr>\n",
              "      <th>50%</th>\n",
              "      <td>535978.500000</td>\n",
              "      <td>53803.000000</td>\n",
              "      <td>7.094600e+04</td>\n",
              "      <td>76.800000</td>\n",
              "      <td>61.000000</td>\n",
              "      <td>20333.000000</td>\n",
              "      <td>86.000000</td>\n",
              "      <td>2970.000000</td>\n",
              "      <td>6.000000</td>\n",
              "      <td>1451.000000</td>\n",
              "      <td>1.0</td>\n",
              "      <td>1.00000</td>\n",
              "      <td>0.000000</td>\n",
              "      <td>0.000000</td>\n",
              "      <td>0.000000</td>\n",
              "      <td>0.000000</td>\n",
              "      <td>0.000000</td>\n",
              "      <td>0.000000</td>\n",
              "      <td>0.000000</td>\n",
              "      <td>0.000000</td>\n",
              "      <td>0.000000e+00</td>\n",
              "      <td>0.000000e+00</td>\n",
              "      <td>0.000000e+00</td>\n",
              "      <td>0.000000</td>\n",
              "      <td>0.000000</td>\n",
              "      <td>0.000000</td>\n",
              "      <td>0.000000e+00</td>\n",
              "      <td>0.000000e+00</td>\n",
              "      <td>0.000000e+00</td>\n",
              "      <td>0.000000e+00</td>\n",
              "      <td>0.000000e+00</td>\n",
              "      <td>0.000000</td>\n",
              "      <td>0.000000</td>\n",
              "      <td>0.000000</td>\n",
              "      <td>0.000000</td>\n",
              "    </tr>\n",
              "    <tr>\n",
              "      <th>75%</th>\n",
              "      <td>595039.750000</td>\n",
              "      <td>60413.000000</td>\n",
              "      <td>7.920175e+04</td>\n",
              "      <td>83.670000</td>\n",
              "      <td>130.000000</td>\n",
              "      <td>23000.000000</td>\n",
              "      <td>86.000000</td>\n",
              "      <td>5677.000000</td>\n",
              "      <td>10.000000</td>\n",
              "      <td>2362.000000</td>\n",
              "      <td>1.0</td>\n",
              "      <td>1.00000</td>\n",
              "      <td>0.000000</td>\n",
              "      <td>0.000000</td>\n",
              "      <td>0.000000</td>\n",
              "      <td>0.000000</td>\n",
              "      <td>678.000000</td>\n",
              "      <td>3.000000</td>\n",
              "      <td>1.000000</td>\n",
              "      <td>0.000000</td>\n",
              "      <td>3.500650e+04</td>\n",
              "      <td>6.250000e+04</td>\n",
              "      <td>6.080000e+04</td>\n",
              "      <td>0.000000</td>\n",
              "      <td>0.000000</td>\n",
              "      <td>0.000000</td>\n",
              "      <td>0.000000e+00</td>\n",
              "      <td>0.000000e+00</td>\n",
              "      <td>0.000000e+00</td>\n",
              "      <td>1.999000e+03</td>\n",
              "      <td>0.000000e+00</td>\n",
              "      <td>0.000000</td>\n",
              "      <td>0.000000</td>\n",
              "      <td>0.000000</td>\n",
              "      <td>0.000000</td>\n",
              "    </tr>\n",
              "    <tr>\n",
              "      <th>max</th>\n",
              "      <td>671084.000000</td>\n",
              "      <td>990572.000000</td>\n",
              "      <td>1.628992e+06</td>\n",
              "      <td>95.000000</td>\n",
              "      <td>261.000000</td>\n",
              "      <td>24803.000000</td>\n",
              "      <td>156.000000</td>\n",
              "      <td>7345.000000</td>\n",
              "      <td>22.000000</td>\n",
              "      <td>3795.000000</td>\n",
              "      <td>1.0</td>\n",
              "      <td>1.00000</td>\n",
              "      <td>1.000000</td>\n",
              "      <td>1.000000</td>\n",
              "      <td>1.000000</td>\n",
              "      <td>1.000000</td>\n",
              "      <td>890.000000</td>\n",
              "      <td>453.000000</td>\n",
              "      <td>144.000000</td>\n",
              "      <td>25.000000</td>\n",
              "      <td>9.652492e+07</td>\n",
              "      <td>1.000000e+09</td>\n",
              "      <td>1.000000e+09</td>\n",
              "      <td>52.000000</td>\n",
              "      <td>36.000000</td>\n",
              "      <td>8.000000</td>\n",
              "      <td>3.603285e+07</td>\n",
              "      <td>3.000000e+07</td>\n",
              "      <td>3.000000e+07</td>\n",
              "      <td>2.564281e+07</td>\n",
              "      <td>4.170901e+06</td>\n",
              "      <td>35.000000</td>\n",
              "      <td>20.000000</td>\n",
              "      <td>36.000000</td>\n",
              "      <td>1.000000</td>\n",
              "    </tr>\n",
              "  </tbody>\n",
              "</table>\n",
              "</div>\n",
              "      <button class=\"colab-df-convert\" onclick=\"convertToInteractive('df-89dccc42-7271-425b-a9b8-111a96e0404f')\"\n",
              "              title=\"Convert this dataframe to an interactive table.\"\n",
              "              style=\"display:none;\">\n",
              "        \n",
              "  <svg xmlns=\"http://www.w3.org/2000/svg\" height=\"24px\"viewBox=\"0 0 24 24\"\n",
              "       width=\"24px\">\n",
              "    <path d=\"M0 0h24v24H0V0z\" fill=\"none\"/>\n",
              "    <path d=\"M18.56 5.44l.94 2.06.94-2.06 2.06-.94-2.06-.94-.94-2.06-.94 2.06-2.06.94zm-11 1L8.5 8.5l.94-2.06 2.06-.94-2.06-.94L8.5 2.5l-.94 2.06-2.06.94zm10 10l.94 2.06.94-2.06 2.06-.94-2.06-.94-.94-2.06-.94 2.06-2.06.94z\"/><path d=\"M17.41 7.96l-1.37-1.37c-.4-.4-.92-.59-1.43-.59-.52 0-1.04.2-1.43.59L10.3 9.45l-7.72 7.72c-.78.78-.78 2.05 0 2.83L4 21.41c.39.39.9.59 1.41.59.51 0 1.02-.2 1.41-.59l7.78-7.78 2.81-2.81c.8-.78.8-2.07 0-2.86zM5.41 20L4 18.59l7.72-7.72 1.47 1.35L5.41 20z\"/>\n",
              "  </svg>\n",
              "      </button>\n",
              "      \n",
              "  <style>\n",
              "    .colab-df-container {\n",
              "      display:flex;\n",
              "      flex-wrap:wrap;\n",
              "      gap: 12px;\n",
              "    }\n",
              "\n",
              "    .colab-df-convert {\n",
              "      background-color: #E8F0FE;\n",
              "      border: none;\n",
              "      border-radius: 50%;\n",
              "      cursor: pointer;\n",
              "      display: none;\n",
              "      fill: #1967D2;\n",
              "      height: 32px;\n",
              "      padding: 0 0 0 0;\n",
              "      width: 32px;\n",
              "    }\n",
              "\n",
              "    .colab-df-convert:hover {\n",
              "      background-color: #E2EBFA;\n",
              "      box-shadow: 0px 1px 2px rgba(60, 64, 67, 0.3), 0px 1px 3px 1px rgba(60, 64, 67, 0.15);\n",
              "      fill: #174EA6;\n",
              "    }\n",
              "\n",
              "    [theme=dark] .colab-df-convert {\n",
              "      background-color: #3B4455;\n",
              "      fill: #D2E3FC;\n",
              "    }\n",
              "\n",
              "    [theme=dark] .colab-df-convert:hover {\n",
              "      background-color: #434B5C;\n",
              "      box-shadow: 0px 1px 3px 1px rgba(0, 0, 0, 0.15);\n",
              "      filter: drop-shadow(0px 1px 2px rgba(0, 0, 0, 0.3));\n",
              "      fill: #FFFFFF;\n",
              "    }\n",
              "  </style>\n",
              "\n",
              "      <script>\n",
              "        const buttonEl =\n",
              "          document.querySelector('#df-89dccc42-7271-425b-a9b8-111a96e0404f button.colab-df-convert');\n",
              "        buttonEl.style.display =\n",
              "          google.colab.kernel.accessAllowed ? 'block' : 'none';\n",
              "\n",
              "        async function convertToInteractive(key) {\n",
              "          const element = document.querySelector('#df-89dccc42-7271-425b-a9b8-111a96e0404f');\n",
              "          const dataTable =\n",
              "            await google.colab.kernel.invokeFunction('convertToInteractive',\n",
              "                                                     [key], {});\n",
              "          if (!dataTable) return;\n",
              "\n",
              "          const docLinkHtml = 'Like what you see? Visit the ' +\n",
              "            '<a target=\"_blank\" href=https://colab.research.google.com/notebooks/data_table.ipynb>data table notebook</a>'\n",
              "            + ' to learn more about interactive tables.';\n",
              "          element.innerHTML = '';\n",
              "          dataTable['output_type'] = 'display_data';\n",
              "          await google.colab.output.renderOutput(dataTable, element);\n",
              "          const docLink = document.createElement('div');\n",
              "          docLink.innerHTML = docLinkHtml;\n",
              "          element.appendChild(docLink);\n",
              "        }\n",
              "      </script>\n",
              "    </div>\n",
              "  </div>\n",
              "  "
            ],
            "text/plain": [
              "            UniqueID  disbursed_amount  ...  NO.OF_INQUIRIES   loan_default\n",
              "count  233154.000000     233154.000000  ...    233154.000000  233154.000000\n",
              "mean   535917.573376      54356.993528  ...         0.206615       0.217071\n",
              "std     68315.693711      12971.314171  ...         0.706498       0.412252\n",
              "min    417428.000000      13320.000000  ...         0.000000       0.000000\n",
              "25%    476786.250000      47145.000000  ...         0.000000       0.000000\n",
              "50%    535978.500000      53803.000000  ...         0.000000       0.000000\n",
              "75%    595039.750000      60413.000000  ...         0.000000       0.000000\n",
              "max    671084.000000     990572.000000  ...        36.000000       1.000000\n",
              "\n",
              "[8 rows x 35 columns]"
            ]
          },
          "metadata": {},
          "execution_count": 29
        },
        {
          "output_type": "stream",
          "name": "stdout",
          "text": [
            "Warning: Total number of columns (35) exceeds max_columns (20) limiting to first (20) columns.\n"
          ]
        }
      ]
    },
    {
      "cell_type": "code",
      "source": [
        "display(train_df.describe())"
      ],
      "metadata": {
        "id": "uAq8DgKCB5xU"
      },
      "execution_count": null,
      "outputs": []
    },
    {
      "cell_type": "markdown",
      "source": [
        " > #### **2.2.2.3 데이터셋 결측치 확인**"
      ],
      "metadata": {
        "id": "SkAFxDMvhHll"
      }
    },
    {
      "cell_type": "markdown",
      "source": [
        "Q : isnull, isna 차이는? <br>\n",
        "> isnull과 isna 는 같은 기능을 합니다. <br>\n",
        "isnull의 문서를 보면 isna의 별칭이라고 쓰여져 있어요. <br>\n",
        "na 는 Numpy의 Na(Not a Number)값을  의미해요. <br>\n",
        "결측치, 없는 값이죠. 그래서 isna 로 결측치를 보는데요. <br>\n",
        "보통 데이터베이스 등에서는 결측치를 null 로 표현해요. <br>\n",
        "> 그래서 na보다는 null이라는 단어에 익숙한 사람들을 위해 <br>\n",
        "isna를 isnull 로 사용할 수 있도록 별칭을 만들어 놓은 것 같습니다.\n"
      ],
      "metadata": {
        "id": "7qyFMeA5uDUb"
      }
    },
    {
      "cell_type": "code",
      "source": [
        "train_df.isna().sum()"
      ],
      "metadata": {
        "id": "p0m-SLLOtnxW"
      },
      "execution_count": null,
      "outputs": []
    },
    {
      "cell_type": "code",
      "source": [
        "train_df.isnull().sum()"
      ],
      "metadata": {
        "collapsed": true,
        "id": "YV-bJJFWiL-Q"
      },
      "execution_count": null,
      "outputs": []
    },
    {
      "cell_type": "markdown",
      "source": [
        " > ##### **2.2.2.3.1 seaborn으로 결측치 시각화**\n",
        "\n",
        "\n"
      ],
      "metadata": {
        "id": "kxV53hvYlUck"
      }
    },
    {
      "cell_type": "markdown",
      "source": [
        "- 📌 [seaborn.heatmap](https://seaborn.pydata.org/generated/seaborn.heatmap.html)"
      ],
      "metadata": {
        "id": "nKTaCF2wzL6J"
      }
    },
    {
      "cell_type": "code",
      "source": [
        "import pandas as pd\n",
        "from matplotlib import pyplot as plt\n",
        "import seaborn as sns\n",
        "%matplotlib inline\n",
        "\n",
        "sns.heatmap(train.isnull(), cmap = \"BuPu\")\n",
        "plt.show()"
      ],
      "metadata": {
        "id": "6rXKsV2ioVcM"
      },
      "execution_count": null,
      "outputs": []
    },
    {
      "cell_type": "markdown",
      "source": [
        " > ##### **2.2.2.3.2 missingno로 결측치 시각화**\n",
        "\n",
        "\n"
      ],
      "metadata": {
        "id": "ub3wMfw_26sR"
      }
    },
    {
      "cell_type": "markdown",
      "source": [
        "- 📌 [missingno](https://github.com/ResidentMario/missingno.git)"
      ],
      "metadata": {
        "id": "9W7TAw2D6339"
      }
    },
    {
      "cell_type": "code",
      "source": [
        "import missingno as msno"
      ],
      "metadata": {
        "id": "9NkCkEn63j8i"
      },
      "execution_count": null,
      "outputs": []
    },
    {
      "cell_type": "markdown",
      "source": [
        " > ###### **2.2.2.3.2.1 Matrix**\n",
        "\n",
        "\n"
      ],
      "metadata": {
        "id": "rWZxh4Jt3L2i"
      }
    },
    {
      "cell_type": "code",
      "source": [
        "#Color RGB값 입력 (0 ~ 1 사이로 rescaling 필요)\n",
        "input_color = (int(input(\"R:\"))/255 , int(input(\"G:\"))/255, int(input(\"B:\"))/255)"
      ],
      "metadata": {
        "id": "QD5CaQEq2_R0",
        "colab": {
          "base_uri": "https://localhost:8080/"
        },
        "outputId": "ae44d97a-0c83-4313-9b13-566df647ff3f"
      },
      "execution_count": null,
      "outputs": [
        {
          "name": "stdout",
          "output_type": "stream",
          "text": [
            "R:20\n",
            "G:78\n",
            "B:138\n"
          ]
        }
      ]
    },
    {
      "cell_type": "code",
      "source": [
        "msno.matrix(train, color = input_color, fontsize = 10)"
      ],
      "metadata": {
        "id": "AVWJ3DDD3pe4",
        "colab": {
          "base_uri": "https://localhost:8080/",
          "height": 759
        },
        "outputId": "20bec95f-6310-409c-a2ec-65801fa825f3"
      },
      "execution_count": null,
      "outputs": [
        {
          "output_type": "execute_result",
          "data": {
            "text/plain": [
              "<matplotlib.axes._subplots.AxesSubplot at 0x7f84a834d8d0>"
            ]
          },
          "metadata": {},
          "execution_count": 32
        },
        {
          "output_type": "display_data",
          "data": {
            "image/png": "[encoded data removed]",
            "text/plain": [
              "<Figure size 1800x720 with 2 Axes>"
            ]
          },
          "metadata": {
            "needs_background": "light"
          }
        }
      ]
    },
    {
      "cell_type": "markdown",
      "source": [
        " > ###### **2.2.2.3.2.2 bar**\n",
        "\n",
        "\n"
      ],
      "metadata": {
        "id": "DYrtFoA97ciT"
      }
    },
    {
      "cell_type": "code",
      "source": [
        "msno.bar(train, color = input_color, fontsize = 10)"
      ],
      "metadata": {
        "id": "cXyRnk8R59mO",
        "colab": {
          "base_uri": "https://localhost:8080/",
          "height": 792
        },
        "outputId": "f2832053-c162-4e32-9725-1ff17025ee84"
      },
      "execution_count": null,
      "outputs": [
        {
          "output_type": "execute_result",
          "data": {
            "text/plain": [
              "<matplotlib.axes._subplots.AxesSubplot at 0x7f84a5a16050>"
            ]
          },
          "metadata": {},
          "execution_count": 33
        },
        {
          "output_type": "display_data",
          "data": {
            "image/png": "[encoded data removed]",
            "text/plain": [
              "<Figure size 1800x720 with 3 Axes>"
            ]
          },
          "metadata": {
            "needs_background": "light"
          }
        }
      ]
    },
    {
      "cell_type": "markdown",
      "source": [
        " > ###### **2.2.2.3.2.2 dendrogram**\n",
        "\n",
        "\n"
      ],
      "metadata": {
        "id": "q01wpmR8ATL8"
      }
    },
    {
      "cell_type": "code",
      "source": [
        "msno.dendrogram(train_df, fontsize = 10) "
      ],
      "metadata": {
        "id": "BS6wF8LfAXr1"
      },
      "execution_count": null,
      "outputs": []
    },
    {
      "cell_type": "code",
      "source": [
        ""
      ],
      "metadata": {
        "id": "v6m-LHiEA0EY"
      },
      "execution_count": null,
      "outputs": []
    }
  ]
}